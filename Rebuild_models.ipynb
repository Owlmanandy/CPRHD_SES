{
 "cells": [
  {
   "cell_type": "code",
   "execution_count": 63,
   "metadata": {},
   "outputs": [],
   "source": [
    "import numpy as np\n",
    "import time\n",
    "import scipy.stats as stats\n",
    "import pandas as pd\n",
    "from matplotlib import pyplot as plt\n",
    "from sklearn.ensemble import RandomForestClassifier\n",
    "from sklearn import metrics\n",
    "from sklearn.model_selection import GridSearchCV, train_test_split\n",
    "from scipy import special\n",
    "from sklearn.metrics import roc_auc_score,roc_curve\n",
    "from sklearn.linear_model import LinearRegression\n",
    "from sklearn.metrics import r2_score\n",
    "from matplotlib import pyplot"
   ]
  },
  {
   "cell_type": "markdown",
   "metadata": {},
   "source": [
    "## Rebuild the best model given in Table 6"
   ]
  },
  {
   "cell_type": "code",
   "execution_count": 57,
   "metadata": {},
   "outputs": [],
   "source": [
    "data = pd.read_sas('/home/guangya/Downloads/wnv_2245new.sas7bdat')\n",
    "x = data[['templag2','templag3','templag4','Jantemp','mirlag1','mirlag2','mirlag3','mirlag4', 'totpop','owpct','dlipct','dfpct','glandpct','hpctpost90']].values\n",
    "y = data['wnvbinary'].values\n",
    "x = x.astype('float')\n",
    "beta = np.array([0.06963,\n",
    "0.1085,\n",
    "0.1628,\n",
    "0.3613,\n",
    "0.003199,\n",
    "0.003938,\n",
    "0.004003,\n",
    "0.003958,\n",
    "0.000225,\n",
    "-0.05527,\n",
    "0.01848,\n",
    "-0.02401,\n",
    "-0.04603,\n",
    "-0.00546])\n",
    "z = np.array([1.1769])\n",
    "random = data['hexid'].values\n",
    "random = random.reshape(len(random),1)\n",
    "y_pred = special.expit(x@beta + random@z) # Formula for GLMM"
   ]
  },
  {
   "cell_type": "code",
   "execution_count": 58,
   "metadata": {},
   "outputs": [],
   "source": [
    "auc = roc_auc_score(y, y_pred) # The result is really bad, not sure why"
   ]
  },
  {
   "cell_type": "code",
   "execution_count": 59,
   "metadata": {},
   "outputs": [
    {
     "data": {
      "text/plain": [
       "0.5026111477762134"
      ]
     },
     "execution_count": 59,
     "metadata": {},
     "output_type": "execute_result"
    }
   ],
   "source": [
    "auc"
   ]
  },
  {
   "cell_type": "code",
   "execution_count": 64,
   "metadata": {},
   "outputs": [
    {
     "data": {
      "image/png": "[encoded data removed]",
      "text/plain": [
       "<Figure size 432x288 with 1 Axes>"
      ]
     },
     "metadata": {
      "needs_background": "light"
     },
     "output_type": "display_data"
    }
   ],
   "source": [
    "# calculate roc curve\n",
    "fpr, tpr, thresholds = roc_curve(y, 1-y_pred)\n",
    "# plot no skill\n",
    "pyplot.plot([0, 1], [0, 1], linestyle='--')\n",
    "# plot the roc curve for the model\n",
    "pyplot.plot(fpr, tpr, marker='.')\n",
    "# show the plot\n",
    "pyplot.show()"
   ]
  },
  {
   "cell_type": "markdown",
   "metadata": {},
   "source": [
    "### Rebuild the model for Table 5"
   ]
  },
  {
   "cell_type": "code",
   "execution_count": 25,
   "metadata": {},
   "outputs": [],
   "source": [
    "## Comments： The GLMM implemented in python is not good. It does not have the same parameter set as in the original sas file and the documentation is also confusing. Will \n",
    "## try use R in the future, tried it once but it was super slow. Also, the features given in the best model is different from table 6, not sure why"
   ]
  },
  {
   "cell_type": "markdown",
   "metadata": {},
   "source": [
    "## Rebuild the model for Table 4"
   ]
  },
  {
   "cell_type": "code",
   "execution_count": 26,
   "metadata": {},
   "outputs": [
    {
     "data": {
      "text/plain": [
       "Index(['hexid', 'Input_FID', 'tempc', 'preci', 'yr', 'weeks', 'yrweeks',\n",
       "       'yrwksfid', 'templag1', 'templag2', 'templag3', 'templag4', 'precilag1',\n",
       "       'precilag2', 'precilag3', 'precilag4', 'wnvbinary', 'mirmean', 'year',\n",
       "       'mirlag1', 'mirlag2', 'mirlag3', 'mirlag4', 'totpop', 'whitepct',\n",
       "       'blackpct', 'asianpct', 'hispanicpct', 'Income', 'owpct', 'dospct',\n",
       "       'dlipct', 'dmipct', 'dhipct', 'blpct', 'dfpct', 'efpct', 'mfpct',\n",
       "       'shrubpct', 'glandpct', 'pasturepct', 'ccpct', 'wwpct', 'ehwpct',\n",
       "       'yr_hexid', 'Jantemp', 'PopYesNo', 'hpctpreww', 'hpctpostww',\n",
       "       'hpct7089', 'hpctpost90', 'income1'],\n",
       "      dtype='object')"
      ]
     },
     "execution_count": 26,
     "metadata": {},
     "output_type": "execute_result"
    }
   ],
   "source": [
    "data.columns"
   ]
  },
  {
   "cell_type": "code",
   "execution_count": null,
   "metadata": {},
   "outputs": [],
   "source": [
    "### We are unable to reproduce some because we do not have the weekly Number of positive pools in the data set"
   ]
  },
  {
   "cell_type": "code",
   "execution_count": 36,
   "metadata": {},
   "outputs": [],
   "source": [
    "y = np.array([181,129,43,10,1,47,24,229,66,31,36,108]) # wnv occurence according to table 2"
   ]
  },
  {
   "cell_type": "code",
   "execution_count": 41,
   "metadata": {},
   "outputs": [],
   "source": [
    "data_t4 = data[data['weeks'] >= 28]\n",
    "data_t4 = data[data['weeks'] <= 33]\n",
    "x = (data_t4.groupby('year').mean()['mirmean']).values\n",
    "intercept = 13.7 # build the best model"
   ]
  },
  {
   "cell_type": "code",
   "execution_count": 42,
   "metadata": {},
   "outputs": [
    {
     "data": {
      "text/plain": [
       "array([ 6.46423345,  7.66727892,  2.55757242,  0.66935645,  1.03690635,\n",
       "        2.4718636 ,  1.68553876, 11.58927777,  2.40464133,  1.43911359,\n",
       "        2.30766663,  5.74013193])"
      ]
     },
     "execution_count": 42,
     "metadata": {},
     "output_type": "execute_result"
    }
   ],
   "source": [
    "x"
   ]
  },
  {
   "cell_type": "code",
   "execution_count": 52,
   "metadata": {},
   "outputs": [],
   "source": [
    "y_pred_origin = 14.7 * x + intercept # fit the parameters of best model in the table"
   ]
  },
  {
   "cell_type": "code",
   "execution_count": 53,
   "metadata": {},
   "outputs": [
    {
     "data": {
      "text/plain": [
       "0.6556067352347158"
      ]
     },
     "execution_count": 53,
     "metadata": {},
     "output_type": "execute_result"
    }
   ],
   "source": [
    "r2_score(y_pred_origin,y) # bad"
   ]
  },
  {
   "cell_type": "code",
   "execution_count": 47,
   "metadata": {},
   "outputs": [],
   "source": [
    "reg = LinearRegression().fit(x[:,np.newaxis],y) # fit my own model"
   ]
  },
  {
   "cell_type": "code",
   "execution_count": 48,
   "metadata": {},
   "outputs": [
    {
     "data": {
      "text/plain": [
       "0.9253476388609999"
      ]
     },
     "execution_count": 48,
     "metadata": {},
     "output_type": "execute_result"
    }
   ],
   "source": [
    "reg.score(x[:,np.newaxis],y) # Got a similar r^2 as the best model in table, but the coefficient is different"
   ]
  },
  {
   "cell_type": "code",
   "execution_count": 49,
   "metadata": {},
   "outputs": [
    {
     "data": {
      "text/plain": [
       "array([20.76805585])"
      ]
     },
     "execution_count": 49,
     "metadata": {},
     "output_type": "execute_result"
    }
   ],
   "source": [
    "reg."
   ]
  },
  {
   "cell_type": "code",
   "execution_count": 50,
   "metadata": {},
   "outputs": [
    {
     "data": {
      "text/plain": [
       "-4.252332093920131"
      ]
     },
     "execution_count": 50,
     "metadata": {},
     "output_type": "execute_result"
    }
   ],
   "source": [
    "reg.intercept_"
   ]
  },
  {
   "cell_type": "markdown",
   "metadata": {},
   "source": [
    "## Rebuild the model for Table 3"
   ]
  },
  {
   "cell_type": "code",
   "execution_count": 65,
   "metadata": {},
   "outputs": [],
   "source": [
    "data_X_1 = data['mirlag1']\n",
    "data_Y_1 = data['wnvbinary']"
   ]
  },
  {
   "cell_type": "code",
   "execution_count": 66,
   "metadata": {},
   "outputs": [
    {
     "data": {
      "text/plain": [
       "0.00046566036414885664"
      ]
     },
     "execution_count": 66,
     "metadata": {},
     "output_type": "execute_result"
    }
   ],
   "source": [
    "reg = LinearRegression().fit(data_X_1[:,np.newaxis], data_Y_1[:,np.newaxis])\n",
    "reg.score(data_X_1[:,np.newaxis], data_Y_1[:,np.newaxis])"
   ]
  },
  {
   "cell_type": "code",
   "execution_count": 67,
   "metadata": {},
   "outputs": [
    {
     "data": {
      "text/plain": [
       "SpearmanrResult(correlation=0.030812917906133917, pvalue=2.0019250130265467e-300)"
      ]
     },
     "execution_count": 67,
     "metadata": {},
     "output_type": "execute_result"
    }
   ],
   "source": [
    "stats.spearmanr(data_X_1[:,np.newaxis], data_Y_1[:,np.newaxis]) # Very different from the result"
   ]
  },
  {
   "cell_type": "markdown",
   "metadata": {},
   "source": [
    "## Thoughts"
   ]
  },
  {
   "cell_type": "raw",
   "metadata": {},
   "source": [
    "Given so many discrepency when rebuilding the models, Need to ask Becky's team if they different dataset/ subset of their set. Otherwise, the data set is just too unbalanced(with more than 99.9 percent of data being labelled as 0) and hard to detect the relationship/ build a great prediction model for WNV binary variable"
   ]
  },
  {
   "cell_type": "code",
   "execution_count": null,
   "metadata": {},
   "outputs": [],
   "source": []
  }
 ],
 "metadata": {
  "kernelspec": {
   "display_name": "Python 3",
   "language": "python",
   "name": "python3"
  },
  "language_info": {
   "codemirror_mode": {
    "name": "ipython",
    "version": 3
   },
   "file_extension": ".py",
   "mimetype": "text/x-python",
   "name": "python",
   "nbconvert_exporter": "python",
   "pygments_lexer": "ipython3",
   "version": "3.7.2"
  }
 },
 "nbformat": 4,
 "nbformat_minor": 2
}
