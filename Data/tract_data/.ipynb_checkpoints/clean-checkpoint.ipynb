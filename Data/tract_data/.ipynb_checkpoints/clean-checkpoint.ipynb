{
 "cells": [
  {
   "cell_type": "code",
   "execution_count": 49,
   "metadata": {},
   "outputs": [],
   "source": [
    "import os \n",
    "from zipfile import ZipFile"
   ]
  },
  {
   "cell_type": "code",
   "execution_count": 3,
   "metadata": {},
   "outputs": [
    {
     "name": "stdout",
     "output_type": "stream",
     "text": [
      " 2010   ACS_10_5YR_DP02.zip   ACS_12_5YR_DP03.zip\t ACS_15_5YR_DP03.zip\r\n",
      " 2011   ACS_10_5YR_DP03.zip   ACS_12_5YR_DP05.zip\t ACS_15_5YR_DP05.zip\r\n",
      " 2012   ACS_10_5YR_DP05.zip  'ACS_13_5YR_DP05 (1).zip'\t ACS_16_5YR_DP02.zip\r\n",
      " 2013   ACS_11_5YR_DP02.zip   ACS_14_5YR_DP02.zip\t ACS_16_5YR_DP03.zip\r\n",
      " 2014   ACS_11_5YR_DP03.zip   ACS_14_5YR_DP03.zip\t ACS_16_5YR_DP05.zip\r\n",
      " 2015   ACS_11_5YR_DP05.zip   ACS_14_5YR_DP05.zip\t Untitled.ipynb\r\n",
      " 2016   ACS_12_5YR_DP02.zip   ACS_15_5YR_DP02.zip\r\n"
     ]
    }
   ],
   "source": [
    "!ls"
   ]
  },
  {
   "cell_type": "code",
   "execution_count": 26,
   "metadata": {},
   "outputs": [],
   "source": [
    "year_list = [10,11,12,13,14,15,16]\n",
    "dic = {'DP02':'social','DP03':'econ',\"DP05\":'race'}"
   ]
  },
  {
   "cell_type": "code",
   "execution_count": 47,
   "metadata": {},
   "outputs": [
    {
     "name": "stdout",
     "output_type": "stream",
     "text": [
      "./2012\n",
      "./2014\n",
      "?\n",
      "./2015\n",
      "./2016\n",
      "./2015\n",
      "?\n",
      "?\n",
      "?\n",
      "./2014\n",
      "?\n",
      "./2014\n",
      "?\n",
      "?\n",
      "?\n",
      "?\n",
      "./2016\n",
      "./2012\n",
      "./2016\n",
      "./2012\n",
      "./2015\n"
     ]
    }
   ],
   "source": [
    "directory = os.curdir\n",
    "for file in os.listdir(directory):\n",
    "    filename = os.fsdecode(file)\n",
    "    if filename.endswith(\".zip\"): \n",
    "        for y in year_list:\n",
    "            if (str(y) in filename):\n",
    "                k = filename[-8:-4]\n",
    "                new_name = str(y) + '_' + dic[k]+'.zip'\n",
    "                new_path = os.path.join(directory, str(20)+str(y))\n",
    "                os.rename(os.path.join(directory, filename),os.path.join(new_path, new_name))\n",
    "                print(new_path)\n",
    "        continue\n",
    "    else:\n",
    "        print('?')\n",
    "        continue"
   ]
  },
  {
   "cell_type": "code",
   "execution_count": 58,
   "metadata": {},
   "outputs": [],
   "source": [
    "for folder in os.listdir(directory):\n",
    "    filename = os.fsdecode(folder)\n",
    "    if not filename.endswith('ipynb'):\n",
    "        sub_direct = os.path.join(directory, filename)\n",
    "        for file in os.listdir(sub_direct):\n",
    "            if(file.endswith('zip')):\n",
    "                file_all = os.path.join(sub_direct, file)\n",
    "                with ZipFile(file_all, 'r') as zipObj:\n",
    "                   # Get a list of all archived file names from the zip\n",
    "                   listOfFileNames = zipObj.namelist()\n",
    "                   # Iterate over the file names\n",
    "                   for fileName in listOfFileNames:\n",
    "                       # Check filename endswith csv\n",
    "                       if fileName.endswith('ann.csv'):\n",
    "                           # Extract a single file from zip\n",
    "                           if('DP05' in fileName):\n",
    "                                zipObj.extract(fileName, 'race')\n",
    "                           if('DP02' in fileName):\n",
    "                                zipObj.extract(fileName, 'social')\n",
    "                           if('DP03' in fileName):\n",
    "                                zipObj.extract(fileName, 'econ')"
   ]
  },
  {
   "cell_type": "code",
   "execution_count": null,
   "metadata": {},
   "outputs": [],
   "source": []
  }
 ],
 "metadata": {
  "kernelspec": {
   "display_name": "Python 3",
   "language": "python",
   "name": "python3"
  },
  "language_info": {
   "codemirror_mode": {
    "name": "ipython",
    "version": 3
   },
   "file_extension": ".py",
   "mimetype": "text/x-python",
   "name": "python",
   "nbconvert_exporter": "python",
   "pygments_lexer": "ipython3",
   "version": "3.7.2"
  }
 },
 "nbformat": 4,
 "nbformat_minor": 2
}
