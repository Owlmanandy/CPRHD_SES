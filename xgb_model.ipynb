{
 "cells": [
  {
   "cell_type": "code",
   "execution_count": 7,
   "metadata": {},
   "outputs": [],
   "source": [
    "import xgboost as xgb\n",
    "import numpy as np\n",
    "import time\n",
    "import scipy.stats as stats\n",
    "import pandas as pd\n",
    "from matplotlib import pyplot as plt\n",
    "from sklearn.ensemble import RandomForestClassifier\n",
    "from sklearn import metrics\n",
    "from sklearn.model_selection import GridSearchCV, train_test_split\n",
    "from sklearn.linear_model import LinearRegression\n",
    "from scipy import stats\n",
    "from sklearn.metrics import log_loss\n",
    "from sklearn.calibration import CalibratedClassifierCV, calibration_curve\n",
    "import matplotlib.pyplot as plt\n",
    "from sklearn.metrics import (brier_score_loss, precision_score, recall_score,\n",
    "                             f1_score)\n",
    "from sklearn.metrics import roc_auc_score\n",
    "from xgboost import plot_importance"
   ]
  },
  {
   "cell_type": "code",
   "execution_count": 2,
   "metadata": {},
   "outputs": [
    {
     "name": "stdout",
     "output_type": "stream",
     "text": [
      "Collecting xgboost\n",
      "\u001b[?25l  Downloading https://files.pythonhosted.org/packages/c1/24/5fe7237b2eca13ee0cfb100bec8c23f4e69ce9df852a64b0493d49dae4e0/xgboost-0.90-py2.py3-none-manylinux1_x86_64.whl (142.8MB)\n",
      "\u001b[K    100% |████████████████████████████████| 142.8MB 324kB/s \n",
      "\u001b[?25hRequirement already satisfied: scipy in /home/guangya/anaconda3/lib/python3.7/site-packages (from xgboost) (1.2.1)\n",
      "Requirement already satisfied: numpy in /home/guangya/anaconda3/lib/python3.7/site-packages (from xgboost) (1.16.2)\n",
      "Installing collected packages: xgboost\n",
      "Successfully installed xgboost-0.90\n"
     ]
    }
   ],
   "source": [
    "!pip install xgboost"
   ]
  },
  {
   "cell_type": "code",
   "execution_count": 5,
   "metadata": {},
   "outputs": [],
   "source": [
    "data = pd.read_sas('/home/guangya/Downloads/wnv_2245new.sas7bdat') "
   ]
  },
  {
   "cell_type": "code",
   "execution_count": 247,
   "metadata": {},
   "outputs": [
    {
     "data": {
      "text/plain": [
       "Index(['hexid', 'Input_FID', 'tempc', 'preci', 'yr', 'weeks', 'yrweeks',\n",
       "       'yrwksfid', 'templag1', 'templag2', 'templag3', 'templag4', 'precilag1',\n",
       "       'precilag2', 'precilag3', 'precilag4', 'wnvbinary', 'mirmean', 'year',\n",
       "       'mirlag1', 'mirlag2', 'mirlag3', 'mirlag4', 'totpop', 'whitepct',\n",
       "       'blackpct', 'asianpct', 'hispanicpct', 'Income', 'owpct', 'dospct',\n",
       "       'dlipct', 'dmipct', 'dhipct', 'blpct', 'dfpct', 'efpct', 'mfpct',\n",
       "       'shrubpct', 'glandpct', 'pasturepct', 'ccpct', 'wwpct', 'ehwpct',\n",
       "       'yr_hexid', 'Jantemp', 'PopYesNo', 'hpctpreww', 'hpctpostww',\n",
       "       'hpct7089', 'hpctpost90', 'income1'],\n",
       "      dtype='object')"
      ]
     },
     "execution_count": 247,
     "metadata": {},
     "output_type": "execute_result"
    }
   ],
   "source": [
    "data.columns"
   ]
  },
  {
   "cell_type": "code",
   "execution_count": 297,
   "metadata": {},
   "outputs": [],
   "source": [
    "# data.groupby('hexid').sum()['wnvbinary'] > 0"
   ]
  },
  {
   "cell_type": "code",
   "execution_count": null,
   "metadata": {},
   "outputs": [],
   "source": [
    "from sklearn.utils import class_weight\n",
    "class_weights = list(class_weight.compute_class_weight('balanced',\n",
    "                                             np.unique(trainY_sel),\n",
    "                                             trainY_sel))\n",
    "\n",
    "w_array = np.ones(trainY_sel.shape[0], dtype = 'float')\n",
    "for i, val in enumerate(trainY_sel):\n",
    "    w_array[i] = class_weights[int(val)]"
   ]
  },
  {
   "cell_type": "code",
   "execution_count": 302,
   "metadata": {},
   "outputs": [],
   "source": [
    "x = data.drop(columns=['wnvbinary','yrweeks','yrwksfid','yr_hexid','year']).values"
   ]
  },
  {
   "cell_type": "code",
   "execution_count": 245,
   "metadata": {},
   "outputs": [
    {
     "ename": "SyntaxError",
     "evalue": "invalid syntax (<ipython-input-245-983cf982421e>, line 2)",
     "output_type": "error",
     "traceback": [
      "\u001b[0;36m  File \u001b[0;32m\"<ipython-input-245-983cf982421e>\"\u001b[0;36m, line \u001b[0;32m2\u001b[0m\n\u001b[0;31m    y = data['wnvbinary'].values\u001b[0m\n\u001b[0m    ^\u001b[0m\n\u001b[0;31mSyntaxError\u001b[0m\u001b[0;31m:\u001b[0m invalid syntax\n"
     ]
    }
   ],
   "source": [
    "x_selected = data[data.drop(columns=['wnvbinary','yrweeks','yrwksfid','yr_hexid','year'])values\n",
    "y = data['wnvbinary'].values \n",
    "y_selected = y"
   ]
  },
  {
   "cell_type": "code",
   "execution_count": 303,
   "metadata": {},
   "outputs": [],
   "source": [
    "trainX, testX, trainY, testY = train_test_split(x, y, test_size = 0.2, shuffle = True) # CV"
   ]
  },
  {
   "cell_type": "code",
   "execution_count": 10,
   "metadata": {},
   "outputs": [],
   "source": [
    "trainX_sel, testX_sel, trainY_sel, testY_sel = train_test_split(x_selected, y_selected, test_size = 0.2, shuffle = True) # CV"
   ]
  },
  {
   "cell_type": "code",
   "execution_count": 235,
   "metadata": {},
   "outputs": [],
   "source": [
    "dtrain = xgb.DMatrix(trainX_sel, trainY_sel,weight=w_array)\n",
    "dtest = xgb.DMatrix(testX_sel,testY_sel,weight= w_array)\n"
   ]
  },
  {
   "cell_type": "code",
   "execution_count": 262,
   "metadata": {},
   "outputs": [
    {
     "name": "stdout",
     "output_type": "stream",
     "text": [
      "[0]\teval-auc:0.861386\teval-logloss:0.556625\ttrain-auc:0.904001\ttrain-logloss:0.553077\n",
      "[1]\teval-auc:0.879591\teval-logloss:0.487695\ttrain-auc:0.915014\ttrain-logloss:0.472326\n",
      "[2]\teval-auc:0.887311\teval-logloss:0.441448\ttrain-auc:0.924434\ttrain-logloss:0.418739\n",
      "[3]\teval-auc:0.89161\teval-logloss:0.409678\ttrain-auc:0.929621\ttrain-logloss:0.380921\n",
      "[4]\teval-auc:0.892389\teval-logloss:0.390167\ttrain-auc:0.932043\ttrain-logloss:0.356889\n",
      "[5]\teval-auc:0.892078\teval-logloss:0.376421\ttrain-auc:0.935629\ttrain-logloss:0.333832\n",
      "[6]\teval-auc:0.890252\teval-logloss:0.364727\ttrain-auc:0.939895\ttrain-logloss:0.316497\n",
      "[7]\teval-auc:0.890513\teval-logloss:0.35676\ttrain-auc:0.942526\ttrain-logloss:0.304567\n",
      "[8]\teval-auc:0.888912\teval-logloss:0.349723\ttrain-auc:0.945987\ttrain-logloss:0.29178\n",
      "[9]\teval-auc:0.888471\teval-logloss:0.341498\ttrain-auc:0.948363\ttrain-logloss:0.285064\n",
      "[10]\teval-auc:0.889478\teval-logloss:0.33343\ttrain-auc:0.950396\ttrain-logloss:0.277358\n",
      "[11]\teval-auc:0.890758\teval-logloss:0.328383\ttrain-auc:0.951547\ttrain-logloss:0.272581\n",
      "[12]\teval-auc:0.890294\teval-logloss:0.324769\ttrain-auc:0.952062\ttrain-logloss:0.270061\n",
      "[13]\teval-auc:0.891476\teval-logloss:0.320298\ttrain-auc:0.953422\ttrain-logloss:0.264627\n",
      "[14]\teval-auc:0.891318\teval-logloss:0.317474\ttrain-auc:0.954753\ttrain-logloss:0.261485\n",
      "[15]\teval-auc:0.890656\teval-logloss:0.313252\ttrain-auc:0.956296\ttrain-logloss:0.257149\n",
      "[16]\teval-auc:0.889785\teval-logloss:0.307911\ttrain-auc:0.958985\ttrain-logloss:0.248268\n",
      "[17]\teval-auc:0.888939\teval-logloss:0.303704\ttrain-auc:0.961727\ttrain-logloss:0.240616\n",
      "[18]\teval-auc:0.884635\teval-logloss:0.298167\ttrain-auc:0.964025\ttrain-logloss:0.236205\n",
      "[19]\teval-auc:0.884766\teval-logloss:0.29708\ttrain-auc:0.964387\ttrain-logloss:0.234437\n",
      "[20]\teval-auc:0.879109\teval-logloss:0.295633\ttrain-auc:0.965967\ttrain-logloss:0.23083\n",
      "[21]\teval-auc:0.878305\teval-logloss:0.294749\ttrain-auc:0.966285\ttrain-logloss:0.229469\n",
      "[22]\teval-auc:0.877585\teval-logloss:0.292922\ttrain-auc:0.967369\ttrain-logloss:0.225774\n",
      "[23]\teval-auc:0.875462\teval-logloss:0.286891\ttrain-auc:0.969879\ttrain-logloss:0.219351\n",
      "[24]\teval-auc:0.87509\teval-logloss:0.279463\ttrain-auc:0.971508\ttrain-logloss:0.21505\n",
      "[25]\teval-auc:0.875872\teval-logloss:0.273555\ttrain-auc:0.972344\ttrain-logloss:0.211922\n",
      "[26]\teval-auc:0.876321\teval-logloss:0.271823\ttrain-auc:0.972693\ttrain-logloss:0.210946\n",
      "[27]\teval-auc:0.875961\teval-logloss:0.271053\ttrain-auc:0.972948\ttrain-logloss:0.210028\n",
      "[28]\teval-auc:0.875466\teval-logloss:0.263274\ttrain-auc:0.974446\ttrain-logloss:0.20614\n",
      "[29]\teval-auc:0.875729\teval-logloss:0.258383\ttrain-auc:0.974889\ttrain-logloss:0.204832\n",
      "[30]\teval-auc:0.873682\teval-logloss:0.25391\ttrain-auc:0.976116\ttrain-logloss:0.201705\n",
      "[31]\teval-auc:0.873937\teval-logloss:0.251462\ttrain-auc:0.97678\ttrain-logloss:0.19925\n",
      "[32]\teval-auc:0.874273\teval-logloss:0.249978\ttrain-auc:0.977077\ttrain-logloss:0.198074\n",
      "[33]\teval-auc:0.87551\teval-logloss:0.243076\ttrain-auc:0.977725\ttrain-logloss:0.195927\n",
      "[34]\teval-auc:0.874393\teval-logloss:0.239721\ttrain-auc:0.978274\ttrain-logloss:0.193694\n",
      "[35]\teval-auc:0.873775\teval-logloss:0.239245\ttrain-auc:0.978507\ttrain-logloss:0.19303\n",
      "[36]\teval-auc:0.873371\teval-logloss:0.230345\ttrain-auc:0.980193\ttrain-logloss:0.187747\n",
      "[37]\teval-auc:0.874634\teval-logloss:0.222761\ttrain-auc:0.981334\ttrain-logloss:0.182606\n",
      "[38]\teval-auc:0.873476\teval-logloss:0.218994\ttrain-auc:0.982186\ttrain-logloss:0.17919\n",
      "[39]\teval-auc:0.871973\teval-logloss:0.213283\ttrain-auc:0.984031\ttrain-logloss:0.174171\n",
      "[40]\teval-auc:0.873743\teval-logloss:0.203124\ttrain-auc:0.986012\ttrain-logloss:0.16707\n",
      "[41]\teval-auc:0.872928\teval-logloss:0.196467\ttrain-auc:0.987437\ttrain-logloss:0.161976\n",
      "[42]\teval-auc:0.87253\teval-logloss:0.192321\ttrain-auc:0.988131\ttrain-logloss:0.159754\n",
      "[43]\teval-auc:0.872022\teval-logloss:0.190085\ttrain-auc:0.98859\ttrain-logloss:0.157259\n",
      "[44]\teval-auc:0.870919\teval-logloss:0.188055\ttrain-auc:0.98912\ttrain-logloss:0.155189\n",
      "[45]\teval-auc:0.869998\teval-logloss:0.187179\ttrain-auc:0.989628\ttrain-logloss:0.153077\n",
      "[46]\teval-auc:0.872504\teval-logloss:0.183309\ttrain-auc:0.990027\ttrain-logloss:0.150285\n",
      "[47]\teval-auc:0.872035\teval-logloss:0.180963\ttrain-auc:0.990724\ttrain-logloss:0.146985\n",
      "[48]\teval-auc:0.871369\teval-logloss:0.180311\ttrain-auc:0.990981\ttrain-logloss:0.145895\n",
      "[49]\teval-auc:0.871183\teval-logloss:0.174625\ttrain-auc:0.991656\ttrain-logloss:0.141921\n",
      "[50]\teval-auc:0.870022\teval-logloss:0.172321\ttrain-auc:0.991966\ttrain-logloss:0.139822\n",
      "[51]\teval-auc:0.868026\teval-logloss:0.171019\ttrain-auc:0.992338\ttrain-logloss:0.138364\n",
      "[52]\teval-auc:0.867981\teval-logloss:0.168651\ttrain-auc:0.992569\ttrain-logloss:0.136961\n",
      "[53]\teval-auc:0.866969\teval-logloss:0.168149\ttrain-auc:0.992723\ttrain-logloss:0.136418\n",
      "[54]\teval-auc:0.866139\teval-logloss:0.164367\ttrain-auc:0.993242\ttrain-logloss:0.131943\n",
      "[55]\teval-auc:0.866297\teval-logloss:0.159536\ttrain-auc:0.993634\ttrain-logloss:0.12935\n",
      "[56]\teval-auc:0.865993\teval-logloss:0.159339\ttrain-auc:0.993912\ttrain-logloss:0.127294\n",
      "[57]\teval-auc:0.86614\teval-logloss:0.157323\ttrain-auc:0.99407\ttrain-logloss:0.125988\n",
      "[58]\teval-auc:0.865705\teval-logloss:0.15673\ttrain-auc:0.994162\ttrain-logloss:0.125359\n",
      "[59]\teval-auc:0.86655\teval-logloss:0.152352\ttrain-auc:0.994567\ttrain-logloss:0.122087\n",
      "[60]\teval-auc:0.866339\teval-logloss:0.15191\ttrain-auc:0.994654\ttrain-logloss:0.121175\n",
      "[61]\teval-auc:0.866055\teval-logloss:0.151255\ttrain-auc:0.994874\ttrain-logloss:0.119513\n",
      "[62]\teval-auc:0.865191\teval-logloss:0.148775\ttrain-auc:0.99505\ttrain-logloss:0.117923\n",
      "[63]\teval-auc:0.864247\teval-logloss:0.145575\ttrain-auc:0.995362\ttrain-logloss:0.115728\n",
      "[64]\teval-auc:0.865035\teval-logloss:0.142818\ttrain-auc:0.995669\ttrain-logloss:0.113432\n",
      "[65]\teval-auc:0.86482\teval-logloss:0.139506\ttrain-auc:0.995971\ttrain-logloss:0.111109\n",
      "[66]\teval-auc:0.865924\teval-logloss:0.137498\ttrain-auc:0.996067\ttrain-logloss:0.110177\n",
      "[67]\teval-auc:0.867254\teval-logloss:0.133613\ttrain-auc:0.996232\ttrain-logloss:0.108159\n",
      "[68]\teval-auc:0.868231\teval-logloss:0.130259\ttrain-auc:0.996399\ttrain-logloss:0.106252\n",
      "[69]\teval-auc:0.868545\teval-logloss:0.129568\ttrain-auc:0.996499\ttrain-logloss:0.105249\n",
      "[70]\teval-auc:0.86808\teval-logloss:0.127174\ttrain-auc:0.99675\ttrain-logloss:0.10252\n",
      "[71]\teval-auc:0.866789\teval-logloss:0.126047\ttrain-auc:0.996987\ttrain-logloss:0.100981\n",
      "[72]\teval-auc:0.86646\teval-logloss:0.125248\ttrain-auc:0.99717\ttrain-logloss:0.099433\n",
      "[73]\teval-auc:0.865683\teval-logloss:0.123997\ttrain-auc:0.997257\ttrain-logloss:0.098513\n",
      "[74]\teval-auc:0.865383\teval-logloss:0.123357\ttrain-auc:0.99732\ttrain-logloss:0.097413\n",
      "[75]\teval-auc:0.865703\teval-logloss:0.123144\ttrain-auc:0.997386\ttrain-logloss:0.096498\n",
      "[76]\teval-auc:0.865134\teval-logloss:0.122836\ttrain-auc:0.997428\ttrain-logloss:0.096134\n",
      "[77]\teval-auc:0.864534\teval-logloss:0.12147\ttrain-auc:0.99751\ttrain-logloss:0.095156\n",
      "[78]\teval-auc:0.863664\teval-logloss:0.120728\ttrain-auc:0.997636\ttrain-logloss:0.093598\n",
      "[79]\teval-auc:0.864344\teval-logloss:0.120423\ttrain-auc:0.997654\ttrain-logloss:0.093379\n",
      "[80]\teval-auc:0.862426\teval-logloss:0.120039\ttrain-auc:0.997802\ttrain-logloss:0.091848\n",
      "[81]\teval-auc:0.86302\teval-logloss:0.11851\ttrain-auc:0.997913\ttrain-logloss:0.090088\n",
      "[82]\teval-auc:0.861495\teval-logloss:0.116096\ttrain-auc:0.998083\ttrain-logloss:0.08836\n",
      "[83]\teval-auc:0.861432\teval-logloss:0.115025\ttrain-auc:0.998096\ttrain-logloss:0.087797\n",
      "[84]\teval-auc:0.86257\teval-logloss:0.114561\ttrain-auc:0.998119\ttrain-logloss:0.087428\n",
      "[85]\teval-auc:0.861725\teval-logloss:0.114435\ttrain-auc:0.998147\ttrain-logloss:0.087118\n",
      "[86]\teval-auc:0.859806\teval-logloss:0.113808\ttrain-auc:0.998224\ttrain-logloss:0.085974\n",
      "[87]\teval-auc:0.859369\teval-logloss:0.113862\ttrain-auc:0.998239\ttrain-logloss:0.085656\n",
      "[88]\teval-auc:0.859613\teval-logloss:0.113335\ttrain-auc:0.998305\ttrain-logloss:0.084647\n",
      "[89]\teval-auc:0.860945\teval-logloss:0.111558\ttrain-auc:0.998373\ttrain-logloss:0.083168\n",
      "[90]\teval-auc:0.86261\teval-logloss:0.10785\ttrain-auc:0.998501\ttrain-logloss:0.081001\n",
      "[91]\teval-auc:0.863188\teval-logloss:0.10755\ttrain-auc:0.998522\ttrain-logloss:0.080611\n",
      "[92]\teval-auc:0.863266\teval-logloss:0.104585\ttrain-auc:0.998592\ttrain-logloss:0.079304\n",
      "[93]\teval-auc:0.862582\teval-logloss:0.104053\ttrain-auc:0.998638\ttrain-logloss:0.078565\n",
      "[94]\teval-auc:0.863054\teval-logloss:0.102628\ttrain-auc:0.998703\ttrain-logloss:0.077363\n",
      "[95]\teval-auc:0.862769\teval-logloss:0.0983\ttrain-auc:0.998812\ttrain-logloss:0.076143\n",
      "[96]\teval-auc:0.860837\teval-logloss:0.097594\ttrain-auc:0.998844\ttrain-logloss:0.075634\n",
      "[97]\teval-auc:0.860465\teval-logloss:0.096186\ttrain-auc:0.998906\ttrain-logloss:0.074555\n",
      "[98]\teval-auc:0.860032\teval-logloss:0.09568\ttrain-auc:0.998933\ttrain-logloss:0.073914\n",
      "[99]\teval-auc:0.859029\teval-logloss:0.093811\ttrain-auc:0.998956\ttrain-logloss:0.073012\n",
      "[100]\teval-auc:0.858956\teval-logloss:0.093355\ttrain-auc:0.999013\ttrain-logloss:0.072175\n",
      "[101]\teval-auc:0.85805\teval-logloss:0.09246\ttrain-auc:0.99907\ttrain-logloss:0.071216\n",
      "[102]\teval-auc:0.857923\teval-logloss:0.092505\ttrain-auc:0.99908\ttrain-logloss:0.07083\n",
      "[103]\teval-auc:0.857388\teval-logloss:0.092254\ttrain-auc:0.999091\ttrain-logloss:0.070424\n",
      "[104]\teval-auc:0.857723\teval-logloss:0.090824\ttrain-auc:0.999146\ttrain-logloss:0.069072\n",
      "[105]\teval-auc:0.857774\teval-logloss:0.090668\ttrain-auc:0.999158\ttrain-logloss:0.068851\n",
      "[106]\teval-auc:0.858365\teval-logloss:0.088487\ttrain-auc:0.999222\ttrain-logloss:0.067598\n",
      "[107]\teval-auc:0.856778\teval-logloss:0.088068\ttrain-auc:0.999247\ttrain-logloss:0.067127\n",
      "[108]\teval-auc:0.855839\teval-logloss:0.087485\ttrain-auc:0.999279\ttrain-logloss:0.06638\n",
      "[109]\teval-auc:0.854339\teval-logloss:0.086689\ttrain-auc:0.99933\ttrain-logloss:0.065324\n",
      "[110]\teval-auc:0.85406\teval-logloss:0.085625\ttrain-auc:0.99938\ttrain-logloss:0.064128\n",
      "[111]\teval-auc:0.853648\teval-logloss:0.085106\ttrain-auc:0.999395\ttrain-logloss:0.063575\n",
      "[112]\teval-auc:0.854009\teval-logloss:0.083427\ttrain-auc:0.999426\ttrain-logloss:0.062679\n",
      "[113]\teval-auc:0.853992\teval-logloss:0.083167\ttrain-auc:0.999429\ttrain-logloss:0.062481\n",
      "[114]\teval-auc:0.853424\teval-logloss:0.08252\ttrain-auc:0.99946\ttrain-logloss:0.061741\n",
      "[115]\teval-auc:0.85369\teval-logloss:0.081855\ttrain-auc:0.999475\ttrain-logloss:0.061418\n",
      "[116]\teval-auc:0.853648\teval-logloss:0.081384\ttrain-auc:0.999481\ttrain-logloss:0.060998\n",
      "[117]\teval-auc:0.854124\teval-logloss:0.081113\ttrain-auc:0.999491\ttrain-logloss:0.060593\n",
      "[118]\teval-auc:0.855431\teval-logloss:0.079722\ttrain-auc:0.999517\ttrain-logloss:0.059698\n",
      "[119]\teval-auc:0.854858\teval-logloss:0.077846\ttrain-auc:0.99953\ttrain-logloss:0.059023\n",
      "[120]\teval-auc:0.85491\teval-logloss:0.076209\ttrain-auc:0.999574\ttrain-logloss:0.057099\n",
      "[121]\teval-auc:0.855085\teval-logloss:0.076245\ttrain-auc:0.999581\ttrain-logloss:0.056547\n",
      "[122]\teval-auc:0.855494\teval-logloss:0.074451\ttrain-auc:0.9996\ttrain-logloss:0.055648\n",
      "[123]\teval-auc:0.855018\teval-logloss:0.074222\ttrain-auc:0.999608\ttrain-logloss:0.055162\n",
      "[124]\teval-auc:0.854123\teval-logloss:0.071911\ttrain-auc:0.99963\ttrain-logloss:0.05415\n",
      "[125]\teval-auc:0.854788\teval-logloss:0.071405\ttrain-auc:0.999642\ttrain-logloss:0.053652\n",
      "[126]\teval-auc:0.854528\teval-logloss:0.070909\ttrain-auc:0.999653\ttrain-logloss:0.053266\n",
      "[127]\teval-auc:0.854752\teval-logloss:0.068057\ttrain-auc:0.999664\ttrain-logloss:0.052579\n",
      "[128]\teval-auc:0.853518\teval-logloss:0.067401\ttrain-auc:0.999687\ttrain-logloss:0.051592\n",
      "[129]\teval-auc:0.85351\teval-logloss:0.067028\ttrain-auc:0.999701\ttrain-logloss:0.050994\n",
      "[130]\teval-auc:0.852208\teval-logloss:0.06557\ttrain-auc:0.999723\ttrain-logloss:0.050208\n",
      "[131]\teval-auc:0.851814\teval-logloss:0.063616\ttrain-auc:0.999733\ttrain-logloss:0.049459\n",
      "[132]\teval-auc:0.851618\teval-logloss:0.063162\ttrain-auc:0.999741\ttrain-logloss:0.048735\n",
      "[133]\teval-auc:0.851517\teval-logloss:0.062956\ttrain-auc:0.999751\ttrain-logloss:0.048452\n",
      "[134]\teval-auc:0.850607\teval-logloss:0.062868\ttrain-auc:0.999753\ttrain-logloss:0.048291\n",
      "[135]\teval-auc:0.849425\teval-logloss:0.062555\ttrain-auc:0.999767\ttrain-logloss:0.047815\n",
      "[136]\teval-auc:0.848265\teval-logloss:0.062278\ttrain-auc:0.99977\ttrain-logloss:0.047432\n",
      "[137]\teval-auc:0.84764\teval-logloss:0.061108\ttrain-auc:0.999782\ttrain-logloss:0.04669\n",
      "[138]\teval-auc:0.847112\teval-logloss:0.060843\ttrain-auc:0.999787\ttrain-logloss:0.04629\n",
      "[139]\teval-auc:0.847535\teval-logloss:0.060608\ttrain-auc:0.999789\ttrain-logloss:0.04607\n",
      "[140]\teval-auc:0.84701\teval-logloss:0.059837\ttrain-auc:0.999796\ttrain-logloss:0.045644\n",
      "[141]\teval-auc:0.847299\teval-logloss:0.058777\ttrain-auc:0.999803\ttrain-logloss:0.04518\n",
      "[142]\teval-auc:0.848534\teval-logloss:0.057278\ttrain-auc:0.999811\ttrain-logloss:0.044578\n",
      "[143]\teval-auc:0.84795\teval-logloss:0.055448\ttrain-auc:0.999825\ttrain-logloss:0.043679\n",
      "[144]\teval-auc:0.846376\teval-logloss:0.054955\ttrain-auc:0.99983\ttrain-logloss:0.04327\n",
      "[145]\teval-auc:0.846631\teval-logloss:0.054666\ttrain-auc:0.999838\ttrain-logloss:0.042374\n",
      "[146]\teval-auc:0.846957\teval-logloss:0.053506\ttrain-auc:0.999849\ttrain-logloss:0.041553\n",
      "[147]\teval-auc:0.847472\teval-logloss:0.051875\ttrain-auc:0.999859\ttrain-logloss:0.040556\n",
      "[148]\teval-auc:0.846992\teval-logloss:0.051382\ttrain-auc:0.999867\ttrain-logloss:0.03979\n",
      "[149]\teval-auc:0.846173\teval-logloss:0.048139\ttrain-auc:0.999879\ttrain-logloss:0.038937\n",
      "[150]\teval-auc:0.845643\teval-logloss:0.048014\ttrain-auc:0.999884\ttrain-logloss:0.038526\n",
      "[151]\teval-auc:0.84656\teval-logloss:0.046357\ttrain-auc:0.999891\ttrain-logloss:0.037809\n",
      "[152]\teval-auc:0.844748\teval-logloss:0.045908\ttrain-auc:0.999894\ttrain-logloss:0.037355\n",
      "[153]\teval-auc:0.843256\teval-logloss:0.045211\ttrain-auc:0.9999\ttrain-logloss:0.036702\n",
      "[154]\teval-auc:0.843393\teval-logloss:0.044112\ttrain-auc:0.999905\ttrain-logloss:0.036037\n",
      "[155]\teval-auc:0.842615\teval-logloss:0.04396\ttrain-auc:0.999908\ttrain-logloss:0.035638\n",
      "[156]\teval-auc:0.842643\teval-logloss:0.043736\ttrain-auc:0.999912\ttrain-logloss:0.035368\n",
      "[157]\teval-auc:0.842819\teval-logloss:0.043404\ttrain-auc:0.999918\ttrain-logloss:0.034776\n",
      "[158]\teval-auc:0.842755\teval-logloss:0.042772\ttrain-auc:0.99992\ttrain-logloss:0.034341\n",
      "[159]\teval-auc:0.844456\teval-logloss:0.042351\ttrain-auc:0.999923\ttrain-logloss:0.033811\n",
      "[160]\teval-auc:0.844078\teval-logloss:0.042122\ttrain-auc:0.999925\ttrain-logloss:0.033578\n",
      "[161]\teval-auc:0.843822\teval-logloss:0.041732\ttrain-auc:0.999927\ttrain-logloss:0.033313\n",
      "[162]\teval-auc:0.843509\teval-logloss:0.041668\ttrain-auc:0.999927\ttrain-logloss:0.033199\n",
      "[163]\teval-auc:0.842577\teval-logloss:0.041582\ttrain-auc:0.999928\ttrain-logloss:0.03305\n",
      "[164]\teval-auc:0.841425\teval-logloss:0.041371\ttrain-auc:0.999931\ttrain-logloss:0.032753\n",
      "[165]\teval-auc:0.842071\teval-logloss:0.041963\ttrain-auc:0.999936\ttrain-logloss:0.032145\n",
      "[166]\teval-auc:0.84207\teval-logloss:0.041708\ttrain-auc:0.999939\ttrain-logloss:0.031798\n",
      "[167]\teval-auc:0.842703\teval-logloss:0.041581\ttrain-auc:0.99994\ttrain-logloss:0.031642\n",
      "[168]\teval-auc:0.841653\teval-logloss:0.041353\ttrain-auc:0.999941\ttrain-logloss:0.031343\n",
      "[169]\teval-auc:0.841124\teval-logloss:0.041279\ttrain-auc:0.999941\ttrain-logloss:0.031246\n",
      "[170]\teval-auc:0.840466\teval-logloss:0.041233\ttrain-auc:0.999941\ttrain-logloss:0.031159\n",
      "[171]\teval-auc:0.840031\teval-logloss:0.040706\ttrain-auc:0.999944\ttrain-logloss:0.03061\n",
      "[172]\teval-auc:0.841248\teval-logloss:0.040562\ttrain-auc:0.999945\ttrain-logloss:0.030243\n",
      "[173]\teval-auc:0.840096\teval-logloss:0.040194\ttrain-auc:0.99995\ttrain-logloss:0.029903\n",
      "[174]\teval-auc:0.837604\teval-logloss:0.039362\ttrain-auc:0.999953\ttrain-logloss:0.029163\n",
      "[175]\teval-auc:0.837292\teval-logloss:0.038797\ttrain-auc:0.999956\ttrain-logloss:0.02884\n",
      "[176]\teval-auc:0.83634\teval-logloss:0.038497\ttrain-auc:0.999957\ttrain-logloss:0.028605\n",
      "[177]\teval-auc:0.836649\teval-logloss:0.03727\ttrain-auc:0.999961\ttrain-logloss:0.027903\n",
      "[178]\teval-auc:0.835936\teval-logloss:0.037115\ttrain-auc:0.999962\ttrain-logloss:0.0277\n",
      "[179]\teval-auc:0.834828\teval-logloss:0.036931\ttrain-auc:0.999963\ttrain-logloss:0.027407\n",
      "[180]\teval-auc:0.833697\teval-logloss:0.036636\ttrain-auc:0.999965\ttrain-logloss:0.027047\n",
      "[181]\teval-auc:0.833154\teval-logloss:0.036363\ttrain-auc:0.999967\ttrain-logloss:0.026732\n",
      "[182]\teval-auc:0.830927\teval-logloss:0.036043\ttrain-auc:0.999969\ttrain-logloss:0.026335\n",
      "[183]\teval-auc:0.829648\teval-logloss:0.036163\ttrain-auc:0.999971\ttrain-logloss:0.02583\n",
      "[184]\teval-auc:0.828383\teval-logloss:0.036069\ttrain-auc:0.999971\ttrain-logloss:0.02569\n",
      "[185]\teval-auc:0.828198\teval-logloss:0.036007\ttrain-auc:0.999971\ttrain-logloss:0.025623\n",
      "[186]\teval-auc:0.827532\teval-logloss:0.035816\ttrain-auc:0.999972\ttrain-logloss:0.0253\n",
      "[187]\teval-auc:0.827354\teval-logloss:0.035481\ttrain-auc:0.999973\ttrain-logloss:0.024947\n",
      "[188]\teval-auc:0.826079\teval-logloss:0.034366\ttrain-auc:0.999974\ttrain-logloss:0.024452\n",
      "[189]\teval-auc:0.826912\teval-logloss:0.034213\ttrain-auc:0.999975\ttrain-logloss:0.02423\n",
      "[190]\teval-auc:0.82695\teval-logloss:0.034152\ttrain-auc:0.999975\ttrain-logloss:0.024161\n",
      "[191]\teval-auc:0.827277\teval-logloss:0.032114\ttrain-auc:0.999977\ttrain-logloss:0.023841\n",
      "[192]\teval-auc:0.824741\teval-logloss:0.031397\ttrain-auc:0.999978\ttrain-logloss:0.023348\n",
      "[193]\teval-auc:0.823998\teval-logloss:0.031288\ttrain-auc:0.999979\ttrain-logloss:0.023024\n",
      "[194]\teval-auc:0.823521\teval-logloss:0.031176\ttrain-auc:0.99998\ttrain-logloss:0.022831\n",
      "[195]\teval-auc:0.824122\teval-logloss:0.030744\ttrain-auc:0.999981\ttrain-logloss:0.022548\n",
      "[196]\teval-auc:0.823404\teval-logloss:0.030631\ttrain-auc:0.999982\ttrain-logloss:0.022379\n",
      "[197]\teval-auc:0.823373\teval-logloss:0.030162\ttrain-auc:0.999982\ttrain-logloss:0.022207\n",
      "[198]\teval-auc:0.823096\teval-logloss:0.030068\ttrain-auc:0.999982\ttrain-logloss:0.02205\n",
      "[199]\teval-auc:0.823254\teval-logloss:0.029897\ttrain-auc:0.999983\ttrain-logloss:0.021898\n",
      "[200]\teval-auc:0.823228\teval-logloss:0.028754\ttrain-auc:0.999984\ttrain-logloss:0.021489\n",
      "[201]\teval-auc:0.822198\teval-logloss:0.028645\ttrain-auc:0.999984\ttrain-logloss:0.02124\n",
      "[202]\teval-auc:0.821358\teval-logloss:0.028472\ttrain-auc:0.999985\ttrain-logloss:0.020974\n",
      "[203]\teval-auc:0.82034\teval-logloss:0.028052\ttrain-auc:0.999986\ttrain-logloss:0.020698\n",
      "[204]\teval-auc:0.820642\teval-logloss:0.027814\ttrain-auc:0.999986\ttrain-logloss:0.020513\n",
      "[205]\teval-auc:0.820949\teval-logloss:0.027592\ttrain-auc:0.999986\ttrain-logloss:0.020312\n",
      "[206]\teval-auc:0.822854\teval-logloss:0.027412\ttrain-auc:0.999986\ttrain-logloss:0.020097\n",
      "[207]\teval-auc:0.822515\teval-logloss:0.026773\ttrain-auc:0.999987\ttrain-logloss:0.019938\n",
      "[208]\teval-auc:0.82187\teval-logloss:0.026675\ttrain-auc:0.999988\ttrain-logloss:0.019674\n",
      "[209]\teval-auc:0.821746\teval-logloss:0.026499\ttrain-auc:0.999988\ttrain-logloss:0.019528\n",
      "[210]\teval-auc:0.821419\teval-logloss:0.026186\ttrain-auc:0.999988\ttrain-logloss:0.019448\n",
      "[211]\teval-auc:0.820868\teval-logloss:0.025823\ttrain-auc:0.999988\ttrain-logloss:0.019127\n",
      "[212]\teval-auc:0.820604\teval-logloss:0.025754\ttrain-auc:0.999989\ttrain-logloss:0.019039\n",
      "[213]\teval-auc:0.82034\teval-logloss:0.025466\ttrain-auc:0.999989\ttrain-logloss:0.018741\n",
      "[214]\teval-auc:0.820632\teval-logloss:0.024858\ttrain-auc:0.99999\ttrain-logloss:0.01844\n",
      "[215]\teval-auc:0.822655\teval-logloss:0.024757\ttrain-auc:0.99999\ttrain-logloss:0.018333\n",
      "[216]\teval-auc:0.821905\teval-logloss:0.024625\ttrain-auc:0.99999\ttrain-logloss:0.018082\n",
      "[217]\teval-auc:0.821665\teval-logloss:0.024528\ttrain-auc:0.99999\ttrain-logloss:0.017916\n",
      "[218]\teval-auc:0.82134\teval-logloss:0.024389\ttrain-auc:0.999991\ttrain-logloss:0.017794\n",
      "[219]\teval-auc:0.820929\teval-logloss:0.023864\ttrain-auc:0.999991\ttrain-logloss:0.017505\n",
      "[220]\teval-auc:0.820927\teval-logloss:0.023666\ttrain-auc:0.999991\ttrain-logloss:0.017294\n",
      "[221]\teval-auc:0.821969\teval-logloss:0.023492\ttrain-auc:0.999992\ttrain-logloss:0.017133\n",
      "[222]\teval-auc:0.822403\teval-logloss:0.023258\ttrain-auc:0.999992\ttrain-logloss:0.016841\n",
      "[223]\teval-auc:0.821377\teval-logloss:0.022829\ttrain-auc:0.999992\ttrain-logloss:0.016594\n",
      "[224]\teval-auc:0.82111\teval-logloss:0.02268\ttrain-auc:0.999992\ttrain-logloss:0.016405\n",
      "[225]\teval-auc:0.821221\teval-logloss:0.022618\ttrain-auc:0.999992\ttrain-logloss:0.016302\n",
      "[226]\teval-auc:0.82175\teval-logloss:0.022272\ttrain-auc:0.999993\ttrain-logloss:0.016041\n",
      "[227]\teval-auc:0.820755\teval-logloss:0.021684\ttrain-auc:0.999993\ttrain-logloss:0.015732\n",
      "[228]\teval-auc:0.820432\teval-logloss:0.021506\ttrain-auc:0.999993\ttrain-logloss:0.015581\n",
      "[229]\teval-auc:0.820427\teval-logloss:0.021241\ttrain-auc:0.999994\ttrain-logloss:0.01535\n",
      "[230]\teval-auc:0.820111\teval-logloss:0.021177\ttrain-auc:0.999994\ttrain-logloss:0.01515\n",
      "[231]\teval-auc:0.819661\teval-logloss:0.021046\ttrain-auc:0.999994\ttrain-logloss:0.015034\n",
      "[232]\teval-auc:0.819583\teval-logloss:0.020853\ttrain-auc:0.999994\ttrain-logloss:0.014808\n",
      "[233]\teval-auc:0.819549\teval-logloss:0.02073\ttrain-auc:0.999994\ttrain-logloss:0.014687\n",
      "[234]\teval-auc:0.818469\teval-logloss:0.020651\ttrain-auc:0.999994\ttrain-logloss:0.014578\n",
      "[235]\teval-auc:0.817865\teval-logloss:0.020573\ttrain-auc:0.999994\ttrain-logloss:0.014514\n",
      "[236]\teval-auc:0.818083\teval-logloss:0.020522\ttrain-auc:0.999994\ttrain-logloss:0.014342\n",
      "[237]\teval-auc:0.818751\teval-logloss:0.020106\ttrain-auc:0.999994\ttrain-logloss:0.014089\n",
      "[238]\teval-auc:0.818401\teval-logloss:0.020055\ttrain-auc:0.999994\ttrain-logloss:0.014028\n",
      "[239]\teval-auc:0.816944\teval-logloss:0.020147\ttrain-auc:0.999995\ttrain-logloss:0.013844\n",
      "[240]\teval-auc:0.817117\teval-logloss:0.019595\ttrain-auc:0.999995\ttrain-logloss:0.013727\n",
      "[241]\teval-auc:0.816788\teval-logloss:0.019547\ttrain-auc:0.999995\ttrain-logloss:0.013591\n",
      "[242]\teval-auc:0.816687\teval-logloss:0.019466\ttrain-auc:0.999996\ttrain-logloss:0.013468\n",
      "[243]\teval-auc:0.816989\teval-logloss:0.019399\ttrain-auc:0.999996\ttrain-logloss:0.013382\n",
      "[244]\teval-auc:0.816856\teval-logloss:0.018491\ttrain-auc:0.999996\ttrain-logloss:0.013204\n",
      "[245]\teval-auc:0.817342\teval-logloss:0.018018\ttrain-auc:0.999997\ttrain-logloss:0.012973\n",
      "[246]\teval-auc:0.816942\teval-logloss:0.017975\ttrain-auc:0.999997\ttrain-logloss:0.012914\n",
      "[247]\teval-auc:0.817449\teval-logloss:0.017659\ttrain-auc:0.999997\ttrain-logloss:0.012804\n",
      "[248]\teval-auc:0.818427\teval-logloss:0.017583\ttrain-auc:0.999997\ttrain-logloss:0.012691\n",
      "[249]\teval-auc:0.8189\teval-logloss:0.016816\ttrain-auc:0.999997\ttrain-logloss:0.01254\n",
      "[250]\teval-auc:0.819089\teval-logloss:0.01665\ttrain-auc:0.999997\ttrain-logloss:0.012399\n",
      "[251]\teval-auc:0.819653\teval-logloss:0.016565\ttrain-auc:0.999997\ttrain-logloss:0.012278\n",
      "[252]\teval-auc:0.819111\teval-logloss:0.016529\ttrain-auc:0.999997\ttrain-logloss:0.012224\n",
      "[253]\teval-auc:0.818811\teval-logloss:0.016301\ttrain-auc:0.999997\ttrain-logloss:0.012054\n",
      "[254]\teval-auc:0.818591\teval-logloss:0.016261\ttrain-auc:0.999998\ttrain-logloss:0.011989\n",
      "[255]\teval-auc:0.818043\teval-logloss:0.016234\ttrain-auc:0.999998\ttrain-logloss:0.01195\n",
      "[256]\teval-auc:0.817953\teval-logloss:0.016196\ttrain-auc:0.999998\ttrain-logloss:0.011897\n",
      "[257]\teval-auc:0.820733\teval-logloss:0.0159\ttrain-auc:0.999998\ttrain-logloss:0.011745\n",
      "[258]\teval-auc:0.820779\teval-logloss:0.015475\ttrain-auc:0.999998\ttrain-logloss:0.011661\n",
      "[259]\teval-auc:0.819924\teval-logloss:0.015411\ttrain-auc:0.999998\ttrain-logloss:0.011564\n",
      "[260]\teval-auc:0.818911\teval-logloss:0.014723\ttrain-auc:0.999998\ttrain-logloss:0.011441\n",
      "[261]\teval-auc:0.81889\teval-logloss:0.014564\ttrain-auc:0.999998\ttrain-logloss:0.011392\n",
      "[262]\teval-auc:0.817925\teval-logloss:0.014302\ttrain-auc:0.999998\ttrain-logloss:0.011273\n",
      "[263]\teval-auc:0.817516\teval-logloss:0.014236\ttrain-auc:0.999998\ttrain-logloss:0.011184\n",
      "[264]\teval-auc:0.817524\teval-logloss:0.014199\ttrain-auc:0.999998\ttrain-logloss:0.011147\n",
      "[265]\teval-auc:0.817134\teval-logloss:0.014157\ttrain-auc:0.999998\ttrain-logloss:0.011008\n",
      "[266]\teval-auc:0.818469\teval-logloss:0.014122\ttrain-auc:0.999998\ttrain-logloss:0.01088\n",
      "[267]\teval-auc:0.817872\teval-logloss:0.014007\ttrain-auc:0.999998\ttrain-logloss:0.0108\n",
      "[268]\teval-auc:0.817901\teval-logloss:0.013586\ttrain-auc:0.999998\ttrain-logloss:0.010699\n",
      "[269]\teval-auc:0.816375\teval-logloss:0.013557\ttrain-auc:0.999998\ttrain-logloss:0.01065\n",
      "[270]\teval-auc:0.816201\teval-logloss:0.013498\ttrain-auc:0.999998\ttrain-logloss:0.010593\n",
      "[271]\teval-auc:0.817814\teval-logloss:0.013459\ttrain-auc:0.999999\ttrain-logloss:0.010436\n",
      "[272]\teval-auc:0.820058\teval-logloss:0.013389\ttrain-auc:0.999999\ttrain-logloss:0.01038\n",
      "[273]\teval-auc:0.820005\teval-logloss:0.013314\ttrain-auc:0.999999\ttrain-logloss:0.010265\n",
      "[274]\teval-auc:0.82032\teval-logloss:0.013206\ttrain-auc:0.999999\ttrain-logloss:0.010132\n",
      "[275]\teval-auc:0.819471\teval-logloss:0.013172\ttrain-auc:0.999999\ttrain-logloss:0.010035\n",
      "[276]\teval-auc:0.818582\teval-logloss:0.012582\ttrain-auc:0.999999\ttrain-logloss:0.009913\n",
      "[277]\teval-auc:0.820188\teval-logloss:0.012446\ttrain-auc:0.999999\ttrain-logloss:0.009816\n",
      "[278]\teval-auc:0.820193\teval-logloss:0.012395\ttrain-auc:0.999999\ttrain-logloss:0.009756\n",
      "[279]\teval-auc:0.819519\teval-logloss:0.012351\ttrain-auc:0.999999\ttrain-logloss:0.009672\n",
      "[280]\teval-auc:0.818979\teval-logloss:0.012308\ttrain-auc:0.999999\ttrain-logloss:0.009635\n",
      "[281]\teval-auc:0.819942\teval-logloss:0.012076\ttrain-auc:0.999999\ttrain-logloss:0.009505\n",
      "[282]\teval-auc:0.820138\teval-logloss:0.011988\ttrain-auc:0.999999\ttrain-logloss:0.009372\n",
      "[283]\teval-auc:0.820373\teval-logloss:0.011925\ttrain-auc:0.999999\ttrain-logloss:0.00927\n",
      "[284]\teval-auc:0.820204\teval-logloss:0.011869\ttrain-auc:0.999999\ttrain-logloss:0.00922\n",
      "[285]\teval-auc:0.819623\teval-logloss:0.011739\ttrain-auc:0.999999\ttrain-logloss:0.00916\n",
      "[286]\teval-auc:0.819308\teval-logloss:0.011611\ttrain-auc:0.999999\ttrain-logloss:0.009035\n",
      "[287]\teval-auc:0.817956\teval-logloss:0.011166\ttrain-auc:0.999999\ttrain-logloss:0.008902\n",
      "[288]\teval-auc:0.818134\teval-logloss:0.010793\ttrain-auc:0.999999\ttrain-logloss:0.008803\n",
      "[289]\teval-auc:0.817988\teval-logloss:0.010753\ttrain-auc:0.999999\ttrain-logloss:0.008764\n",
      "[290]\teval-auc:0.818044\teval-logloss:0.010653\ttrain-auc:0.999999\ttrain-logloss:0.008667\n",
      "[291]\teval-auc:0.817562\teval-logloss:0.010528\ttrain-auc:0.999999\ttrain-logloss:0.008516\n",
      "[292]\teval-auc:0.816845\teval-logloss:0.010499\ttrain-auc:0.999999\ttrain-logloss:0.008478\n",
      "[293]\teval-auc:0.816966\teval-logloss:0.010413\ttrain-auc:0.999999\ttrain-logloss:0.008436\n",
      "[294]\teval-auc:0.817169\teval-logloss:0.010299\ttrain-auc:0.999999\ttrain-logloss:0.008304\n",
      "[295]\teval-auc:0.816619\teval-logloss:0.010212\ttrain-auc:0.999999\ttrain-logloss:0.008235\n",
      "[296]\teval-auc:0.816964\teval-logloss:0.010105\ttrain-auc:0.999999\ttrain-logloss:0.008149\n",
      "[297]\teval-auc:0.817894\teval-logloss:0.00996\ttrain-auc:0.999999\ttrain-logloss:0.008052\n",
      "[298]\teval-auc:0.817443\teval-logloss:0.009949\ttrain-auc:0.999999\ttrain-logloss:0.008031\n",
      "[299]\teval-auc:0.817862\teval-logloss:0.009923\ttrain-auc:0.999999\ttrain-logloss:0.007987\n",
      "[300]\teval-auc:0.818069\teval-logloss:0.009856\ttrain-auc:0.999999\ttrain-logloss:0.007925\n",
      "[301]\teval-auc:0.819701\teval-logloss:0.009764\ttrain-auc:0.999999\ttrain-logloss:0.007821\n",
      "[302]\teval-auc:0.819866\teval-logloss:0.009712\ttrain-auc:1\ttrain-logloss:0.007722\n",
      "[303]\teval-auc:0.819875\teval-logloss:0.009702\ttrain-auc:1\ttrain-logloss:0.00765\n",
      "[304]\teval-auc:0.819553\teval-logloss:0.009665\ttrain-auc:1\ttrain-logloss:0.007609\n",
      "[305]\teval-auc:0.820085\teval-logloss:0.009564\ttrain-auc:0.999999\ttrain-logloss:0.007518\n",
      "[306]\teval-auc:0.821\teval-logloss:0.009357\ttrain-auc:0.999999\ttrain-logloss:0.007394\n",
      "[307]\teval-auc:0.82043\teval-logloss:0.009355\ttrain-auc:0.999999\ttrain-logloss:0.007326\n",
      "[308]\teval-auc:0.820224\teval-logloss:0.009311\ttrain-auc:0.999999\ttrain-logloss:0.007259\n",
      "[309]\teval-auc:0.820249\teval-logloss:0.009294\ttrain-auc:0.999999\ttrain-logloss:0.007246\n",
      "[310]\teval-auc:0.820934\teval-logloss:0.009257\ttrain-auc:0.999999\ttrain-logloss:0.007195\n",
      "[311]\teval-auc:0.821498\teval-logloss:0.00918\ttrain-auc:0.999999\ttrain-logloss:0.007111\n",
      "[312]\teval-auc:0.821123\teval-logloss:0.009171\ttrain-auc:0.999999\ttrain-logloss:0.007068\n",
      "[313]\teval-auc:0.821324\teval-logloss:0.00912\ttrain-auc:0.999999\ttrain-logloss:0.007009\n",
      "[314]\teval-auc:0.820674\teval-logloss:0.009067\ttrain-auc:0.999999\ttrain-logloss:0.006928\n",
      "[315]\teval-auc:0.820339\teval-logloss:0.009036\ttrain-auc:0.999999\ttrain-logloss:0.006894\n",
      "[316]\teval-auc:0.820213\teval-logloss:0.008992\ttrain-auc:0.999999\ttrain-logloss:0.006804\n",
      "[317]\teval-auc:0.820561\teval-logloss:0.008967\ttrain-auc:0.999999\ttrain-logloss:0.006705\n",
      "[318]\teval-auc:0.820179\teval-logloss:0.008926\ttrain-auc:1\ttrain-logloss:0.006622\n",
      "[319]\teval-auc:0.819754\teval-logloss:0.008887\ttrain-auc:1\ttrain-logloss:0.006571\n",
      "[320]\teval-auc:0.819209\teval-logloss:0.00886\ttrain-auc:1\ttrain-logloss:0.006541\n",
      "[321]\teval-auc:0.818764\teval-logloss:0.008828\ttrain-auc:1\ttrain-logloss:0.006491\n",
      "[322]\teval-auc:0.818732\teval-logloss:0.008962\ttrain-auc:1\ttrain-logloss:0.006422\n",
      "[323]\teval-auc:0.8192\teval-logloss:0.008908\ttrain-auc:1\ttrain-logloss:0.006375\n",
      "[324]\teval-auc:0.818007\teval-logloss:0.008774\ttrain-auc:1\ttrain-logloss:0.006295\n",
      "[325]\teval-auc:0.818858\teval-logloss:0.008747\ttrain-auc:1\ttrain-logloss:0.006226\n",
      "[326]\teval-auc:0.818211\teval-logloss:0.008515\ttrain-auc:1\ttrain-logloss:0.006145\n",
      "[327]\teval-auc:0.817611\teval-logloss:0.008486\ttrain-auc:1\ttrain-logloss:0.006093\n",
      "[328]\teval-auc:0.817869\teval-logloss:0.008446\ttrain-auc:1\ttrain-logloss:0.006055\n",
      "[329]\teval-auc:0.818739\teval-logloss:0.008419\ttrain-auc:1\ttrain-logloss:0.005999\n",
      "[330]\teval-auc:0.819443\teval-logloss:0.008292\ttrain-auc:1\ttrain-logloss:0.005936\n",
      "[331]\teval-auc:0.818982\teval-logloss:0.008233\ttrain-auc:1\ttrain-logloss:0.00587\n",
      "[332]\teval-auc:0.81872\teval-logloss:0.008232\ttrain-auc:1\ttrain-logloss:0.005828\n",
      "[333]\teval-auc:0.818881\teval-logloss:0.008215\ttrain-auc:1\ttrain-logloss:0.005796\n",
      "[334]\teval-auc:0.818859\teval-logloss:0.008181\ttrain-auc:1\ttrain-logloss:0.005761\n",
      "[335]\teval-auc:0.818913\teval-logloss:0.008206\ttrain-auc:1\ttrain-logloss:0.005719\n",
      "[336]\teval-auc:0.818769\teval-logloss:0.007905\ttrain-auc:1\ttrain-logloss:0.005691\n",
      "[337]\teval-auc:0.818882\teval-logloss:0.007885\ttrain-auc:1\ttrain-logloss:0.005658\n",
      "[338]\teval-auc:0.819252\teval-logloss:0.007846\ttrain-auc:1\ttrain-logloss:0.005606\n",
      "[339]\teval-auc:0.819197\teval-logloss:0.007542\ttrain-auc:1\ttrain-logloss:0.005555\n",
      "[340]\teval-auc:0.818878\teval-logloss:0.007532\ttrain-auc:1\ttrain-logloss:0.005531\n",
      "[341]\teval-auc:0.818318\teval-logloss:0.00749\ttrain-auc:1\ttrain-logloss:0.005476\n",
      "[342]\teval-auc:0.818282\teval-logloss:0.00739\ttrain-auc:1\ttrain-logloss:0.005371\n",
      "[343]\teval-auc:0.817866\teval-logloss:0.007377\ttrain-auc:1\ttrain-logloss:0.005354\n",
      "[344]\teval-auc:0.817368\teval-logloss:0.0074\ttrain-auc:1\ttrain-logloss:0.005326\n",
      "[345]\teval-auc:0.8171\teval-logloss:0.007392\ttrain-auc:1\ttrain-logloss:0.005244\n",
      "[346]\teval-auc:0.816698\teval-logloss:0.007286\ttrain-auc:1\ttrain-logloss:0.005166\n",
      "[347]\teval-auc:0.81673\teval-logloss:0.007265\ttrain-auc:1\ttrain-logloss:0.005141\n",
      "[348]\teval-auc:0.816168\teval-logloss:0.00722\ttrain-auc:1\ttrain-logloss:0.005095\n",
      "[349]\teval-auc:0.816191\teval-logloss:0.00721\ttrain-auc:1\ttrain-logloss:0.005082\n",
      "[350]\teval-auc:0.815409\teval-logloss:0.007156\ttrain-auc:1\ttrain-logloss:0.005008\n",
      "[351]\teval-auc:0.814621\teval-logloss:0.007091\ttrain-auc:1\ttrain-logloss:0.004914\n",
      "[352]\teval-auc:0.814823\teval-logloss:0.007068\ttrain-auc:1\ttrain-logloss:0.004887\n",
      "[353]\teval-auc:0.813467\teval-logloss:0.006964\ttrain-auc:1\ttrain-logloss:0.00482\n",
      "[354]\teval-auc:0.812777\teval-logloss:0.006938\ttrain-auc:1\ttrain-logloss:0.004775\n",
      "[355]\teval-auc:0.812152\teval-logloss:0.006922\ttrain-auc:1\ttrain-logloss:0.004739\n",
      "[356]\teval-auc:0.811627\teval-logloss:0.006903\ttrain-auc:1\ttrain-logloss:0.004706\n",
      "[357]\teval-auc:0.811208\teval-logloss:0.006875\ttrain-auc:1\ttrain-logloss:0.004665\n",
      "[358]\teval-auc:0.811433\teval-logloss:0.00685\ttrain-auc:1\ttrain-logloss:0.004611\n",
      "[359]\teval-auc:0.812285\teval-logloss:0.006783\ttrain-auc:1\ttrain-logloss:0.004536\n",
      "[360]\teval-auc:0.811955\teval-logloss:0.006776\ttrain-auc:1\ttrain-logloss:0.004508\n",
      "[361]\teval-auc:0.812001\teval-logloss:0.006722\ttrain-auc:1\ttrain-logloss:0.004455\n",
      "[362]\teval-auc:0.811938\teval-logloss:0.006694\ttrain-auc:1\ttrain-logloss:0.004388\n",
      "[363]\teval-auc:0.813842\teval-logloss:0.006687\ttrain-auc:1\ttrain-logloss:0.004369\n",
      "[364]\teval-auc:0.813413\teval-logloss:0.006716\ttrain-auc:1\ttrain-logloss:0.004348\n",
      "[365]\teval-auc:0.813151\teval-logloss:0.006719\ttrain-auc:1\ttrain-logloss:0.004327\n",
      "[366]\teval-auc:0.812655\teval-logloss:0.006711\ttrain-auc:1\ttrain-logloss:0.004303\n",
      "[367]\teval-auc:0.812709\teval-logloss:0.006536\ttrain-auc:1\ttrain-logloss:0.004252\n",
      "[368]\teval-auc:0.812311\teval-logloss:0.006513\ttrain-auc:1\ttrain-logloss:0.004218\n",
      "[369]\teval-auc:0.812573\teval-logloss:0.006493\ttrain-auc:1\ttrain-logloss:0.004196\n",
      "[370]\teval-auc:0.811806\teval-logloss:0.006473\ttrain-auc:1\ttrain-logloss:0.004156\n",
      "[371]\teval-auc:0.811598\teval-logloss:0.006436\ttrain-auc:1\ttrain-logloss:0.00413\n",
      "[372]\teval-auc:0.811617\teval-logloss:0.006422\ttrain-auc:1\ttrain-logloss:0.004103\n",
      "[373]\teval-auc:0.812027\teval-logloss:0.006275\ttrain-auc:1\ttrain-logloss:0.004035\n",
      "[374]\teval-auc:0.812015\teval-logloss:0.006269\ttrain-auc:1\ttrain-logloss:0.003991\n",
      "[375]\teval-auc:0.812225\teval-logloss:0.006216\ttrain-auc:1\ttrain-logloss:0.003968\n",
      "[376]\teval-auc:0.811546\teval-logloss:0.006196\ttrain-auc:1\ttrain-logloss:0.003941\n",
      "[377]\teval-auc:0.811635\teval-logloss:0.00618\ttrain-auc:1\ttrain-logloss:0.003916\n",
      "[378]\teval-auc:0.811739\teval-logloss:0.006164\ttrain-auc:1\ttrain-logloss:0.003891\n",
      "[379]\teval-auc:0.8119\teval-logloss:0.006139\ttrain-auc:1\ttrain-logloss:0.003852\n",
      "[380]\teval-auc:0.81162\teval-logloss:0.006056\ttrain-auc:1\ttrain-logloss:0.003832\n",
      "[381]\teval-auc:0.810424\teval-logloss:0.006051\ttrain-auc:1\ttrain-logloss:0.003813\n",
      "[382]\teval-auc:0.810121\teval-logloss:0.006035\ttrain-auc:1\ttrain-logloss:0.00378\n",
      "[383]\teval-auc:0.80978\teval-logloss:0.006025\ttrain-auc:1\ttrain-logloss:0.003756\n",
      "[384]\teval-auc:0.808716\teval-logloss:0.006008\ttrain-auc:1\ttrain-logloss:0.003728\n",
      "[385]\teval-auc:0.808693\teval-logloss:0.005986\ttrain-auc:1\ttrain-logloss:0.003694\n",
      "[386]\teval-auc:0.808152\teval-logloss:0.005973\ttrain-auc:1\ttrain-logloss:0.003652\n",
      "[387]\teval-auc:0.80764\teval-logloss:0.00596\ttrain-auc:1\ttrain-logloss:0.003613\n",
      "[388]\teval-auc:0.807145\teval-logloss:0.005936\ttrain-auc:1\ttrain-logloss:0.003581\n",
      "[389]\teval-auc:0.807577\teval-logloss:0.005935\ttrain-auc:1\ttrain-logloss:0.00356\n",
      "[390]\teval-auc:0.807264\teval-logloss:0.005873\ttrain-auc:1\ttrain-logloss:0.00349\n",
      "[391]\teval-auc:0.806247\teval-logloss:0.005856\ttrain-auc:1\ttrain-logloss:0.003472\n",
      "[392]\teval-auc:0.805795\teval-logloss:0.005859\ttrain-auc:1\ttrain-logloss:0.003435\n",
      "[393]\teval-auc:0.805501\teval-logloss:0.005841\ttrain-auc:1\ttrain-logloss:0.003409\n",
      "[394]\teval-auc:0.804924\teval-logloss:0.005715\ttrain-auc:1\ttrain-logloss:0.003383\n",
      "[395]\teval-auc:0.805067\teval-logloss:0.005698\ttrain-auc:1\ttrain-logloss:0.003357\n",
      "[396]\teval-auc:0.805129\teval-logloss:0.005657\ttrain-auc:1\ttrain-logloss:0.003336\n",
      "[397]\teval-auc:0.805232\teval-logloss:0.005632\ttrain-auc:1\ttrain-logloss:0.003294\n",
      "[398]\teval-auc:0.804761\teval-logloss:0.005619\ttrain-auc:1\ttrain-logloss:0.00326\n",
      "[399]\teval-auc:0.805014\teval-logloss:0.005603\ttrain-auc:1\ttrain-logloss:0.003222\n",
      "[400]\teval-auc:0.804298\teval-logloss:0.005589\ttrain-auc:1\ttrain-logloss:0.00319\n",
      "[401]\teval-auc:0.804425\teval-logloss:0.005572\ttrain-auc:1\ttrain-logloss:0.003162\n",
      "[402]\teval-auc:0.804129\teval-logloss:0.005565\ttrain-auc:1\ttrain-logloss:0.003148\n",
      "[403]\teval-auc:0.803948\teval-logloss:0.005561\ttrain-auc:1\ttrain-logloss:0.003141\n",
      "[404]\teval-auc:0.803623\teval-logloss:0.005555\ttrain-auc:1\ttrain-logloss:0.003125\n",
      "[405]\teval-auc:0.803014\teval-logloss:0.005538\ttrain-auc:1\ttrain-logloss:0.003117\n",
      "[406]\teval-auc:0.802565\teval-logloss:0.005523\ttrain-auc:1\ttrain-logloss:0.003085\n",
      "[407]\teval-auc:0.802441\teval-logloss:0.005516\ttrain-auc:1\ttrain-logloss:0.003071\n",
      "[408]\teval-auc:0.802347\teval-logloss:0.00549\ttrain-auc:1\ttrain-logloss:0.003056\n",
      "[409]\teval-auc:0.80286\teval-logloss:0.005474\ttrain-auc:1\ttrain-logloss:0.003034\n",
      "[410]\teval-auc:0.80369\teval-logloss:0.005466\ttrain-auc:1\ttrain-logloss:0.003021\n",
      "[411]\teval-auc:0.803074\teval-logloss:0.005446\ttrain-auc:1\ttrain-logloss:0.002975\n",
      "[412]\teval-auc:0.803417\teval-logloss:0.005427\ttrain-auc:1\ttrain-logloss:0.002938\n",
      "[413]\teval-auc:0.803832\teval-logloss:0.005408\ttrain-auc:1\ttrain-logloss:0.002912\n",
      "[414]\teval-auc:0.804728\teval-logloss:0.005394\ttrain-auc:1\ttrain-logloss:0.002897\n",
      "[415]\teval-auc:0.806403\teval-logloss:0.005378\ttrain-auc:1\ttrain-logloss:0.002871\n",
      "[416]\teval-auc:0.806548\teval-logloss:0.00537\ttrain-auc:1\ttrain-logloss:0.002861\n",
      "[417]\teval-auc:0.806769\teval-logloss:0.005343\ttrain-auc:1\ttrain-logloss:0.002841\n",
      "[418]\teval-auc:0.807132\teval-logloss:0.005311\ttrain-auc:1\ttrain-logloss:0.002795\n",
      "[419]\teval-auc:0.8064\teval-logloss:0.005343\ttrain-auc:1\ttrain-logloss:0.00277\n",
      "[420]\teval-auc:0.806131\teval-logloss:0.005331\ttrain-auc:1\ttrain-logloss:0.002736\n",
      "[421]\teval-auc:0.805863\teval-logloss:0.005257\ttrain-auc:1\ttrain-logloss:0.002705\n",
      "[422]\teval-auc:0.805264\teval-logloss:0.005245\ttrain-auc:1\ttrain-logloss:0.002677\n",
      "[423]\teval-auc:0.804943\teval-logloss:0.005233\ttrain-auc:1\ttrain-logloss:0.00265\n",
      "[424]\teval-auc:0.804803\teval-logloss:0.005228\ttrain-auc:1\ttrain-logloss:0.002636\n",
      "[425]\teval-auc:0.804904\teval-logloss:0.00522\ttrain-auc:1\ttrain-logloss:0.002627\n",
      "[426]\teval-auc:0.804163\teval-logloss:0.005185\ttrain-auc:1\ttrain-logloss:0.002575\n",
      "[427]\teval-auc:0.803886\teval-logloss:0.005168\ttrain-auc:1\ttrain-logloss:0.002555\n",
      "[428]\teval-auc:0.803203\teval-logloss:0.005164\ttrain-auc:1\ttrain-logloss:0.00253\n",
      "[429]\teval-auc:0.803776\teval-logloss:0.005144\ttrain-auc:1\ttrain-logloss:0.002509\n",
      "[430]\teval-auc:0.802995\teval-logloss:0.00514\ttrain-auc:1\ttrain-logloss:0.002499\n",
      "[431]\teval-auc:0.802572\teval-logloss:0.005107\ttrain-auc:1\ttrain-logloss:0.002453\n",
      "[432]\teval-auc:0.8026\teval-logloss:0.005097\ttrain-auc:1\ttrain-logloss:0.002441\n",
      "[433]\teval-auc:0.802937\teval-logloss:0.005087\ttrain-auc:1\ttrain-logloss:0.002428\n",
      "[434]\teval-auc:0.802379\teval-logloss:0.005025\ttrain-auc:1\ttrain-logloss:0.002405\n",
      "[435]\teval-auc:0.801449\teval-logloss:0.005035\ttrain-auc:1\ttrain-logloss:0.002385\n",
      "[436]\teval-auc:0.801352\teval-logloss:0.005047\ttrain-auc:1\ttrain-logloss:0.002375\n",
      "[437]\teval-auc:0.801373\teval-logloss:0.005057\ttrain-auc:1\ttrain-logloss:0.002353\n",
      "[438]\teval-auc:0.800909\teval-logloss:0.005043\ttrain-auc:1\ttrain-logloss:0.002325\n",
      "[439]\teval-auc:0.800511\teval-logloss:0.005027\ttrain-auc:1\ttrain-logloss:0.002293\n",
      "[440]\teval-auc:0.800831\teval-logloss:0.005014\ttrain-auc:1\ttrain-logloss:0.002273\n",
      "[441]\teval-auc:0.799881\teval-logloss:0.004997\ttrain-auc:1\ttrain-logloss:0.002252\n",
      "[442]\teval-auc:0.799492\teval-logloss:0.004974\ttrain-auc:1\ttrain-logloss:0.002238\n",
      "[443]\teval-auc:0.799287\teval-logloss:0.00487\ttrain-auc:1\ttrain-logloss:0.002211\n",
      "[444]\teval-auc:0.79933\teval-logloss:0.004841\ttrain-auc:1\ttrain-logloss:0.002197\n",
      "[445]\teval-auc:0.799056\teval-logloss:0.004835\ttrain-auc:1\ttrain-logloss:0.00219\n",
      "[446]\teval-auc:0.798745\teval-logloss:0.004831\ttrain-auc:1\ttrain-logloss:0.002172\n",
      "[447]\teval-auc:0.79844\teval-logloss:0.004825\ttrain-auc:1\ttrain-logloss:0.002161\n",
      "[448]\teval-auc:0.799011\teval-logloss:0.004805\ttrain-auc:1\ttrain-logloss:0.002131\n",
      "[449]\teval-auc:0.798431\teval-logloss:0.004793\ttrain-auc:1\ttrain-logloss:0.002121\n",
      "[450]\teval-auc:0.798214\teval-logloss:0.004735\ttrain-auc:1\ttrain-logloss:0.002092\n",
      "[451]\teval-auc:0.797429\teval-logloss:0.004732\ttrain-auc:1\ttrain-logloss:0.002077\n",
      "[452]\teval-auc:0.798831\teval-logloss:0.004728\ttrain-auc:1\ttrain-logloss:0.002072\n",
      "[453]\teval-auc:0.798563\teval-logloss:0.004726\ttrain-auc:1\ttrain-logloss:0.002068\n",
      "[454]\teval-auc:0.798829\teval-logloss:0.004718\ttrain-auc:1\ttrain-logloss:0.002058\n",
      "[455]\teval-auc:0.799045\teval-logloss:0.004714\ttrain-auc:1\ttrain-logloss:0.002048\n",
      "[456]\teval-auc:0.798486\teval-logloss:0.0047\ttrain-auc:1\ttrain-logloss:0.002028\n",
      "[457]\teval-auc:0.798165\teval-logloss:0.004687\ttrain-auc:1\ttrain-logloss:0.002004\n",
      "[458]\teval-auc:0.798523\teval-logloss:0.004646\ttrain-auc:1\ttrain-logloss:0.00198\n",
      "[459]\teval-auc:0.799255\teval-logloss:0.004632\ttrain-auc:1\ttrain-logloss:0.001951\n",
      "[460]\teval-auc:0.798723\teval-logloss:0.004626\ttrain-auc:1\ttrain-logloss:0.001936\n",
      "[461]\teval-auc:0.798875\teval-logloss:0.004578\ttrain-auc:1\ttrain-logloss:0.001927\n",
      "[462]\teval-auc:0.79886\teval-logloss:0.004552\ttrain-auc:1\ttrain-logloss:0.001919\n",
      "[463]\teval-auc:0.79887\teval-logloss:0.004491\ttrain-auc:1\ttrain-logloss:0.0019\n",
      "[464]\teval-auc:0.798306\teval-logloss:0.00444\ttrain-auc:1\ttrain-logloss:0.001883\n",
      "[465]\teval-auc:0.797996\teval-logloss:0.004436\ttrain-auc:1\ttrain-logloss:0.001876\n",
      "[466]\teval-auc:0.798076\teval-logloss:0.004425\ttrain-auc:1\ttrain-logloss:0.001855\n",
      "[467]\teval-auc:0.798416\teval-logloss:0.004405\ttrain-auc:1\ttrain-logloss:0.001834\n",
      "[468]\teval-auc:0.79851\teval-logloss:0.004399\ttrain-auc:1\ttrain-logloss:0.001824\n",
      "[469]\teval-auc:0.798195\teval-logloss:0.004399\ttrain-auc:1\ttrain-logloss:0.001816\n",
      "[470]\teval-auc:0.797391\teval-logloss:0.004369\ttrain-auc:1\ttrain-logloss:0.001807\n",
      "[471]\teval-auc:0.797139\teval-logloss:0.004371\ttrain-auc:1\ttrain-logloss:0.001796\n",
      "[472]\teval-auc:0.797033\teval-logloss:0.004369\ttrain-auc:1\ttrain-logloss:0.001788\n",
      "[473]\teval-auc:0.79706\teval-logloss:0.004361\ttrain-auc:1\ttrain-logloss:0.001773\n",
      "[474]\teval-auc:0.797786\teval-logloss:0.004356\ttrain-auc:1\ttrain-logloss:0.001762\n",
      "[475]\teval-auc:0.798387\teval-logloss:0.004352\ttrain-auc:1\ttrain-logloss:0.001753\n",
      "[476]\teval-auc:0.798332\teval-logloss:0.004355\ttrain-auc:1\ttrain-logloss:0.00172\n",
      "[477]\teval-auc:0.798125\teval-logloss:0.004353\ttrain-auc:1\ttrain-logloss:0.001709\n",
      "[478]\teval-auc:0.798133\teval-logloss:0.004358\ttrain-auc:1\ttrain-logloss:0.001701\n",
      "[479]\teval-auc:0.798235\teval-logloss:0.004355\ttrain-auc:1\ttrain-logloss:0.001692\n",
      "[480]\teval-auc:0.798184\teval-logloss:0.004353\ttrain-auc:1\ttrain-logloss:0.001689\n",
      "[481]\teval-auc:0.797757\teval-logloss:0.004349\ttrain-auc:1\ttrain-logloss:0.001678\n",
      "[482]\teval-auc:0.797501\teval-logloss:0.004314\ttrain-auc:1\ttrain-logloss:0.001642\n",
      "[483]\teval-auc:0.797758\teval-logloss:0.004305\ttrain-auc:1\ttrain-logloss:0.00163\n",
      "[484]\teval-auc:0.797582\teval-logloss:0.004276\ttrain-auc:1\ttrain-logloss:0.001611\n",
      "[485]\teval-auc:0.797356\teval-logloss:0.004216\ttrain-auc:1\ttrain-logloss:0.001601\n",
      "[486]\teval-auc:0.797687\teval-logloss:0.004155\ttrain-auc:1\ttrain-logloss:0.001583\n",
      "[487]\teval-auc:0.797444\teval-logloss:0.00412\ttrain-auc:1\ttrain-logloss:0.001564\n",
      "[488]\teval-auc:0.796767\teval-logloss:0.004121\ttrain-auc:1\ttrain-logloss:0.001556\n",
      "[489]\teval-auc:0.796735\teval-logloss:0.004115\ttrain-auc:1\ttrain-logloss:0.001547\n",
      "[490]\teval-auc:0.79609\teval-logloss:0.004113\ttrain-auc:1\ttrain-logloss:0.001537\n",
      "[491]\teval-auc:0.796581\teval-logloss:0.004105\ttrain-auc:1\ttrain-logloss:0.001522\n",
      "[492]\teval-auc:0.796678\teval-logloss:0.004097\ttrain-auc:1\ttrain-logloss:0.001506\n",
      "[493]\teval-auc:0.796391\teval-logloss:0.004092\ttrain-auc:1\ttrain-logloss:0.001496\n",
      "[494]\teval-auc:0.795789\teval-logloss:0.004078\ttrain-auc:1\ttrain-logloss:0.001477\n",
      "[495]\teval-auc:0.796064\teval-logloss:0.004068\ttrain-auc:1\ttrain-logloss:0.001465\n",
      "[496]\teval-auc:0.795958\teval-logloss:0.004064\ttrain-auc:1\ttrain-logloss:0.001458\n",
      "[497]\teval-auc:0.796696\teval-logloss:0.004062\ttrain-auc:1\ttrain-logloss:0.001455\n",
      "[498]\teval-auc:0.796085\teval-logloss:0.004057\ttrain-auc:1\ttrain-logloss:0.001443\n",
      "[499]\teval-auc:0.796275\teval-logloss:0.004052\ttrain-auc:1\ttrain-logloss:0.001438\n"
     ]
    }
   ],
   "source": [
    "param = {'silent':1, 'objective':'binary:logistic', 'booster':'gbtree', 'base_score':0.5,'eval_metric' : ['auc','logloss']}\n",
    "\n",
    "# the rest of settings are the same\n",
    "watchlist = [(dtest, 'eval'), (dtrain, 'train')]\n",
    "num_round = 500\n",
    "# training and evaluation\n",
    "bst = xgb.train(param, dtrain, num_round, watchlist)\n",
    "preds = bst.predict(dtest)\n",
    "labels = dtest.get_label()"
   ]
  },
  {
   "cell_type": "code",
   "execution_count": 273,
   "metadata": {},
   "outputs": [],
   "source": [
    "dtrain = xgb.DMatrix(trainX_sel, trainY_sel)\n",
    "dtest = xgb.DMatrix(testX_sel,testY_sel)"
   ]
  },
  {
   "cell_type": "code",
   "execution_count": 274,
   "metadata": {},
   "outputs": [
    {
     "name": "stdout",
     "output_type": "stream",
     "text": [
      "[0]\teval-auc:0.5\teval-logloss:0.438102\ttrain-auc:0.5\ttrain-logloss:0.437908\n",
      "[1]\teval-auc:0.730742\teval-logloss:0.297405\ttrain-auc:0.743389\ttrain-logloss:0.297464\n",
      "[2]\teval-auc:0.789807\teval-logloss:0.208697\ttrain-auc:0.79665\ttrain-logloss:0.208579\n",
      "[3]\teval-auc:0.793375\teval-logloss:0.149466\ttrain-auc:0.805552\ttrain-logloss:0.149514\n",
      "[4]\teval-auc:0.793366\teval-logloss:0.108603\ttrain-auc:0.805708\ttrain-logloss:0.108272\n",
      "[5]\teval-auc:0.794861\teval-logloss:0.079686\ttrain-auc:0.808899\ttrain-logloss:0.079539\n",
      "[6]\teval-auc:0.79557\teval-logloss:0.05907\ttrain-auc:0.80986\ttrain-logloss:0.058737\n",
      "[7]\teval-auc:0.830642\teval-logloss:0.044193\ttrain-auc:0.846089\ttrain-logloss:0.043871\n",
      "[8]\teval-auc:0.834362\teval-logloss:0.033405\ttrain-auc:0.854807\ttrain-logloss:0.033117\n",
      "[9]\teval-auc:0.836534\teval-logloss:0.025561\ttrain-auc:0.858855\ttrain-logloss:0.025246\n",
      "[10]\teval-auc:0.841313\teval-logloss:0.019859\ttrain-auc:0.864115\ttrain-logloss:0.019495\n",
      "[11]\teval-auc:0.844446\teval-logloss:0.015698\ttrain-auc:0.865698\ttrain-logloss:0.015301\n",
      "[12]\teval-auc:0.846346\teval-logloss:0.012669\ttrain-auc:0.86834\ttrain-logloss:0.012219\n",
      "[13]\teval-auc:0.868014\teval-logloss:0.010465\ttrain-auc:0.884484\ttrain-logloss:0.009979\n",
      "[14]\teval-auc:0.871074\teval-logloss:0.008862\ttrain-auc:0.893724\ttrain-logloss:0.008344\n",
      "[15]\teval-auc:0.873822\teval-logloss:0.007705\ttrain-auc:0.901066\ttrain-logloss:0.007145\n",
      "[16]\teval-auc:0.876114\teval-logloss:0.006875\ttrain-auc:0.906736\ttrain-logloss:0.006263\n",
      "[17]\teval-auc:0.882802\teval-logloss:0.006277\ttrain-auc:0.912468\ttrain-logloss:0.005621\n",
      "[18]\teval-auc:0.885687\teval-logloss:0.005849\ttrain-auc:0.916787\ttrain-logloss:0.005158\n",
      "[19]\teval-auc:0.88736\teval-logloss:0.005544\ttrain-auc:0.924699\ttrain-logloss:0.004814\n",
      "[20]\teval-auc:0.88972\teval-logloss:0.005323\ttrain-auc:0.927028\ttrain-logloss:0.004561\n",
      "[21]\teval-auc:0.891058\teval-logloss:0.005163\ttrain-auc:0.929755\ttrain-logloss:0.004385\n",
      "[22]\teval-auc:0.889715\teval-logloss:0.005059\ttrain-auc:0.931736\ttrain-logloss:0.004254\n",
      "[23]\teval-auc:0.891258\teval-logloss:0.004986\ttrain-auc:0.937436\ttrain-logloss:0.004147\n",
      "[24]\teval-auc:0.892838\teval-logloss:0.00493\ttrain-auc:0.93878\ttrain-logloss:0.004064\n",
      "[25]\teval-auc:0.892731\teval-logloss:0.004889\ttrain-auc:0.941962\ttrain-logloss:0.003988\n",
      "[26]\teval-auc:0.894141\teval-logloss:0.004857\ttrain-auc:0.944329\ttrain-logloss:0.003925\n",
      "[27]\teval-auc:0.894676\teval-logloss:0.004835\ttrain-auc:0.946178\ttrain-logloss:0.00389\n",
      "[28]\teval-auc:0.894447\teval-logloss:0.004825\ttrain-auc:0.948148\ttrain-logloss:0.003857\n",
      "[29]\teval-auc:0.895118\teval-logloss:0.004818\ttrain-auc:0.950021\ttrain-logloss:0.003827\n",
      "[30]\teval-auc:0.895894\teval-logloss:0.004809\ttrain-auc:0.952029\ttrain-logloss:0.0038\n",
      "[31]\teval-auc:0.896393\teval-logloss:0.004804\ttrain-auc:0.953665\ttrain-logloss:0.003777\n",
      "[32]\teval-auc:0.895801\teval-logloss:0.004807\ttrain-auc:0.955229\ttrain-logloss:0.003748\n"
     ]
    }
   ],
   "source": [
    "param = {'silent':1, 'objective':'binary:logistic', 'booster':'gbtree', 'base_score':0.5,'eval_metric' : ['auc','logloss']}\n",
    "# the rest of settings are the same\n",
    "watchlist = [(dtest, 'eval'), (dtrain, 'train')]\n",
    "num_round = 33\n",
    "# training and evaluation\n",
    "bst = xgb.train(param, dtrain, num_round, watchlist)\n",
    "preds_unweighted = bst.predict(dtest)\n",
    "labels_unweighted = dtest.get_label()"
   ]
  },
  {
   "cell_type": "code",
   "execution_count": 265,
   "metadata": {},
   "outputs": [
    {
     "data": {
      "text/plain": [
       "<matplotlib.axes._subplots.AxesSubplot at 0x7fae7efefeb8>"
      ]
     },
     "execution_count": 265,
     "metadata": {},
     "output_type": "execute_result"
    },
    {
     "data": {
      "image/png": "[encoded data removed]",
      "text/plain": [
       "<Figure size 432x288 with 1 Axes>"
      ]
     },
     "metadata": {
      "needs_background": "light"
     },
     "output_type": "display_data"
    }
   ],
   "source": [
    "plot_importance(bst)"
   ]
  },
  {
   "cell_type": "code",
   "execution_count": 275,
   "metadata": {},
   "outputs": [
    {
     "data": {
      "text/plain": [
       "<matplotlib.axes._subplots.AxesSubplot at 0x7fae7eebaa58>"
      ]
     },
     "execution_count": 275,
     "metadata": {},
     "output_type": "execute_result"
    },
    {
     "data": {
      "image/png": "[encoded data removed]",
      "text/plain": [
       "<Figure size 432x288 with 1 Axes>"
      ]
     },
     "metadata": {
      "needs_background": "light"
     },
     "output_type": "display_data"
    }
   ],
   "source": []
  },
  {
   "cell_type": "code",
   "execution_count": 268,
   "metadata": {},
   "outputs": [
    {
     "data": {
      "text/plain": [
       "8.0"
      ]
     },
     "execution_count": 268,
     "metadata": {},
     "output_type": "execute_result"
    }
   ],
   "source": [
    "labels[np.where(preds  > 0.1)].sum()"
   ]
  },
  {
   "cell_type": "code",
   "execution_count": 269,
   "metadata": {},
   "outputs": [
    {
     "data": {
      "text/plain": [
       "829"
      ]
     },
     "execution_count": 269,
     "metadata": {},
     "output_type": "execute_result"
    }
   ],
   "source": [
    "len(preds[preds > 0.1])"
   ]
  },
  {
   "cell_type": "code",
   "execution_count": 277,
   "metadata": {},
   "outputs": [
    {
     "data": {
      "text/plain": [
       "7156"
      ]
     },
     "execution_count": 277,
     "metadata": {},
     "output_type": "execute_result"
    }
   ],
   "source": [
    "len(preds[preds > 0.01])"
   ]
  },
  {
   "cell_type": "code",
   "execution_count": 276,
   "metadata": {},
   "outputs": [
    {
     "data": {
      "text/plain": [
       "34.0"
      ]
     },
     "execution_count": 276,
     "metadata": {},
     "output_type": "execute_result"
    }
   ],
   "source": [
    "labels[np.where(preds  > 0.01)].sum()"
   ]
  },
  {
   "cell_type": "code",
   "execution_count": 278,
   "metadata": {},
   "outputs": [
    {
     "data": {
      "text/plain": [
       "471.4612724655308"
      ]
     },
     "execution_count": 278,
     "metadata": {},
     "output_type": "execute_result"
    }
   ],
   "source": [
    "preds.mean() * len(preds)"
   ]
  },
  {
   "cell_type": "code",
   "execution_count": 286,
   "metadata": {},
   "outputs": [
    {
     "data": {
      "text/plain": [
       "199"
      ]
     },
     "execution_count": 286,
     "metadata": {},
     "output_type": "execute_result"
    }
   ],
   "source": [
    "(labels == 1).sum()"
   ]
  },
  {
   "cell_type": "code",
   "execution_count": 287,
   "metadata": {},
   "outputs": [
    {
     "data": {
      "text/plain": [
       "0.0"
      ]
     },
     "execution_count": 287,
     "metadata": {},
     "output_type": "execute_result"
    }
   ],
   "source": [
    "labels_unweighted[np.where(preds_unweighted  > 0.1)].sum()"
   ]
  },
  {
   "cell_type": "code",
   "execution_count": 280,
   "metadata": {},
   "outputs": [
    {
     "data": {
      "text/plain": [
       "0"
      ]
     },
     "execution_count": 280,
     "metadata": {},
     "output_type": "execute_result"
    }
   ],
   "source": [
    "len(preds_unweighted[preds_unweighted > 0.1])"
   ]
  },
  {
   "cell_type": "code",
   "execution_count": 281,
   "metadata": {},
   "outputs": [
    {
     "data": {
      "text/plain": [
       "1078"
      ]
     },
     "execution_count": 281,
     "metadata": {},
     "output_type": "execute_result"
    }
   ],
   "source": [
    "len(preds_unweighted[preds_unweighted > 0.01])"
   ]
  },
  {
   "cell_type": "code",
   "execution_count": 282,
   "metadata": {},
   "outputs": [
    {
     "data": {
      "text/plain": [
       "13.0"
      ]
     },
     "execution_count": 282,
     "metadata": {},
     "output_type": "execute_result"
    }
   ],
   "source": [
    "labels_unweighted[np.where(preds_unweighted  > 0.01)].sum()"
   ]
  },
  {
   "cell_type": "code",
   "execution_count": 283,
   "metadata": {},
   "outputs": [
    {
     "data": {
      "text/plain": [
       "181.2386857403908"
      ]
     },
     "execution_count": 283,
     "metadata": {},
     "output_type": "execute_result"
    }
   ],
   "source": [
    "preds_unweighted.mean() * len(preds_unweighted)"
   ]
  },
  {
   "cell_type": "code",
   "execution_count": 285,
   "metadata": {},
   "outputs": [
    {
     "data": {
      "text/plain": [
       "199"
      ]
     },
     "execution_count": 285,
     "metadata": {},
     "output_type": "execute_result"
    }
   ],
   "source": [
    "(labels_unweighted == 1).sum()"
   ]
  },
  {
   "cell_type": "code",
   "execution_count": 307,
   "metadata": {},
   "outputs": [],
   "source": [
    "dtrain = xgb.DMatrix(trainX, trainY)\n",
    "dtest = xgb.DMatrix(testX,testY)"
   ]
  },
  {
   "cell_type": "code",
   "execution_count": 308,
   "metadata": {},
   "outputs": [
    {
     "name": "stdout",
     "output_type": "stream",
     "text": [
      "[0]\teval-auc:0.5\teval-logloss:0.438079\ttrain-auc:0.5\ttrain-logloss:0.437914\n",
      "[1]\teval-auc:0.693043\teval-logloss:0.297385\ttrain-auc:0.726202\ttrain-logloss:0.297495\n",
      "[2]\teval-auc:0.751946\teval-logloss:0.208639\ttrain-auc:0.788791\ttrain-logloss:0.208526\n",
      "[3]\teval-auc:0.752051\teval-logloss:0.149389\ttrain-auc:0.795996\ttrain-logloss:0.14952\n",
      "[4]\teval-auc:0.748842\teval-logloss:0.108502\ttrain-auc:0.812516\ttrain-logloss:0.108272\n",
      "[5]\teval-auc:0.791743\teval-logloss:0.079596\ttrain-auc:0.847422\ttrain-logloss:0.079562\n",
      "[6]\teval-auc:0.797389\teval-logloss:0.058935\ttrain-auc:0.85092\ttrain-logloss:0.058771\n",
      "[7]\teval-auc:0.803614\teval-logloss:0.04407\ttrain-auc:0.856532\ttrain-logloss:0.04388\n",
      "[8]\teval-auc:0.816182\teval-logloss:0.033275\ttrain-auc:0.866147\ttrain-logloss:0.033134\n",
      "[9]\teval-auc:0.81605\teval-logloss:0.025436\ttrain-auc:0.868611\ttrain-logloss:0.02525\n",
      "[10]\teval-auc:0.826447\teval-logloss:0.0197\ttrain-auc:0.88748\ttrain-logloss:0.019488\n",
      "[11]\teval-auc:0.831013\teval-logloss:0.015525\ttrain-auc:0.892772\ttrain-logloss:0.015285\n",
      "[12]\teval-auc:0.853922\teval-logloss:0.012484\ttrain-auc:0.917039\ttrain-logloss:0.012178\n",
      "[13]\teval-auc:0.857829\teval-logloss:0.01027\ttrain-auc:0.922241\ttrain-logloss:0.009928\n",
      "[14]\teval-auc:0.860664\teval-logloss:0.008656\ttrain-auc:0.92844\ttrain-logloss:0.008267\n",
      "[15]\teval-auc:0.87031\teval-logloss:0.00749\ttrain-auc:0.934003\ttrain-logloss:0.00705\n",
      "[16]\teval-auc:0.876664\teval-logloss:0.006627\ttrain-auc:0.938778\ttrain-logloss:0.006151\n",
      "[17]\teval-auc:0.881665\teval-logloss:0.006017\ttrain-auc:0.943541\ttrain-logloss:0.00548\n",
      "[18]\teval-auc:0.884024\teval-logloss:0.00558\ttrain-auc:0.946219\ttrain-logloss:0.004988\n",
      "[19]\teval-auc:0.886512\teval-logloss:0.00527\ttrain-auc:0.951744\ttrain-logloss:0.004619\n",
      "[20]\teval-auc:0.88832\teval-logloss:0.005036\ttrain-auc:0.954774\ttrain-logloss:0.004338\n",
      "[21]\teval-auc:0.901094\teval-logloss:0.00487\ttrain-auc:0.959684\ttrain-logloss:0.004135\n",
      "[22]\teval-auc:0.900516\teval-logloss:0.004759\ttrain-auc:0.960802\ttrain-logloss:0.003981\n",
      "[23]\teval-auc:0.90044\teval-logloss:0.004677\ttrain-auc:0.9645\ttrain-logloss:0.003838\n",
      "[24]\teval-auc:0.90292\teval-logloss:0.004608\ttrain-auc:0.968809\ttrain-logloss:0.003734\n",
      "[25]\teval-auc:0.90365\teval-logloss:0.004572\ttrain-auc:0.969929\ttrain-logloss:0.00366\n",
      "[26]\teval-auc:0.905717\teval-logloss:0.004538\ttrain-auc:0.971718\ttrain-logloss:0.0036\n",
      "[27]\teval-auc:0.907001\teval-logloss:0.00451\ttrain-auc:0.97336\ttrain-logloss:0.003539\n",
      "[28]\teval-auc:0.910339\teval-logloss:0.004493\ttrain-auc:0.974435\ttrain-logloss:0.003494\n",
      "[29]\teval-auc:0.912659\teval-logloss:0.004485\ttrain-auc:0.975478\ttrain-logloss:0.003457\n",
      "[30]\teval-auc:0.91378\teval-logloss:0.004474\ttrain-auc:0.976732\ttrain-logloss:0.003422\n",
      "[31]\teval-auc:0.914003\teval-logloss:0.004474\ttrain-auc:0.977882\ttrain-logloss:0.003393\n",
      "[32]\teval-auc:0.913983\teval-logloss:0.004468\ttrain-auc:0.97894\ttrain-logloss:0.003363\n",
      "[33]\teval-auc:0.913735\teval-logloss:0.004474\ttrain-auc:0.979494\ttrain-logloss:0.003337\n",
      "[34]\teval-auc:0.913843\teval-logloss:0.004477\ttrain-auc:0.980594\ttrain-logloss:0.003304\n",
      "[35]\teval-auc:0.914079\teval-logloss:0.004476\ttrain-auc:0.981085\ttrain-logloss:0.003286\n",
      "[36]\teval-auc:0.913783\teval-logloss:0.004474\ttrain-auc:0.981787\ttrain-logloss:0.003266\n",
      "[37]\teval-auc:0.91396\teval-logloss:0.004469\ttrain-auc:0.982309\ttrain-logloss:0.003237\n",
      "[38]\teval-auc:0.913641\teval-logloss:0.004473\ttrain-auc:0.983509\ttrain-logloss:0.003199\n",
      "[39]\teval-auc:0.914112\teval-logloss:0.004485\ttrain-auc:0.984989\ttrain-logloss:0.003138\n",
      "[40]\teval-auc:0.914268\teval-logloss:0.004488\ttrain-auc:0.985304\ttrain-logloss:0.003113\n",
      "[41]\teval-auc:0.913813\teval-logloss:0.004491\ttrain-auc:0.985425\ttrain-logloss:0.003105\n",
      "[42]\teval-auc:0.913319\teval-logloss:0.004494\ttrain-auc:0.985778\ttrain-logloss:0.003085\n",
      "[43]\teval-auc:0.913021\teval-logloss:0.004498\ttrain-auc:0.986043\ttrain-logloss:0.003064\n",
      "[44]\teval-auc:0.911924\teval-logloss:0.004516\ttrain-auc:0.987673\ttrain-logloss:0.002971\n",
      "[45]\teval-auc:0.912234\teval-logloss:0.004514\ttrain-auc:0.988104\ttrain-logloss:0.002938\n",
      "[46]\teval-auc:0.912944\teval-logloss:0.004515\ttrain-auc:0.989179\ttrain-logloss:0.002865\n",
      "[47]\teval-auc:0.913341\teval-logloss:0.004517\ttrain-auc:0.98975\ttrain-logloss:0.002816\n",
      "[48]\teval-auc:0.913705\teval-logloss:0.004523\ttrain-auc:0.990241\ttrain-logloss:0.002773\n",
      "[49]\teval-auc:0.913213\teval-logloss:0.004525\ttrain-auc:0.990396\ttrain-logloss:0.002752\n"
     ]
    }
   ],
   "source": [
    "param = {'silent':1, 'objective':'binary:logistic', 'booster':'gbtree', 'base_score':0.5,'eval_metric' : ['auc','logloss']}\n",
    "# the rest of settings are the same\n",
    "watchlist = [(dtest, 'eval'), (dtrain, 'train')]\n",
    "num_round = 50\n",
    "# training and evaluation\n",
    "bst = xgb.train(param, dtrain, num_round, watchlist)\n",
    "preds_unweighted = bst.predict(dtest)\n",
    "labels_unweighted = dtest.get_label()"
   ]
  },
  {
   "cell_type": "code",
   "execution_count": 319,
   "metadata": {},
   "outputs": [
    {
     "data": {
      "text/plain": [
       "<matplotlib.axes._subplots.AxesSubplot at 0x7fae7ea8d860>"
      ]
     },
     "execution_count": 319,
     "metadata": {},
     "output_type": "execute_result"
    },
    {
     "data": {
      "text/plain": [
       "<Figure size 3600x2160 with 0 Axes>"
      ]
     },
     "metadata": {},
     "output_type": "display_data"
    },
    {
     "data": {
      "image/png": "[encoded data removed]",
      "text/plain": [
       "<Figure size 432x288 with 1 Axes>"
      ]
     },
     "metadata": {
      "needs_background": "light"
     },
     "output_type": "display_data"
    }
   ],
   "source": [
    "plt.figure(figsize = (50,30))\n",
    "plot_importance(bst,max_num_features= 20)"
   ]
  },
  {
   "cell_type": "code",
   "execution_count": 320,
   "metadata": {},
   "outputs": [],
   "source": [
    "temp = data.drop(columns=['wnvbinary','yrweeks','yrwksfid','yr_hexid','year'])"
   ]
  },
  {
   "cell_type": "code",
   "execution_count": 331,
   "metadata": {},
   "outputs": [
    {
     "data": {
      "text/plain": [
       "Index(['hexid', 'Input_FID', 'tempc', 'preci', 'yr', 'weeks', 'yrweeks',\n",
       "       'yrwksfid', 'templag1', 'templag2', 'templag3', 'templag4', 'precilag1',\n",
       "       'precilag2', 'precilag3', 'precilag4', 'wnvbinary', 'mirmean', 'year',\n",
       "       'mirlag1', 'mirlag2', 'mirlag3', 'mirlag4', 'totpop', 'whitepct',\n",
       "       'blackpct', 'asianpct', 'hispanicpct', 'Income', 'owpct', 'dospct',\n",
       "       'dlipct', 'dmipct', 'dhipct', 'blpct', 'dfpct', 'efpct', 'mfpct',\n",
       "       'shrubpct', 'glandpct', 'pasturepct', 'ccpct', 'wwpct', 'ehwpct',\n",
       "       'yr_hexid', 'Jantemp', 'PopYesNo', 'hpctpreww', 'hpctpostww',\n",
       "       'hpct7089', 'hpctpost90', 'income1'],\n",
       "      dtype='object')"
      ]
     },
     "execution_count": 331,
     "metadata": {},
     "output_type": "execute_result"
    }
   ],
   "source": [
    "data.columns"
   ]
  },
  {
   "cell_type": "code",
   "execution_count": 323,
   "metadata": {},
   "outputs": [],
   "source": [
    "temp_val = temp[temp.columns[[19,16,9,18,14,15,17,8,7,40,12]]].values"
   ]
  },
  {
   "cell_type": "code",
   "execution_count": 330,
   "metadata": {},
   "outputs": [
    {
     "data": {
      "text/plain": [
       "Index(['totpop', 'mirlag2', 'templag4', 'mirlag4', 'mirmean', 'mirlag1',\n",
       "       'mirlag3', 'templag3', 'templag2', 'Jantemp', 'precilag3'],\n",
       "      dtype='object')"
      ]
     },
     "execution_count": 330,
     "metadata": {},
     "output_type": "execute_result"
    }
   ],
   "source": [
    "temp.columns[[19,16,9,18,14,15,17,8,7,40,12]]"
   ]
  },
  {
   "cell_type": "code",
   "execution_count": 324,
   "metadata": {},
   "outputs": [],
   "source": [
    "trainX_b, testX_b, trainY_b, testY_b = train_test_split(temp_val, y, test_size = 0.2, shuffle = True) # CV"
   ]
  },
  {
   "cell_type": "code",
   "execution_count": 325,
   "metadata": {},
   "outputs": [],
   "source": [
    "dtrain = xgb.DMatrix(trainX_b, trainY_b)\n",
    "dtest = xgb.DMatrix(testX_b,testY_b)"
   ]
  },
  {
   "cell_type": "code",
   "execution_count": 327,
   "metadata": {},
   "outputs": [
    {
     "name": "stdout",
     "output_type": "stream",
     "text": [
      "[0]\teval-auc:0.5\teval-logloss:0.438036\ttrain-auc:0.5\ttrain-logloss:0.437924\n",
      "[1]\teval-auc:0.729338\teval-logloss:0.297294\ttrain-auc:0.723969\ttrain-logloss:0.297539\n",
      "[2]\teval-auc:0.792521\teval-logloss:0.208559\ttrain-auc:0.778921\ttrain-logloss:0.208523\n",
      "[3]\teval-auc:0.80269\teval-logloss:0.14926\ttrain-auc:0.796684\ttrain-logloss:0.149568\n",
      "[4]\teval-auc:0.804176\teval-logloss:0.108352\ttrain-auc:0.797638\ttrain-logloss:0.108308\n",
      "[5]\teval-auc:0.840307\teval-logloss:0.079429\ttrain-auc:0.848257\ttrain-logloss:0.079625\n",
      "[6]\teval-auc:0.851635\teval-logloss:0.058749\ttrain-auc:0.857739\ttrain-logloss:0.058839\n",
      "[7]\teval-auc:0.858373\teval-logloss:0.043864\ttrain-auc:0.868883\ttrain-logloss:0.04397\n",
      "[8]\teval-auc:0.865057\teval-logloss:0.033043\ttrain-auc:0.875295\ttrain-logloss:0.033201\n",
      "[9]\teval-auc:0.862984\teval-logloss:0.025175\ttrain-auc:0.877017\ttrain-logloss:0.025321\n",
      "[10]\teval-auc:0.867821\teval-logloss:0.019426\ttrain-auc:0.879609\ttrain-logloss:0.019586\n",
      "[11]\teval-auc:0.868966\teval-logloss:0.015242\ttrain-auc:0.885437\ttrain-logloss:0.015355\n",
      "[12]\teval-auc:0.87189\teval-logloss:0.012179\ttrain-auc:0.893742\ttrain-logloss:0.012292\n",
      "[13]\teval-auc:0.872594\teval-logloss:0.009942\ttrain-auc:0.895714\ttrain-logloss:0.010062\n",
      "[14]\teval-auc:0.878624\teval-logloss:0.008314\ttrain-auc:0.907238\ttrain-logloss:0.008406\n",
      "[15]\teval-auc:0.881151\teval-logloss:0.007127\ttrain-auc:0.911574\ttrain-logloss:0.007207\n",
      "[16]\teval-auc:0.889776\teval-logloss:0.00626\ttrain-auc:0.924345\ttrain-logloss:0.006316\n",
      "[17]\teval-auc:0.897353\teval-logloss:0.005628\ttrain-auc:0.936755\ttrain-logloss:0.005657\n",
      "[18]\teval-auc:0.902664\teval-logloss:0.00517\ttrain-auc:0.940569\ttrain-logloss:0.005184\n",
      "[19]\teval-auc:0.904023\teval-logloss:0.004839\ttrain-auc:0.946005\ttrain-logloss:0.004828\n",
      "[20]\teval-auc:0.909932\teval-logloss:0.004594\ttrain-auc:0.948668\ttrain-logloss:0.004565\n",
      "[21]\teval-auc:0.911055\teval-logloss:0.004422\ttrain-auc:0.950896\ttrain-logloss:0.004371\n",
      "[22]\teval-auc:0.912768\teval-logloss:0.004295\ttrain-auc:0.95402\ttrain-logloss:0.004209\n",
      "[23]\teval-auc:0.912808\teval-logloss:0.004209\ttrain-auc:0.955905\ttrain-logloss:0.004083\n",
      "[24]\teval-auc:0.912382\teval-logloss:0.004147\ttrain-auc:0.957159\ttrain-logloss:0.003995\n",
      "[25]\teval-auc:0.912198\teval-logloss:0.004104\ttrain-auc:0.958398\ttrain-logloss:0.003932\n",
      "[26]\teval-auc:0.915646\teval-logloss:0.004072\ttrain-auc:0.961375\ttrain-logloss:0.003881\n",
      "[27]\teval-auc:0.916113\teval-logloss:0.004049\ttrain-auc:0.962912\ttrain-logloss:0.003839\n",
      "[28]\teval-auc:0.918088\teval-logloss:0.004026\ttrain-auc:0.963933\ttrain-logloss:0.003799\n",
      "[29]\teval-auc:0.917628\teval-logloss:0.004014\ttrain-auc:0.965368\ttrain-logloss:0.003768\n",
      "[30]\teval-auc:0.917544\teval-logloss:0.004006\ttrain-auc:0.967077\ttrain-logloss:0.003728\n",
      "[31]\teval-auc:0.917209\teval-logloss:0.004002\ttrain-auc:0.968098\ttrain-logloss:0.003689\n",
      "[32]\teval-auc:0.918222\teval-logloss:0.003992\ttrain-auc:0.969053\ttrain-logloss:0.003662\n",
      "[33]\teval-auc:0.918926\teval-logloss:0.003991\ttrain-auc:0.969804\ttrain-logloss:0.003638\n",
      "[34]\teval-auc:0.919872\teval-logloss:0.003982\ttrain-auc:0.970571\ttrain-logloss:0.003621\n",
      "[35]\teval-auc:0.919935\teval-logloss:0.003981\ttrain-auc:0.971215\ttrain-logloss:0.003604\n",
      "[36]\teval-auc:0.919486\teval-logloss:0.003983\ttrain-auc:0.973094\ttrain-logloss:0.003571\n"
     ]
    }
   ],
   "source": [
    "param = {'silent':1, 'objective':'binary:logistic', 'booster':'gbtree', 'base_score':0.5,'eval_metric' : ['auc','logloss']}\n",
    "# the rest of settings are the same\n",
    "watchlist = [(dtest, 'eval'), (dtrain, 'train')]\n",
    "num_round = 37\n",
    "# training and evaluation\n",
    "bst = xgb.train(param, dtrain, num_round, watchlist)\n",
    "preds_unweighted = bst.predict(dtest)\n",
    "labels_unweighted = dtest.get_label()"
   ]
  },
  {
   "cell_type": "code",
   "execution_count": 329,
   "metadata": {},
   "outputs": [
    {
     "ename": "IndexError",
     "evalue": "too many indices for array",
     "output_type": "error",
     "traceback": [
      "\u001b[0;31m---------------------------------------------------------------------------\u001b[0m",
      "\u001b[0;31mIndexError\u001b[0m                                Traceback (most recent call last)",
      "\u001b[0;32m<ipython-input-329-cabbc57d13d7>\u001b[0m in \u001b[0;36m<module>\u001b[0;34m\u001b[0m\n\u001b[0;32m----> 1\u001b[0;31m \u001b[0mtestY\u001b[0m\u001b[0;34m[\u001b[0m\u001b[0;34m:\u001b[0m\u001b[0;34m,\u001b[0m\u001b[0;36m1\u001b[0m\u001b[0;34m]\u001b[0m\u001b[0;34m\u001b[0m\u001b[0;34m\u001b[0m\u001b[0m\n\u001b[0m",
      "\u001b[0;31mIndexError\u001b[0m: too many indices for array"
     ]
    }
   ],
   "source": [
    "testY[:,1]"
   ]
  },
  {
   "cell_type": "code",
   "execution_count": null,
   "metadata": {},
   "outputs": [],
   "source": []
  }
 ],
 "metadata": {
  "kernelspec": {
   "display_name": "Python 3",
   "language": "python",
   "name": "python3"
  },
  "language_info": {
   "codemirror_mode": {
    "name": "ipython",
    "version": 3
   },
   "file_extension": ".py",
   "mimetype": "text/x-python",
   "name": "python",
   "nbconvert_exporter": "python",
   "pygments_lexer": "ipython3",
   "version": "3.7.2"
  }
 },
 "nbformat": 4,
 "nbformat_minor": 2
}
