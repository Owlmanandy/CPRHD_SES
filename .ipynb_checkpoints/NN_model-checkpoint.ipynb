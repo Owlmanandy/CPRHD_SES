{
 "cells": [
  {
   "cell_type": "code",
   "execution_count": 3,
   "metadata": {},
   "outputs": [
    {
     "name": "stderr",
     "output_type": "stream",
     "text": [
      "Using TensorFlow backend.\n"
     ]
    }
   ],
   "source": [
    "import numpy as np\n",
    "import keras\n",
    "from matplotlib import pyplot as plt\n",
    "from keras.models import Sequential\n",
    "from sklearn.model_selection import train_test_split\n",
    "from keras.layers import Dense, Dropout"
   ]
  },
  {
   "cell_type": "code",
   "execution_count": 4,
   "metadata": {},
   "outputs": [],
   "source": [
    "data = np.loadtxt(\"data.txt\")"
   ]
  },
  {
   "cell_type": "code",
   "execution_count": 5,
   "metadata": {},
   "outputs": [
    {
     "data": {
      "text/plain": [
       "(10580, 181)"
      ]
     },
     "execution_count": 5,
     "metadata": {},
     "output_type": "execute_result"
    }
   ],
   "source": [
    "data.shape"
   ]
  },
  {
   "cell_type": "code",
   "execution_count": 6,
   "metadata": {},
   "outputs": [],
   "source": [
    "# generate training set and test set\n",
    "\n",
    "dataX = data[:,0:-1]\n",
    "dataY = data[:,-1]"
   ]
  },
  {
   "cell_type": "code",
   "execution_count": 7,
   "metadata": {},
   "outputs": [],
   "source": [
    "trainX, testX, trainY, testY = train_test_split(dataX, dataY, test_size = 0.33, shuffle = True)"
   ]
  },
  {
   "cell_type": "code",
   "execution_count": 8,
   "metadata": {
    "scrolled": true
   },
   "outputs": [
    {
     "name": "stdout",
     "output_type": "stream",
     "text": [
      "WARNING:tensorflow:From /home/guangya/anaconda3/lib/python3.7/site-packages/tensorflow/python/framework/op_def_library.py:263: colocate_with (from tensorflow.python.framework.ops) is deprecated and will be removed in a future version.\n",
      "Instructions for updating:\n",
      "Colocations handled automatically by placer.\n",
      "WARNING:tensorflow:From /home/guangya/anaconda3/lib/python3.7/site-packages/tensorflow/python/ops/math_ops.py:3066: to_int32 (from tensorflow.python.ops.math_ops) is deprecated and will be removed in a future version.\n",
      "Instructions for updating:\n",
      "Use tf.cast instead.\n",
      "Train on 7088 samples, validate on 3492 samples\n",
      "Epoch 1/100\n",
      "7088/7088 [==============================] - 1s 162us/step - loss: 265.1032 - val_loss: 228.8743\n",
      "Epoch 2/100\n",
      "7088/7088 [==============================] - 2s 244us/step - loss: 238.8444 - val_loss: 220.8018\n",
      "Epoch 3/100\n",
      "7088/7088 [==============================] - 1s 203us/step - loss: 235.9817 - val_loss: 223.8520\n",
      "Epoch 4/100\n",
      "7088/7088 [==============================] - 2s 251us/step - loss: 232.2328 - val_loss: 218.5341\n",
      "Epoch 5/100\n",
      "7088/7088 [==============================] - 1s 196us/step - loss: 232.6756 - val_loss: 215.9136\n",
      "Epoch 6/100\n",
      "7088/7088 [==============================] - 1s 165us/step - loss: 231.1193 - val_loss: 220.5540\n",
      "Epoch 7/100\n",
      "7088/7088 [==============================] - 2s 223us/step - loss: 229.3353 - val_loss: 225.9265\n",
      "Epoch 8/100\n",
      "7088/7088 [==============================] - 2s 223us/step - loss: 233.3682 - val_loss: 218.3904\n",
      "Epoch 9/100\n",
      "7088/7088 [==============================] - 2s 229us/step - loss: 229.8395 - val_loss: 214.8144\n",
      "Epoch 10/100\n",
      "7088/7088 [==============================] - 2s 223us/step - loss: 228.5596 - val_loss: 215.4111\n",
      "Epoch 11/100\n",
      "7088/7088 [==============================] - 2s 223us/step - loss: 227.8424 - val_loss: 215.5060\n",
      "Epoch 12/100\n",
      "7088/7088 [==============================] - 2s 222us/step - loss: 226.9441 - val_loss: 214.4240\n",
      "Epoch 13/100\n",
      "7088/7088 [==============================] - 2s 245us/step - loss: 228.5025 - val_loss: 213.4625\n",
      "Epoch 14/100\n",
      "7088/7088 [==============================] - 2s 222us/step - loss: 226.9062 - val_loss: 222.5614\n",
      "Epoch 15/100\n",
      "7088/7088 [==============================] - 2s 221us/step - loss: 226.6212 - val_loss: 212.3270\n",
      "Epoch 16/100\n",
      "7088/7088 [==============================] - 2s 223us/step - loss: 224.8536 - val_loss: 212.9569\n",
      "Epoch 17/100\n",
      "7088/7088 [==============================] - 2s 231us/step - loss: 225.5605 - val_loss: 212.7217\n",
      "Epoch 18/100\n",
      "7088/7088 [==============================] - 2s 225us/step - loss: 225.0792 - val_loss: 211.8688\n",
      "Epoch 19/100\n",
      "7088/7088 [==============================] - 2s 261us/step - loss: 225.2109 - val_loss: 211.2865\n",
      "Epoch 20/100\n",
      "7088/7088 [==============================] - 2s 232us/step - loss: 225.2906 - val_loss: 211.8856\n",
      "Epoch 21/100\n",
      "7088/7088 [==============================] - 2s 230us/step - loss: 224.2793 - val_loss: 213.0171\n",
      "Epoch 22/100\n",
      "7088/7088 [==============================] - 2s 217us/step - loss: 223.6781 - val_loss: 216.4270\n",
      "Epoch 23/100\n",
      "7088/7088 [==============================] - 2s 283us/step - loss: 224.6149 - val_loss: 212.0081\n",
      "Epoch 24/100\n",
      "7088/7088 [==============================] - 2s 283us/step - loss: 223.4912 - val_loss: 212.5386\n",
      "Epoch 25/100\n",
      "7088/7088 [==============================] - 2s 278us/step - loss: 223.5615 - val_loss: 218.7529\n",
      "Epoch 26/100\n",
      "7088/7088 [==============================] - 2s 300us/step - loss: 222.9154 - val_loss: 211.7271\n",
      "Epoch 27/100\n",
      "7088/7088 [==============================] - 2s 274us/step - loss: 222.6978 - val_loss: 209.4596\n",
      "Epoch 28/100\n",
      "7088/7088 [==============================] - 2s 305us/step - loss: 222.8007 - val_loss: 214.9505\n",
      "Epoch 29/100\n",
      "7088/7088 [==============================] - 2s 281us/step - loss: 222.5091 - val_loss: 214.7696\n",
      "Epoch 30/100\n",
      "7088/7088 [==============================] - 2s 287us/step - loss: 222.9827 - val_loss: 210.4450\n",
      "Epoch 31/100\n",
      "7088/7088 [==============================] - 2s 284us/step - loss: 222.4628 - val_loss: 209.7818\n",
      "Epoch 32/100\n",
      "7088/7088 [==============================] - 2s 306us/step - loss: 222.8979 - val_loss: 209.6527\n",
      "Epoch 33/100\n",
      "7088/7088 [==============================] - 2s 265us/step - loss: 221.7388 - val_loss: 209.0883\n",
      "Epoch 34/100\n",
      "7088/7088 [==============================] - 2s 286us/step - loss: 221.2086 - val_loss: 208.8040\n",
      "Epoch 35/100\n",
      "7088/7088 [==============================] - 2s 280us/step - loss: 221.8398 - val_loss: 212.0037\n",
      "Epoch 36/100\n",
      "7088/7088 [==============================] - 2s 286us/step - loss: 222.0206 - val_loss: 209.1455\n",
      "Epoch 37/100\n",
      "7088/7088 [==============================] - 2s 254us/step - loss: 221.3558 - val_loss: 209.0746\n",
      "Epoch 38/100\n",
      "7088/7088 [==============================] - 2s 287us/step - loss: 221.1462 - val_loss: 214.9656\n",
      "Epoch 39/100\n",
      "7088/7088 [==============================] - 2s 285us/step - loss: 220.6037 - val_loss: 211.3685\n",
      "Epoch 40/100\n",
      "7088/7088 [==============================] - 2s 293us/step - loss: 220.3819 - val_loss: 208.8287\n",
      "Epoch 41/100\n",
      "7088/7088 [==============================] - 2s 262us/step - loss: 220.1430 - val_loss: 217.7972\n",
      "Epoch 42/100\n",
      "7088/7088 [==============================] - 2s 291us/step - loss: 220.6310 - val_loss: 210.5737\n",
      "Epoch 43/100\n",
      "7088/7088 [==============================] - 2s 280us/step - loss: 219.7686 - val_loss: 210.0107\n",
      "Epoch 44/100\n",
      "7088/7088 [==============================] - 2s 281us/step - loss: 221.3246 - val_loss: 209.3340\n",
      "Epoch 45/100\n",
      "7088/7088 [==============================] - 2s 284us/step - loss: 221.1704 - val_loss: 220.6999\n",
      "Epoch 46/100\n",
      "7088/7088 [==============================] - 2s 275us/step - loss: 220.1138 - val_loss: 212.3259\n",
      "Epoch 47/100\n",
      "7088/7088 [==============================] - 2s 266us/step - loss: 219.8663 - val_loss: 210.4652\n",
      "Epoch 48/100\n",
      "7088/7088 [==============================] - 1s 168us/step - loss: 219.1639 - val_loss: 209.2013\n",
      "Epoch 49/100\n",
      "7088/7088 [==============================] - 1s 142us/step - loss: 219.9141 - val_loss: 210.0109\n",
      "Epoch 50/100\n",
      "7088/7088 [==============================] - 1s 180us/step - loss: 220.2793 - val_loss: 209.2614\n",
      "Epoch 51/100\n",
      "7088/7088 [==============================] - 1s 202us/step - loss: 219.8332 - val_loss: 207.8355\n",
      "Epoch 52/100\n",
      "7088/7088 [==============================] - 2s 280us/step - loss: 220.3824 - val_loss: 209.1764\n",
      "Epoch 53/100\n",
      "7088/7088 [==============================] - 1s 183us/step - loss: 219.4141 - val_loss: 209.4285\n",
      "Epoch 54/100\n",
      "7088/7088 [==============================] - 2s 215us/step - loss: 219.5276 - val_loss: 213.5253\n",
      "Epoch 55/100\n",
      "7088/7088 [==============================] - 2s 235us/step - loss: 219.5878 - val_loss: 208.5681\n",
      "Epoch 56/100\n",
      "7088/7088 [==============================] - 1s 211us/step - loss: 220.1860 - val_loss: 229.3245\n",
      "Epoch 57/100\n",
      "7088/7088 [==============================] - 1s 114us/step - loss: 219.1058 - val_loss: 208.9771\n",
      "Epoch 58/100\n",
      "7088/7088 [==============================] - 1s 157us/step - loss: 219.4442 - val_loss: 208.2047\n",
      "Epoch 59/100\n",
      "7088/7088 [==============================] - 1s 151us/step - loss: 219.0674 - val_loss: 208.3849\n",
      "Epoch 60/100\n",
      "7088/7088 [==============================] - 1s 149us/step - loss: 218.4535 - val_loss: 213.1860\n",
      "Epoch 61/100\n",
      "7088/7088 [==============================] - 1s 138us/step - loss: 218.7279 - val_loss: 210.7387\n",
      "Epoch 62/100\n",
      "7088/7088 [==============================] - 1s 156us/step - loss: 219.2315 - val_loss: 211.8165\n",
      "Epoch 63/100\n",
      "7088/7088 [==============================] - 1s 131us/step - loss: 218.7102 - val_loss: 209.2496\n",
      "Epoch 64/100\n",
      "7088/7088 [==============================] - 1s 140us/step - loss: 218.4403 - val_loss: 207.4980\n",
      "Epoch 65/100\n",
      "7088/7088 [==============================] - 1s 147us/step - loss: 219.2004 - val_loss: 211.0653\n",
      "Epoch 66/100\n",
      "7088/7088 [==============================] - 1s 150us/step - loss: 217.9433 - val_loss: 207.7885\n",
      "Epoch 67/100\n",
      "7088/7088 [==============================] - 1s 155us/step - loss: 219.0563 - val_loss: 210.6078\n",
      "Epoch 68/100\n",
      "7088/7088 [==============================] - 1s 144us/step - loss: 218.9106 - val_loss: 207.4206\n",
      "Epoch 69/100\n",
      "7088/7088 [==============================] - 1s 145us/step - loss: 218.7375 - val_loss: 208.9463\n",
      "Epoch 70/100\n",
      "7088/7088 [==============================] - 1s 146us/step - loss: 218.4196 - val_loss: 210.9306\n",
      "Epoch 71/100\n",
      "7088/7088 [==============================] - 2s 232us/step - loss: 218.0677 - val_loss: 211.3507\n",
      "Epoch 72/100\n",
      "7088/7088 [==============================] - 2s 218us/step - loss: 218.0329 - val_loss: 208.6931\n",
      "Epoch 73/100\n",
      "7088/7088 [==============================] - 2s 253us/step - loss: 218.3498 - val_loss: 207.5254\n",
      "Epoch 74/100\n",
      "7088/7088 [==============================] - 1s 204us/step - loss: 218.1157 - val_loss: 207.6963\n",
      "Epoch 75/100\n",
      "7088/7088 [==============================] - 2s 214us/step - loss: 217.9647 - val_loss: 207.5678\n",
      "Epoch 76/100\n",
      "7088/7088 [==============================] - 1s 209us/step - loss: 218.6648 - val_loss: 212.3595\n",
      "Epoch 77/100\n",
      "7088/7088 [==============================] - 1s 184us/step - loss: 217.3637 - val_loss: 212.8827\n",
      "Epoch 78/100\n",
      "7088/7088 [==============================] - 1s 193us/step - loss: 218.0263 - val_loss: 211.5913\n",
      "Epoch 79/100\n",
      "7088/7088 [==============================] - 1s 184us/step - loss: 218.5614 - val_loss: 207.5570\n",
      "Epoch 80/100\n",
      "7088/7088 [==============================] - 1s 169us/step - loss: 217.8967 - val_loss: 207.2420\n",
      "Epoch 81/100\n",
      "7088/7088 [==============================] - 1s 172us/step - loss: 218.1618 - val_loss: 206.9734\n",
      "Epoch 82/100\n",
      "7088/7088 [==============================] - 1s 174us/step - loss: 218.3943 - val_loss: 207.5314\n",
      "Epoch 83/100\n",
      "7088/7088 [==============================] - 1s 156us/step - loss: 217.0162 - val_loss: 211.2795\n",
      "Epoch 84/100\n",
      "7088/7088 [==============================] - 1s 166us/step - loss: 218.5745 - val_loss: 212.0369\n",
      "Epoch 85/100\n",
      "7088/7088 [==============================] - 1s 170us/step - loss: 217.7673 - val_loss: 209.9245\n",
      "Epoch 86/100\n",
      "7088/7088 [==============================] - 1s 178us/step - loss: 217.4070 - val_loss: 207.5690\n",
      "Epoch 87/100\n",
      "7088/7088 [==============================] - 1s 164us/step - loss: 217.0433 - val_loss: 214.1771\n",
      "Epoch 88/100\n",
      "7088/7088 [==============================] - 1s 174us/step - loss: 217.8339 - val_loss: 210.2397\n",
      "Epoch 89/100\n",
      "7088/7088 [==============================] - 1s 172us/step - loss: 217.1205 - val_loss: 211.9881\n",
      "Epoch 90/100\n",
      "7088/7088 [==============================] - 1s 174us/step - loss: 216.9050 - val_loss: 208.5914\n",
      "Epoch 91/100\n",
      "7088/7088 [==============================] - 1s 174us/step - loss: 217.3319 - val_loss: 208.1432\n",
      "Epoch 92/100\n",
      "7088/7088 [==============================] - 1s 162us/step - loss: 216.3244 - val_loss: 207.1639\n",
      "Epoch 93/100\n",
      "7088/7088 [==============================] - 2s 247us/step - loss: 216.8961 - val_loss: 206.9029\n",
      "Epoch 94/100\n",
      "7088/7088 [==============================] - 1s 167us/step - loss: 216.7597 - val_loss: 207.7830\n",
      "Epoch 95/100\n",
      "7088/7088 [==============================] - 1s 101us/step - loss: 216.0082 - val_loss: 207.5452\n",
      "Epoch 96/100\n",
      "7088/7088 [==============================] - 1s 124us/step - loss: 216.5104 - val_loss: 207.4873\n",
      "Epoch 97/100\n",
      "7088/7088 [==============================] - 1s 122us/step - loss: 217.2464 - val_loss: 217.7662\n",
      "Epoch 98/100\n",
      "7088/7088 [==============================] - 1s 119us/step - loss: 216.3311 - val_loss: 213.5414\n",
      "Epoch 99/100\n",
      "7088/7088 [==============================] - 1s 104us/step - loss: 216.5076 - val_loss: 209.1726\n",
      "Epoch 100/100\n",
      "7088/7088 [==============================] - 1s 115us/step - loss: 217.2921 - val_loss: 207.6362\n"
     ]
    }
   ],
   "source": [
    "dropout_rate = 0\n",
    "\n",
    "input_dim = trainX.shape[0]\n",
    "model = Sequential()\n",
    "model.add(Dense(32, activation = \"elu\", input_dim = 180))\n",
    "model.add(Dropout(dropout_rate))\n",
    "model.add(Dense(16, activation = \"elu\"))\n",
    "model.add(Dropout(dropout_rate))\n",
    "model.add(Dense(8, activation = \"elu\"))\n",
    "model.add(Dropout(dropout_rate))\n",
    "model.add(Dense(1, activation = \"elu\"))\n",
    "model.compile(loss = \"mean_absolute_error\", optimizer = \"adam\") \n",
    "# mean_absolute_error, mean_squared_error;\n",
    "# SGD, adam, RMSprop, Adagrad, Adadelta, Adamax, Nadam\n",
    "train_history = model.fit(x = trainX, y = trainY, \n",
    "                                    epochs = 100, batch_size = 16, \n",
    "                                    validation_data = (testX, testY))"
   ]
  },
  {
   "cell_type": "code",
   "execution_count": 9,
   "metadata": {},
   "outputs": [
    {
     "data": {
      "text/plain": [
       "0.04991243502339581"
      ]
     },
     "execution_count": 9,
     "metadata": {},
     "output_type": "execute_result"
    }
   ],
   "source": [
    "min(trainY)"
   ]
  },
  {
   "cell_type": "code",
   "execution_count": 10,
   "metadata": {},
   "outputs": [],
   "source": [
    "predict_train = model.predict(trainX)"
   ]
  },
  {
   "cell_type": "code",
   "execution_count": 13,
   "metadata": {},
   "outputs": [
    {
     "ename": "AttributeError",
     "evalue": "'numpy.ndarray' object has no attribute 'sha'",
     "output_type": "error",
     "traceback": [
      "\u001b[0;31m---------------------------------------------------------------------------\u001b[0m",
      "\u001b[0;31mAttributeError\u001b[0m                            Traceback (most recent call last)",
      "\u001b[0;32m<ipython-input-13-686916a3b51d>\u001b[0m in \u001b[0;36m<module>\u001b[0;34m\u001b[0m\n\u001b[0;32m----> 1\u001b[0;31m \u001b[0mtrainX\u001b[0m\u001b[0;34m.\u001b[0m\u001b[0msha\u001b[0m\u001b[0;34m\u001b[0m\u001b[0;34m\u001b[0m\u001b[0m\n\u001b[0m",
      "\u001b[0;31mAttributeError\u001b[0m: 'numpy.ndarray' object has no attribute 'sha'"
     ]
    }
   ],
   "source": [
    "predict_trainX.sha"
   ]
  },
  {
   "cell_type": "code",
   "execution_count": 14,
   "metadata": {},
   "outputs": [
    {
     "data": {
      "text/plain": [
       "array([673.07127201, 579.66867392,  56.75536769, ..., 206.38137192,\n",
       "        66.70688632,  19.51959377])"
      ]
     },
     "execution_count": 14,
     "metadata": {},
     "output_type": "execute_result"
    }
   ],
   "source": [
    "trainY"
   ]
  },
  {
   "cell_type": "code",
   "execution_count": 15,
   "metadata": {},
   "outputs": [
    {
     "ename": "NameError",
     "evalue": "name 'predict_trainX' is not defined",
     "output_type": "error",
     "traceback": [
      "\u001b[0;31m---------------------------------------------------------------------------\u001b[0m",
      "\u001b[0;31mNameError\u001b[0m                                 Traceback (most recent call last)",
      "\u001b[0;32m<ipython-input-15-0b85bb6affed>\u001b[0m in \u001b[0;36m<module>\u001b[0;34m\u001b[0m\n\u001b[0;32m----> 1\u001b[0;31m \u001b[0mplt\u001b[0m\u001b[0;34m.\u001b[0m\u001b[0mplot\u001b[0m\u001b[0;34m(\u001b[0m\u001b[0mtrainX\u001b[0m\u001b[0;34m,\u001b[0m \u001b[0mpredict_trainX\u001b[0m \u001b[0;34m)\u001b[0m\u001b[0;34m\u001b[0m\u001b[0;34m\u001b[0m\u001b[0m\n\u001b[0m",
      "\u001b[0;31mNameError\u001b[0m: name 'predict_trainX' is not defined"
     ]
    }
   ],
   "source": [
    "plt.plot(trainX, predict_trainX )"
   ]
  },
  {
   "cell_type": "code",
   "execution_count": 16,
   "metadata": {},
   "outputs": [
    {
     "name": "stdout",
     "output_type": "stream",
     "text": [
      "_________________________________________________________________\n",
      "Layer (type)                 Output Shape              Param #   \n",
      "=================================================================\n",
      "dense_1 (Dense)              (None, 32)                5792      \n",
      "_________________________________________________________________\n",
      "dropout_1 (Dropout)          (None, 32)                0         \n",
      "_________________________________________________________________\n",
      "dense_2 (Dense)              (None, 16)                528       \n",
      "_________________________________________________________________\n",
      "dropout_2 (Dropout)          (None, 16)                0         \n",
      "_________________________________________________________________\n",
      "dense_3 (Dense)              (None, 8)                 136       \n",
      "_________________________________________________________________\n",
      "dropout_3 (Dropout)          (None, 8)                 0         \n",
      "_________________________________________________________________\n",
      "dense_4 (Dense)              (None, 1)                 9         \n",
      "=================================================================\n",
      "Total params: 6,465\n",
      "Trainable params: 6,465\n",
      "Non-trainable params: 0\n",
      "_________________________________________________________________\n"
     ]
    }
   ],
   "source": [
    "model.summary()"
   ]
  },
  {
   "cell_type": "code",
   "execution_count": null,
   "metadata": {},
   "outputs": [],
   "source": [
    "def NN():\n",
    "    trainX = None\n",
    "    trainY = None\n",
    "    testX = None\n",
    "    testY = None\n",
    "    model = None\n",
    "    score = None\n",
    "    \n",
    "    def __init__ (self,\n",
    "                  dropout_layer_rate = 0.1,\n",
    "                  rnn_dropout_rate = 0.1,\n",
    "                  nb_epoch = 50,\n",
    "                  batch_size = 16,\n",
    "                  loss = 'categorical_crossentropy',\n",
    "                  optimizer = 'adam',\n",
    "                  save_model = True,\n",
    "                  save_model_path = ''):\n",
    "\n",
    "        self.dropout_layer_rate = dropout_layer_rate\n",
    "        self.rnn_dropout_rate = rnn_dropout_rate\n",
    "        self.nb_epoch = nb_epoch\n",
    "        self.batch_size = batch_size\n",
    "        self.loss = loss\n",
    "        self.optimizer = optimizer #rmsprop, adam\n",
    "        self.save_model = save_model\n",
    "        self.save_model_path = save_model_path\n",
    "        \n",
    "    def NN_getData(self, trainX, trainY, testX, testY):\n",
    "        self.trainX = trainX\n",
    "        self.trainY = trainY\n",
    "        self.testX = testX\n",
    "        self.testY = testY\n",
    "\n",
    "        return True\n",
    "    \n",
    "    def NN_model_train(self):\n",
    "        trainX = self.trainX\n",
    "        trainY = self.trainY\n",
    "        testX = self.testX\n",
    "        testY = self.testY\n",
    "        model = self.model\n",
    "        dropout_layer_rate = self.dropout_layer_rate\n",
    "        rnn_dropout_rate = self.rnn_dropout_rate\n",
    "        \n",
    "        input_dim = trainX.shape\n",
    "        \n",
    "        model = Sequential()\n",
    "        model.add()"
   ]
  },
  {
   "cell_type": "code",
   "execution_count": null,
   "metadata": {},
   "outputs": [],
   "source": []
  }
 ],
 "metadata": {
  "kernelspec": {
   "display_name": "Python 3",
   "language": "python",
   "name": "python3"
  },
  "language_info": {
   "codemirror_mode": {
    "name": "ipython",
    "version": 3
   },
   "file_extension": ".py",
   "mimetype": "text/x-python",
   "name": "python",
   "nbconvert_exporter": "python",
   "pygments_lexer": "ipython3",
   "version": "3.7.2"
  }
 },
 "nbformat": 4,
 "nbformat_minor": 2
}
