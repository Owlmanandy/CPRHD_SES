{
 "cells": [
  {
   "cell_type": "code",
   "execution_count": 1,
   "metadata": {},
   "outputs": [],
   "source": [
    "import numpy as np\n",
    "import time\n",
    "import scipy.stats as stats\n",
    "import pandas as pd\n",
    "from matplotlib import pyplot as plt\n",
    "from sklearn.ensemble import RandomForestClassifier\n",
    "from sklearn import metrics\n",
    "from sklearn.model_selection import GridSearchCV, train_test_split\n",
    "from sklearn.linear_model import LinearRegression\n",
    "from scipy import stats\n",
    "from sklearn.metrics import log_loss\n",
    "from sklearn.calibration import CalibratedClassifierCV, calibration_curve\n",
    "import matplotlib.pyplot as plt\n",
    "from sklearn.metrics import (brier_score_loss, precision_score, recall_score,\n",
    "                             f1_score)\n",
    "from sklearn.metrics import roc_auc_score\n",
    "from imblearn.over_sampling import RandomOverSampler"
   ]
  },
  {
   "cell_type": "code",
   "execution_count": 2,
   "metadata": {},
   "outputs": [],
   "source": [
    "data = pd.read_sas('/home/jallen17/Downloads/wnv_2245new.sas7bdat') "
   ]
  },
  {
   "cell_type": "code",
   "execution_count": 3,
   "metadata": {},
   "outputs": [],
   "source": [
    "x_selected = data[data.drop(columns=['wnvbinary','yrweeks','yrwksfid','yr_hexid','year']).columns[[7,8,9,10,15,16,17,20]]]\n",
    "y = data['wnvbinary'].values \n",
    "y_selected = y"
   ]
  },
  {
   "cell_type": "code",
   "execution_count": 4,
   "metadata": {},
   "outputs": [],
   "source": [
    "def model_RF_test(model_RF, dataX, dataY):\n",
    "    print(\"Model performance\")\n",
    "    predict_data = model_RF.predict_proba(dataX)\n",
    "    \n",
    "    # Some stats\n",
    "    print(\"Feature Importantce : \")\n",
    "    print(model_RF.feature_importances_)\n",
    "    print(\"Total number of WNV occurence in test set : \" + str(len(dataY[dataY > 0])))\n",
    "    \n",
    "    print(\"Number of WNV occurence the model is able to capture in test set:\" + str(dataY[np.where(predict_data[:,1]  > 0)].sum()))\n",
    "    \n",
    "    print(\"Expected number of WNV occurence of models aussume prediction is normally distributed : \" + str(predict_data[:,1].mean() * len(predict_data)))\n",
    "    print(\"Log loss : \" + str(log_loss(dataY,predict_data)))\n",
    "    \n",
    "    print(\"This is to test the performance of random forest model, ideally, the logloss is low and also it is able to capture most of the WNV occurence, and also it is neither over predicting \" +  \n",
    "          \"nor under predicting\")\n",
    "    print(\"AUC : \" + str( roc_auc_score(dataY,predict_data[:,1])))\n",
    "    \n",
    "    return None # Check how many wnv it predicts"
   ]
  },
  {
   "cell_type": "code",
   "execution_count": 5,
   "metadata": {},
   "outputs": [],
   "source": [
    "trainX_sel, testX_sel, trainY_sel, testY_sel = train_test_split(x_selected.values, y_selected, test_size = 0.2, shuffle = True) # CV"
   ]
  },
  {
   "cell_type": "code",
   "execution_count": 6,
   "metadata": {},
   "outputs": [
    {
     "name": "stdout",
     "output_type": "stream",
     "text": [
      "time consumed: 926.9206185340881\n"
     ]
    }
   ],
   "source": [
    "\n",
    "rus = RandomOverSampler(random_state=0)\n",
    "X_resampled, y_resampled = rus.fit_resample(trainX_sel,trainY_sel)\n",
    "time_start = time.time()\n",
    "model_RF1 = RandomForestClassifier(n_estimators=500,\n",
    "                                 n_jobs = -1,\n",
    "                               max_features='sqrt',\n",
    "                                 max_depth= None,\n",
    "                                 bootstrap=True,\n",
    "                                   min_samples_leaf= 2,\n",
    "                                   class_weight='balanced'\n",
    "                                 ) # Use undersampling to see if it worked\n",
    "model_RF1.fit(X_resampled, y_resampled)\n",
    "print(\"time consumed:\", time.time() - time_start) "
   ]
  },
  {
   "cell_type": "code",
   "execution_count": 7,
   "metadata": {},
   "outputs": [
    {
     "name": "stdout",
     "output_type": "stream",
     "text": [
      "Model performance\n",
      "Feature Importantce : \n",
      "[0.11520061 0.1241793  0.1354357  0.06621842 0.15306396 0.18880771\n",
      " 0.14234262 0.07475167]\n",
      "Total number of WNV occurence in test set : 186\n",
      "Number of WNV occurence the model is able to capture in test set:109.0\n",
      "Expected number of WNV occurence of models aussume prediction is normally distributed : 286.5051712422878\n",
      "Log loss : 0.0121963712878016\n",
      "This is to test the performance of random forest model, ideally, the logloss is low and also it is able to capture most of the WNV occurence, and also it is neither over predictingnor under predicting\n",
      "AUC : 0.724793246605591\n"
     ]
    }
   ],
   "source": [
    "model_RF_test(model_RF1,testX_sel,testY_sel)"
   ]
  },
  {
   "cell_type": "code",
   "execution_count": null,
   "metadata": {},
   "outputs": [],
   "source": []
  }
 ],
 "metadata": {
  "kernelspec": {
   "display_name": "Python 3",
   "language": "python",
   "name": "python3"
  },
  "language_info": {
   "codemirror_mode": {
    "name": "ipython",
    "version": 3
   },
   "file_extension": ".py",
   "mimetype": "text/x-python",
   "name": "python",
   "nbconvert_exporter": "python",
   "pygments_lexer": "ipython3",
   "version": "3.7.3"
  }
 },
 "nbformat": 4,
 "nbformat_minor": 2
}
