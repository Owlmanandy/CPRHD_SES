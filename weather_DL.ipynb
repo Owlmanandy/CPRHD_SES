{
 "cells": [
  {
   "cell_type": "code",
   "execution_count": 7,
   "metadata": {},
   "outputs": [],
   "source": [
    "import urllib\n",
    "import json\n",
    "from datetime import datetime\n",
    "from datetime import date\n",
    "\n",
    "\n",
    "def download_weather_climate_division(county: str, date_to_start: str):\n",
    "    base_url = \"http://data.rcc-acis.org/GridData\"\n",
    "    start_date = datetime.strptime(date_to_start, '%Y%m%d').strftime(\"%Y%m%d\")\n",
    "    end_date = datetime.today().strftime('%Y%m%d')\n",
    "        \n",
    "    print(start_date, end_date)\n",
    "    \n",
    "    if county.lower() == 'cook':\n",
    "        fips = '17031'\n",
    "    elif county.lower() == 'dupage' or county.lower() == 'du page':\n",
    "        fips = '17043'\n",
    "    else:\n",
    "        raise ValueError(\"Must be either Cook or DuPage county.\")\n",
    "    \n",
    "    params_n = json.dumps({\"county\":fips,\n",
    "                     \"sdate\":start_date,\n",
    "                     \"edate\":end_date,\n",
    "                     \"grid\":21,\n",
    "                     \"elems\":[{\"name\":\"mint\",\"area_reduce\":\"county_mean\"}]})\n",
    "    \n",
    "    data = json.dumps(params_n).encode('utf-8')\n",
    "    print(data)\n",
    "    headers = {\"Content-Type\": \"application/json\"}\n",
    "    \n",
    "    try:\n",
    "        req = urllib.request.Request(base_url, data, headers)\n",
    "        with urllib.request.urlopen(req) as response:\n",
    "            the_page = response.read()\n",
    "    except Exception as e:\n",
    "        print(e)\n",
    "    \n",
    "#     n_json = urllib.request.urlopen(full_url)\n",
    "#     print(n_json)\n",
    "#     n_json = json.loads(n_json.read())\n",
    "#     print(n_json)"
   ]
  },
  {
   "cell_type": "code",
   "execution_count": 8,
   "metadata": {},
   "outputs": [
    {
     "name": "stdout",
     "output_type": "stream",
     "text": [
      "20190916 20190917\n",
      "b'\"{\\\\\"county\\\\\": \\\\\"17031\\\\\", \\\\\"sdate\\\\\": \\\\\"20190916\\\\\", \\\\\"edate\\\\\": \\\\\"20190917\\\\\", \\\\\"grid\\\\\": 21, \\\\\"elems\\\\\": [{\\\\\"name\\\\\": \\\\\"mint\\\\\", \\\\\"area_reduce\\\\\": \\\\\"county_mean\\\\\"}]}\"'\n",
      "HTTP Error 500: Internal Server Error\n"
     ]
    }
   ],
   "source": [
    "download_weather_climate_division('cook', '20190916')"
   ]
  },
  {
   "cell_type": "code",
   "execution_count": null,
   "metadata": {},
   "outputs": [],
   "source": [
    "# request data\n",
    "params_n = json.dumps({\"state\":\"IL\",\n",
    "                     \"sdate\":start_date,\n",
    "                     \"edate\":end_date,\n",
    "                     \"grid\":21,\n",
    "                     \"elems\":[{\"name\":\"mint\",\"area_reduce\":\"climdiv_mean\"}]})\n",
    "\n",
    "req_n = urllib3.request(config['prism_url'],params_n,{\"Content-Type\":\"application/json\"})\n",
    "response = urllib3.urlopen(req_n)\n",
    "n_json = json.loads(response.read())['data']\n",
    "\n",
    "\n",
    "params_x = json.dumps({\"state\":\"IL\",\n",
    "                     \"sdate\":start_date,\n",
    "                     \"edate\":end_date,\n",
    "                     \"grid\":21,\n",
    "                     \"elems\":[{\"name\":\"maxt\",\"area_reduce\":\"climdiv_mean\"}]})\n",
    "req_x = urllib3.request(config['prism_url'],params_x,{\"Content-Type\":\"application/json\"})\n",
    "response = urllib3.urlopen(req_x)\n",
    "x_json = json.loads(response.read())['data']\n",
    "\n",
    "params_p = json.dumps({\"state\":\"IL\",\n",
    "                     \"sdate\":start_date,\n",
    "                     \"edate\":end_date,\n",
    "                     \"grid\":21,\n",
    "                     \"elems\":[{\"name\":\"pcpn\",\"area_reduce\":\"climdiv_mean\"}]})\n",
    "\n",
    "req_p = urllib3.request(config['prism_url'],params_p,{\"Content-Type\":\"application/json\"})\n",
    "response = urllib3.urlopen(req_p)\n",
    "p_json = json.loads(response.read())['data']"
   ]
  },
  {
   "cell_type": "code",
   "execution_count": 5,
   "metadata": {},
   "outputs": [
    {
     "name": "stderr",
     "output_type": "stream",
     "text": [
      "/home/jallen17/anaconda3/lib/python3.7/site-packages/ipykernel_launcher.py:6: YAMLLoadWarning: calling yaml.load() without Loader=... is deprecated, as the default Loader is unsafe. Please read https://msg.pyyaml.org/load for full details.\n",
      "  \n"
     ]
    },
    {
     "ename": "TypeError",
     "evalue": "'module' object is not callable",
     "output_type": "error",
     "traceback": [
      "\u001b[0;31m---------------------------------------------------------------------------\u001b[0m",
      "\u001b[0;31mTypeError\u001b[0m                                 Traceback (most recent call last)",
      "\u001b[0;32m<ipython-input-5-1eee925b71af>\u001b[0m in \u001b[0;36m<module>\u001b[0;34m\u001b[0m\n\u001b[1;32m     18\u001b[0m                      \"elems\":[{\"name\":\"mint\",\"area_reduce\":\"climdiv_mean\"}]})\n\u001b[1;32m     19\u001b[0m \u001b[0;34m\u001b[0m\u001b[0m\n\u001b[0;32m---> 20\u001b[0;31m \u001b[0mreq_n\u001b[0m \u001b[0;34m=\u001b[0m \u001b[0murllib3\u001b[0m\u001b[0;34m.\u001b[0m\u001b[0mrequest\u001b[0m\u001b[0;34m(\u001b[0m\u001b[0mconfig\u001b[0m\u001b[0;34m[\u001b[0m\u001b[0;34m'prism_url'\u001b[0m\u001b[0;34m]\u001b[0m\u001b[0;34m,\u001b[0m\u001b[0mparams_n\u001b[0m\u001b[0;34m,\u001b[0m\u001b[0;34m{\u001b[0m\u001b[0;34m\"Content-Type\"\u001b[0m\u001b[0;34m:\u001b[0m\u001b[0;34m\"application/json\"\u001b[0m\u001b[0;34m}\u001b[0m\u001b[0;34m)\u001b[0m\u001b[0;34m\u001b[0m\u001b[0;34m\u001b[0m\u001b[0m\n\u001b[0m\u001b[1;32m     21\u001b[0m \u001b[0mresponse\u001b[0m \u001b[0;34m=\u001b[0m \u001b[0murllib3\u001b[0m\u001b[0;34m.\u001b[0m\u001b[0murlopen\u001b[0m\u001b[0;34m(\u001b[0m\u001b[0mreq_n\u001b[0m\u001b[0;34m)\u001b[0m\u001b[0;34m\u001b[0m\u001b[0;34m\u001b[0m\u001b[0m\n\u001b[1;32m     22\u001b[0m \u001b[0mn_json\u001b[0m \u001b[0;34m=\u001b[0m \u001b[0mjson\u001b[0m\u001b[0;34m.\u001b[0m\u001b[0mloads\u001b[0m\u001b[0;34m(\u001b[0m\u001b[0mresponse\u001b[0m\u001b[0;34m.\u001b[0m\u001b[0mread\u001b[0m\u001b[0;34m(\u001b[0m\u001b[0;34m)\u001b[0m\u001b[0;34m)\u001b[0m\u001b[0;34m[\u001b[0m\u001b[0;34m'data'\u001b[0m\u001b[0;34m]\u001b[0m\u001b[0;34m\u001b[0m\u001b[0;34m\u001b[0m\u001b[0m\n",
      "\u001b[0;31mTypeError\u001b[0m: 'module' object is not callable"
     ]
    }
   ],
   "source": [
    "for i in range(1,10):\n",
    "    file = open(\"../output_files/110\"+str(i),\"w+\")\n",
    "    for n,x,p in zip(n_json,x_json,p_json):\n",
    "        ymd = n[0].split(\"-\")\n",
    "        if bool(n[1]) and bool(x[1]) and bool(p[1]):\n",
    "            file.write(\"IL\" + \"\\t\" + str(i) + \"\\t\" + ymd[0] + \"\\t\"  + ymd[1].lstrip(\"0\") + \"\\t\" + ymd[2].lstrip(\"0\") + \"\\t\" + str(float(\"{0:.1f}\".format(n[1][\"IL0\"+str(i)]))) + \"\\t\" + str(float(\"{0:.1f}\".format(x[1][\"IL0\"+str(i)]))) + \"\\t\" + str(float(\"{0:.2f}\".format(p[1][\"IL0\"+str(i)]))) + \"\\n\")\n",
    "    file.close()"
   ]
  },
  {
   "cell_type": "code",
   "execution_count": null,
   "metadata": {},
   "outputs": [],
   "source": []
  }
 ],
 "metadata": {
  "kernelspec": {
   "display_name": "Python 3",
   "language": "python",
   "name": "python3"
  },
  "language_info": {
   "codemirror_mode": {
    "name": "ipython",
    "version": 3
   },
   "file_extension": ".py",
   "mimetype": "text/x-python",
   "name": "python",
   "nbconvert_exporter": "python",
   "pygments_lexer": "ipython3",
   "version": "3.7.3"
  }
 },
 "nbformat": 4,
 "nbformat_minor": 2
}
