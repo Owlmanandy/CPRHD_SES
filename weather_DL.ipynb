{
 "cells": [
  {
   "cell_type": "code",
   "execution_count": 189,
   "metadata": {},
   "outputs": [],
   "source": [
    "import urllib\n",
    "import requests\n",
    "import json\n",
    "from datetime import datetime\n",
    "from datetime import date\n",
    "\n",
    "\n",
    "def download_weather_climate_division(county: str, date_to_start: str):\n",
    "    base_url = \"http://data.rcc-acis.org/GridData\"\n",
    "    start_date = datetime.strptime(date_to_start, '%Y%m%d').strftime(\"%Y%m%d\")\n",
    "    end_date = datetime.today().strftime('%Y%m%d')\n",
    "        \n",
    "    \n",
    "    if county.lower() == 'cook':\n",
    "        fips = '17031'\n",
    "    elif county.lower() == 'dupage' or county.lower() == 'du page':\n",
    "        fips = '17043'\n",
    "    else:\n",
    "        raise ValueError(\"Must be either Cook or DuPage county.\")\n",
    "    \n",
    "#     params_n = json.dumps({\"county\":fips,\n",
    "#                      \"sdate\":start_date,\n",
    "#                      \"edate\":end_date,\n",
    "#                      \"grid\":21,\n",
    "#                      \"elems\":[{\"name\":\"mint\",\"area_reduce\":\"county_mean\"}]})\n",
    "    \n",
    "    params = {\"state\":\"IL\",\"grid\":\"21\",\"date\":\"2012\",\"elems\":[{\"name\":\"yly_pcpn\",\"area_reduce\":\"climdiv_mean\"}]}\n",
    "    data = urllib.parse.urlencode(params)\n",
    "    print(data)\n",
    "    headers = {\"Content-Type\": \"application/json\"}\n",
    "    req = urllib.request.Request(base_url, data, headers)\n",
    "    print(req.data)\n",
    "    \n",
    "    with urllib.request.urlopen(req) as response:\n",
    "        the_page = response.read()\n",
    "        \n",
    "    print(the_page)\n",
    "    \n",
    "#     n_json = urllib.request.urlopen(full_url)\n",
    "#     print(n_json)\n",
    "#     n_json = json.loads(n_json.read())\n",
    "#     print(n_json)"
   ]
  },
  {
   "cell_type": "code",
   "execution_count": 190,
   "metadata": {},
   "outputs": [
    {
     "name": "stdout",
     "output_type": "stream",
     "text": [
      "state=IL&grid=21&date=2012&elems=%5B%7B%27name%27%3A+%27yly_pcpn%27%2C+%27area_reduce%27%3A+%27climdiv_mean%27%7D%5D\n",
      "state=IL&grid=21&date=2012&elems=%5B%7B%27name%27%3A+%27yly_pcpn%27%2C+%27area_reduce%27%3A+%27climdiv_mean%27%7D%5D\n"
     ]
    },
    {
     "ename": "TypeError",
     "evalue": "POST data should be bytes, an iterable of bytes, or a file object. It cannot be of type str.",
     "output_type": "error",
     "traceback": [
      "\u001b[0;31m---------------------------------------------------------------------------\u001b[0m",
      "\u001b[0;31mTypeError\u001b[0m                                 Traceback (most recent call last)",
      "\u001b[0;32m<ipython-input-190-ffef50af7651>\u001b[0m in \u001b[0;36m<module>\u001b[0;34m\u001b[0m\n\u001b[0;32m----> 1\u001b[0;31m \u001b[0mdownload_weather_climate_division\u001b[0m\u001b[0;34m(\u001b[0m\u001b[0;34m'cook'\u001b[0m\u001b[0;34m,\u001b[0m \u001b[0;34m'20100101'\u001b[0m\u001b[0;34m)\u001b[0m\u001b[0;34m\u001b[0m\u001b[0;34m\u001b[0m\u001b[0m\n\u001b[0m",
      "\u001b[0;32m<ipython-input-189-5814b68a397a>\u001b[0m in \u001b[0;36mdownload_weather_climate_division\u001b[0;34m(county, date_to_start)\u001b[0m\n\u001b[1;32m     32\u001b[0m     \u001b[0mprint\u001b[0m\u001b[0;34m(\u001b[0m\u001b[0mreq\u001b[0m\u001b[0;34m.\u001b[0m\u001b[0mdata\u001b[0m\u001b[0;34m)\u001b[0m\u001b[0;34m\u001b[0m\u001b[0;34m\u001b[0m\u001b[0m\n\u001b[1;32m     33\u001b[0m \u001b[0;34m\u001b[0m\u001b[0m\n\u001b[0;32m---> 34\u001b[0;31m     \u001b[0;32mwith\u001b[0m \u001b[0murllib\u001b[0m\u001b[0;34m.\u001b[0m\u001b[0mrequest\u001b[0m\u001b[0;34m.\u001b[0m\u001b[0murlopen\u001b[0m\u001b[0;34m(\u001b[0m\u001b[0mreq\u001b[0m\u001b[0;34m)\u001b[0m \u001b[0;32mas\u001b[0m \u001b[0mresponse\u001b[0m\u001b[0;34m:\u001b[0m\u001b[0;34m\u001b[0m\u001b[0;34m\u001b[0m\u001b[0m\n\u001b[0m\u001b[1;32m     35\u001b[0m         \u001b[0mthe_page\u001b[0m \u001b[0;34m=\u001b[0m \u001b[0mresponse\u001b[0m\u001b[0;34m.\u001b[0m\u001b[0mread\u001b[0m\u001b[0;34m(\u001b[0m\u001b[0;34m)\u001b[0m\u001b[0;34m\u001b[0m\u001b[0;34m\u001b[0m\u001b[0m\n\u001b[1;32m     36\u001b[0m \u001b[0;34m\u001b[0m\u001b[0m\n",
      "\u001b[0;32m~/anaconda3/lib/python3.7/urllib/request.py\u001b[0m in \u001b[0;36murlopen\u001b[0;34m(url, data, timeout, cafile, capath, cadefault, context)\u001b[0m\n\u001b[1;32m    220\u001b[0m     \u001b[0;32melse\u001b[0m\u001b[0;34m:\u001b[0m\u001b[0;34m\u001b[0m\u001b[0;34m\u001b[0m\u001b[0m\n\u001b[1;32m    221\u001b[0m         \u001b[0mopener\u001b[0m \u001b[0;34m=\u001b[0m \u001b[0m_opener\u001b[0m\u001b[0;34m\u001b[0m\u001b[0;34m\u001b[0m\u001b[0m\n\u001b[0;32m--> 222\u001b[0;31m     \u001b[0;32mreturn\u001b[0m \u001b[0mopener\u001b[0m\u001b[0;34m.\u001b[0m\u001b[0mopen\u001b[0m\u001b[0;34m(\u001b[0m\u001b[0murl\u001b[0m\u001b[0;34m,\u001b[0m \u001b[0mdata\u001b[0m\u001b[0;34m,\u001b[0m \u001b[0mtimeout\u001b[0m\u001b[0;34m)\u001b[0m\u001b[0;34m\u001b[0m\u001b[0;34m\u001b[0m\u001b[0m\n\u001b[0m\u001b[1;32m    223\u001b[0m \u001b[0;34m\u001b[0m\u001b[0m\n\u001b[1;32m    224\u001b[0m \u001b[0;32mdef\u001b[0m \u001b[0minstall_opener\u001b[0m\u001b[0;34m(\u001b[0m\u001b[0mopener\u001b[0m\u001b[0;34m)\u001b[0m\u001b[0;34m:\u001b[0m\u001b[0;34m\u001b[0m\u001b[0;34m\u001b[0m\u001b[0m\n",
      "\u001b[0;32m~/anaconda3/lib/python3.7/urllib/request.py\u001b[0m in \u001b[0;36mopen\u001b[0;34m(self, fullurl, data, timeout)\u001b[0m\n\u001b[1;32m    521\u001b[0m         \u001b[0;32mfor\u001b[0m \u001b[0mprocessor\u001b[0m \u001b[0;32min\u001b[0m \u001b[0mself\u001b[0m\u001b[0;34m.\u001b[0m\u001b[0mprocess_request\u001b[0m\u001b[0;34m.\u001b[0m\u001b[0mget\u001b[0m\u001b[0;34m(\u001b[0m\u001b[0mprotocol\u001b[0m\u001b[0;34m,\u001b[0m \u001b[0;34m[\u001b[0m\u001b[0;34m]\u001b[0m\u001b[0;34m)\u001b[0m\u001b[0;34m:\u001b[0m\u001b[0;34m\u001b[0m\u001b[0;34m\u001b[0m\u001b[0m\n\u001b[1;32m    522\u001b[0m             \u001b[0mmeth\u001b[0m \u001b[0;34m=\u001b[0m \u001b[0mgetattr\u001b[0m\u001b[0;34m(\u001b[0m\u001b[0mprocessor\u001b[0m\u001b[0;34m,\u001b[0m \u001b[0mmeth_name\u001b[0m\u001b[0;34m)\u001b[0m\u001b[0;34m\u001b[0m\u001b[0;34m\u001b[0m\u001b[0m\n\u001b[0;32m--> 523\u001b[0;31m             \u001b[0mreq\u001b[0m \u001b[0;34m=\u001b[0m \u001b[0mmeth\u001b[0m\u001b[0;34m(\u001b[0m\u001b[0mreq\u001b[0m\u001b[0;34m)\u001b[0m\u001b[0;34m\u001b[0m\u001b[0;34m\u001b[0m\u001b[0m\n\u001b[0m\u001b[1;32m    524\u001b[0m \u001b[0;34m\u001b[0m\u001b[0m\n\u001b[1;32m    525\u001b[0m         \u001b[0mresponse\u001b[0m \u001b[0;34m=\u001b[0m \u001b[0mself\u001b[0m\u001b[0;34m.\u001b[0m\u001b[0m_open\u001b[0m\u001b[0;34m(\u001b[0m\u001b[0mreq\u001b[0m\u001b[0;34m,\u001b[0m \u001b[0mdata\u001b[0m\u001b[0;34m)\u001b[0m\u001b[0;34m\u001b[0m\u001b[0;34m\u001b[0m\u001b[0m\n",
      "\u001b[0;32m~/anaconda3/lib/python3.7/urllib/request.py\u001b[0m in \u001b[0;36mdo_request_\u001b[0;34m(self, request)\u001b[0m\n\u001b[1;32m   1245\u001b[0m                 \u001b[0mmsg\u001b[0m \u001b[0;34m=\u001b[0m \u001b[0;34m\"POST data should be bytes, an iterable of bytes, \"\u001b[0m\u001b[0;31m \u001b[0m\u001b[0;31m\\\u001b[0m\u001b[0;34m\u001b[0m\u001b[0;34m\u001b[0m\u001b[0m\n\u001b[1;32m   1246\u001b[0m                       \u001b[0;34m\"or a file object. It cannot be of type str.\"\u001b[0m\u001b[0;34m\u001b[0m\u001b[0;34m\u001b[0m\u001b[0m\n\u001b[0;32m-> 1247\u001b[0;31m                 \u001b[0;32mraise\u001b[0m \u001b[0mTypeError\u001b[0m\u001b[0;34m(\u001b[0m\u001b[0mmsg\u001b[0m\u001b[0;34m)\u001b[0m\u001b[0;34m\u001b[0m\u001b[0;34m\u001b[0m\u001b[0m\n\u001b[0m\u001b[1;32m   1248\u001b[0m             \u001b[0;32mif\u001b[0m \u001b[0;32mnot\u001b[0m \u001b[0mrequest\u001b[0m\u001b[0;34m.\u001b[0m\u001b[0mhas_header\u001b[0m\u001b[0;34m(\u001b[0m\u001b[0;34m'Content-type'\u001b[0m\u001b[0;34m)\u001b[0m\u001b[0;34m:\u001b[0m\u001b[0;34m\u001b[0m\u001b[0;34m\u001b[0m\u001b[0m\n\u001b[1;32m   1249\u001b[0m                 request.add_unredirected_header(\n",
      "\u001b[0;31mTypeError\u001b[0m: POST data should be bytes, an iterable of bytes, or a file object. It cannot be of type str."
     ]
    }
   ],
   "source": [
    "download_weather_climate_division('cook', '20100101')"
   ]
  },
  {
   "cell_type": "code",
   "execution_count": null,
   "metadata": {},
   "outputs": [],
   "source": [
    "# request data\n",
    "params_n = json.dumps({\"state\":\"IL\",\n",
    "                     \"sdate\":start_date,\n",
    "                     \"edate\":end_date,\n",
    "                     \"grid\":21,\n",
    "                     \"elems\":[{\"name\":\"mint\",\"area_reduce\":\"climdiv_mean\"}]})\n",
    "\n",
    "req_n = urllib3.request(config['prism_url'],params_n,{\"Content-Type\":\"application/json\"})\n",
    "response = urllib3.urlopen(req_n)\n",
    "n_json = json.loads(response.read())['data']\n",
    "\n",
    "\n",
    "params_x = json.dumps({\"state\":\"IL\",\n",
    "                     \"sdate\":start_date,\n",
    "                     \"edate\":end_date,\n",
    "                     \"grid\":21,\n",
    "                     \"elems\":[{\"name\":\"maxt\",\"area_reduce\":\"climdiv_mean\"}]})\n",
    "req_x = urllib3.request(config['prism_url'],params_x,{\"Content-Type\":\"application/json\"})\n",
    "response = urllib3.urlopen(req_x)\n",
    "x_json = json.loads(response.read())['data']\n",
    "\n",
    "params_p = json.dumps({\"state\":\"IL\",\n",
    "                     \"sdate\":start_date,\n",
    "                     \"edate\":end_date,\n",
    "                     \"grid\":21,\n",
    "                     \"elems\":[{\"name\":\"pcpn\",\"area_reduce\":\"climdiv_mean\"}]})\n",
    "\n",
    "req_p = urllib3.request(config['prism_url'],params_p,{\"Content-Type\":\"application/json\"})\n",
    "response = urllib3.urlopen(req_p)\n",
    "p_json = json.loads(response.read())['data']"
   ]
  },
  {
   "cell_type": "code",
   "execution_count": 5,
   "metadata": {},
   "outputs": [
    {
     "name": "stderr",
     "output_type": "stream",
     "text": [
      "/home/jallen17/anaconda3/lib/python3.7/site-packages/ipykernel_launcher.py:6: YAMLLoadWarning: calling yaml.load() without Loader=... is deprecated, as the default Loader is unsafe. Please read https://msg.pyyaml.org/load for full details.\n",
      "  \n"
     ]
    },
    {
     "ename": "TypeError",
     "evalue": "'module' object is not callable",
     "output_type": "error",
     "traceback": [
      "\u001b[0;31m---------------------------------------------------------------------------\u001b[0m",
      "\u001b[0;31mTypeError\u001b[0m                                 Traceback (most recent call last)",
      "\u001b[0;32m<ipython-input-5-1eee925b71af>\u001b[0m in \u001b[0;36m<module>\u001b[0;34m\u001b[0m\n\u001b[1;32m     18\u001b[0m                      \"elems\":[{\"name\":\"mint\",\"area_reduce\":\"climdiv_mean\"}]})\n\u001b[1;32m     19\u001b[0m \u001b[0;34m\u001b[0m\u001b[0m\n\u001b[0;32m---> 20\u001b[0;31m \u001b[0mreq_n\u001b[0m \u001b[0;34m=\u001b[0m \u001b[0murllib3\u001b[0m\u001b[0;34m.\u001b[0m\u001b[0mrequest\u001b[0m\u001b[0;34m(\u001b[0m\u001b[0mconfig\u001b[0m\u001b[0;34m[\u001b[0m\u001b[0;34m'prism_url'\u001b[0m\u001b[0;34m]\u001b[0m\u001b[0;34m,\u001b[0m\u001b[0mparams_n\u001b[0m\u001b[0;34m,\u001b[0m\u001b[0;34m{\u001b[0m\u001b[0;34m\"Content-Type\"\u001b[0m\u001b[0;34m:\u001b[0m\u001b[0;34m\"application/json\"\u001b[0m\u001b[0;34m}\u001b[0m\u001b[0;34m)\u001b[0m\u001b[0;34m\u001b[0m\u001b[0;34m\u001b[0m\u001b[0m\n\u001b[0m\u001b[1;32m     21\u001b[0m \u001b[0mresponse\u001b[0m \u001b[0;34m=\u001b[0m \u001b[0murllib3\u001b[0m\u001b[0;34m.\u001b[0m\u001b[0murlopen\u001b[0m\u001b[0;34m(\u001b[0m\u001b[0mreq_n\u001b[0m\u001b[0;34m)\u001b[0m\u001b[0;34m\u001b[0m\u001b[0;34m\u001b[0m\u001b[0m\n\u001b[1;32m     22\u001b[0m \u001b[0mn_json\u001b[0m \u001b[0;34m=\u001b[0m \u001b[0mjson\u001b[0m\u001b[0;34m.\u001b[0m\u001b[0mloads\u001b[0m\u001b[0;34m(\u001b[0m\u001b[0mresponse\u001b[0m\u001b[0;34m.\u001b[0m\u001b[0mread\u001b[0m\u001b[0;34m(\u001b[0m\u001b[0;34m)\u001b[0m\u001b[0;34m)\u001b[0m\u001b[0;34m[\u001b[0m\u001b[0;34m'data'\u001b[0m\u001b[0;34m]\u001b[0m\u001b[0;34m\u001b[0m\u001b[0;34m\u001b[0m\u001b[0m\n",
      "\u001b[0;31mTypeError\u001b[0m: 'module' object is not callable"
     ]
    }
   ],
   "source": [
    "for i in range(1,10):\n",
    "    file = open(\"../output_files/110\"+str(i),\"w+\")\n",
    "    for n,x,p in zip(n_json,x_json,p_json):\n",
    "        ymd = n[0].split(\"-\")\n",
    "        if bool(n[1]) and bool(x[1]) and bool(p[1]):\n",
    "            file.write(\"IL\" + \"\\t\" + str(i) + \"\\t\" + ymd[0] + \"\\t\"  + ymd[1].lstrip(\"0\") + \"\\t\" + ymd[2].lstrip(\"0\") + \"\\t\" + str(float(\"{0:.1f}\".format(n[1][\"IL0\"+str(i)]))) + \"\\t\" + str(float(\"{0:.1f}\".format(x[1][\"IL0\"+str(i)]))) + \"\\t\" + str(float(\"{0:.2f}\".format(p[1][\"IL0\"+str(i)]))) + \"\\n\")\n",
    "    file.close()"
   ]
  },
  {
   "cell_type": "code",
   "execution_count": null,
   "metadata": {},
   "outputs": [],
   "source": []
  }
 ],
 "metadata": {
  "kernelspec": {
   "display_name": "Python 3",
   "language": "python",
   "name": "python3"
  },
  "language_info": {
   "codemirror_mode": {
    "name": "ipython",
    "version": 3
   },
   "file_extension": ".py",
   "mimetype": "text/x-python",
   "name": "python",
   "nbconvert_exporter": "python",
   "pygments_lexer": "ipython3",
   "version": "3.7.3"
  }
 },
 "nbformat": 4,
 "nbformat_minor": 2
}
