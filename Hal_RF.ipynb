{
 "cells": [
  {
   "cell_type": "code",
   "execution_count": 3,
   "metadata": {},
   "outputs": [],
   "source": [
    "import numpy as np\n",
    "import time\n",
    "import scipy.stats as stats\n",
    "import pandas as pd\n",
    "from matplotlib import pyplot as plt\n",
    "from sklearn.ensemble import RandomForestClassifier\n",
    "from sklearn import metrics\n",
    "from sklearn.model_selection import GridSearchCV, train_test_split\n",
    "from sklearn.linear_model import LinearRegression\n",
    "from scipy import stats\n",
    "from sklearn.metrics import log_loss\n",
    "from sklearn.calibration import CalibratedClassifierCV, calibration_curve\n",
    "import matplotlib.pyplot as plt\n",
    "from sklearn.metrics import (brier_score_loss, precision_score, recall_score,\n",
    "                             f1_score)"
   ]
  },
  {
   "cell_type": "code",
   "execution_count": 4,
   "metadata": {},
   "outputs": [],
   "source": [
    "data = pd.read_sas('/home/guangya/Downloads/wnv_2245new.sas7bdat') # In the Cook_Dupage Directory"
   ]
  },
  {
   "cell_type": "code",
   "execution_count": 5,
   "metadata": {},
   "outputs": [],
   "source": [
    "x_selected = data[data.drop(columns=['wnvbinary','yrweeks','yrwksfid','yr_hexid','year']).columns[[7,8,9,10,16,17,20]]].values\n",
    "y_selected = data['wnvbinary'].values"
   ]
  },
  {
   "cell_type": "code",
   "execution_count": null,
   "metadata": {},
   "outputs": [],
   "source": [
    "trainX_sel, testX_sel, trainY_sel, testY_sel = train_test_split(x_selected, y_selected, test_size = 0.2, shuffle = True) # CV"
   ]
  },
  {
   "cell_type": "code",
   "execution_count": null,
   "metadata": {},
   "outputs": [],
   "source": [
    "model_RF_best_2 = RandomForestRegressor(n_estimators=1500,\n",
    "                                 n_jobs = -1,\n",
    "                                 max_features=None,\n",
    "                                 max_depth=None,\n",
    "                                 bootstrap=True,\n",
    "                                 min_samples_leaf=2\n",
    "                                 )\n",
    "model_RF_best_2.fit(trainX_sel, trainY_sel)"
   ]
  },
  {
   "cell_type": "code",
   "execution_count": null,
   "metadata": {},
   "outputs": [],
   "source": [
    "time_start = time.time()\n",
    "param_grid = {\n",
    "    'bootstrap': [True],\n",
    "    'max_depth': [80, None, 110],\n",
    "    'max_features': ['sqrt', 4],\n",
    "    'min_samples_leaf': [3, 4, 5],\n",
    "    'min_samples_split': [8, 10, 12],\n",
    "    'n_estimators': [500, 2000, 4000, 1000]\n",
    "}\n",
    "CV_model_RF_3 = GridSearchCV(model_RF_best_2, param_grid, cv=5)\n",
    "CV_model_RF_3.fit(trainX_sel, trainX_sel)\n",
    "print(\"time consumed:\", time.time() - time_start)"
   ]
  },
  {
   "cell_type": "code",
   "execution_count": 2,
   "metadata": {},
   "outputs": [],
   "source": [
    "def model_RF_test(model_RF, dataX, dataY):\n",
    "    print(\"Model performance\")\n",
    "    predict_data = model_RF.predict_proba(dataX)\n",
    "    \n",
    "    # Some stats\n",
    "    print(\"Feature Importantce : \")\n",
    "    print(model_RF.feature_importances_)\n",
    "    print(\"Total number of WNV occurence in test set : \" + str(len(dataY[dataY > 0])))\n",
    "    \n",
    "    print(\"Number of WNV occurence the model is able to capture in test set:\" + str(dataY[np.where(predict_data[:,1]  > 0)].sum()))\n",
    "    \n",
    "    print(\"Log loss : \" + str(log_loss(dataY,predict_data)))\n",
    "    \n",
    "    print(\"This is to test the performance of random forest model, ideally, the logloss is low and also it is able to capture most of the WNV occurence\")\n",
    "    \n",
    "    return None # Check how many wnv it predicts"
   ]
  },
  {
   "cell_type": "code",
   "execution_count": null,
   "metadata": {},
   "outputs": [],
   "source": [
    "model_RF_test(CV_model_RF_3,testX_sel,testY_sel)"
   ]
  },
  {
   "cell_type": "code",
   "execution_count": null,
   "metadata": {},
   "outputs": [],
   "source": []
  }
 ],
 "metadata": {
  "kernelspec": {
   "display_name": "Python 3",
   "language": "python",
   "name": "python3"
  },
  "language_info": {
   "codemirror_mode": {
    "name": "ipython",
    "version": 3
   },
   "file_extension": ".py",
   "mimetype": "text/x-python",
   "name": "python",
   "nbconvert_exporter": "python",
   "pygments_lexer": "ipython3",
   "version": "3.7.2"
  }
 },
 "nbformat": 4,
 "nbformat_minor": 2
}
