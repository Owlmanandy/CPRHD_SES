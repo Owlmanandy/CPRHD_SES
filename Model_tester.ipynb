{
 "cells": [
  {
   "cell_type": "code",
   "execution_count": 1,
   "metadata": {},
   "outputs": [],
   "source": [
    "import numpy as np\n",
    "import time\n",
    "import scipy.stats as stats\n",
    "import pandas as pd\n",
    "from matplotlib import pyplot as plt\n",
    "from sklearn.ensemble import RandomForestClassifier\n",
    "from sklearn import metrics\n",
    "from sklearn.model_selection import GridSearchCV, train_test_split\n",
    "from sklearn.linear_model import LinearRegression\n",
    "from scipy import stats\n",
    "from sklearn.metrics import log_loss\n",
    "from sklearn.calibration import CalibratedClassifierCV, calibration_curve\n",
    "import matplotlib.pyplot as plt\n",
    "from sklearn.metrics import (brier_score_loss, precision_score, recall_score,\n",
    "                             f1_score)\n",
    "from sklearn.metrics import roc_auc_score\n",
    "import pickle"
   ]
  },
  {
   "cell_type": "code",
   "execution_count": 8,
   "metadata": {},
   "outputs": [
    {
     "data": {
      "text/plain": [
       "52"
      ]
     },
     "execution_count": 8,
     "metadata": {},
     "output_type": "execute_result"
    }
   ],
   "source": [
    "len(data.columns)"
   ]
  },
  {
   "cell_type": "code",
   "execution_count": 70,
   "metadata": {},
   "outputs": [],
   "source": [
    "def model_RF_test(model_RF, dataX, dataY):\n",
    "    print(\"Model performance\")\n",
    "    predict_data = model_RF.predict_proba(dataX)\n",
    "\n",
    "    # Some stats\n",
    "    print(\"Feature Importance : \")\n",
    "    print(model_RF.best_estimator_.feature_importances_)\n",
    "    print(\"Total number of WNV occurrence in test set : \" + str(len(dataY[dataY > 0])))\n",
    "    \n",
    "    print(\"Number of WNV occurrence the model is able to capture in test set:\" + str(\n",
    "        dataY[np.where(predict_data[:, 1] > 0)].sum()))\n",
    "    print('Expected number of WNV occurence' + str(predict_data[:,1].mean() * len(dataY)))\n",
    "    print('True number of WNV occurence' + str(dataY.sum()))\n",
    "    print('model best parameters')\n",
    "    print(model_RF.get_params)\n",
    "    print(\"Log loss : \" + str(log_loss(dataY, predict_data)))\n",
    "\n",
    "    print(\"AUC: \" + str(roc_auc_score(dataY, predict_data[:,1])))\n",
    "\n",
    "    print(\n",
    "        \"This is to test the performance of random forest model, ideally, the logloss is low and also it is able to \"\n",
    "        \"capture most of the WNV occurrence\")\n",
    "\n",
    "    return None  # Check how many wnv it predicts"
   ]
  },
  {
   "cell_type": "code",
   "execution_count": 7,
   "metadata": {},
   "outputs": [],
   "source": [
    "data = pd.read_sas('/home/guangya/Downloads/wnv_2245new.sas7bdat') "
   ]
  },
  {
   "cell_type": "code",
   "execution_count": 2,
   "metadata": {},
   "outputs": [],
   "source": []
  },
  {
   "cell_type": "code",
   "execution_count": 3,
   "metadata": {},
   "outputs": [],
   "source": [
    "ip = model_1_max.best_estimator_.feature_importances_"
   ]
  },
  {
   "cell_type": "code",
   "execution_count": 38,
   "metadata": {},
   "outputs": [
    {
     "data": {
      "text/plain": [
       "Index(['hexid', 'Input_FID', 'tempc', 'preci', 'templag1', 'templag2',\n",
       "       'templag3', 'templag4', 'precilag1', 'precilag2', 'precilag3',\n",
       "       'precilag4', 'mirmean', 'mirlag1', 'mirlag2', 'mirlag3', 'mirlag4',\n",
       "       'totpop', 'dlipct', 'dmipct', 'Jantemp', 'hpctpreww', 'hpctpostww',\n",
       "       'hpct7089'],\n",
       "      dtype='object')"
      ]
     },
     "execution_count": 38,
     "metadata": {},
     "output_type": "execute_result"
    }
   ],
   "source": [
    "['tempc', 'preci', 'templag1', 'templag2',\n",
    "       'templag3', 'templag4', 'precilag1', 'precilag2', 'precilag3',\n",
    "       'precilag4', 'mirmean', 'mirlag1', 'mirlag2', 'mirlag3', 'mirlag4',\n",
    "       'totpop', 'dlipct', 'dmipct', 'Jantemp', 'hpctpreww', 'hpctpostww',\n",
    "       'hpct7089']"
   ]
  },
  {
   "cell_type": "code",
   "execution_count": 46,
   "metadata": {},
   "outputs": [],
   "source": [
    "description = ['unique hexid used by arcgis',\n",
    " 'unique id',\n",
    "'weekly mean temperature (C)',\n",
    "'weekly mean precipitation (mm)',\n",
    "'year',\n",
    "'week of the year (Jan 1 = week 1)',\n",
    "'temperature lag 1 week',\n",
    "'temperature lag 2 weeks',\n",
    "'temperature lag 3 weeks',\n",
    "'temperature lag 4 weeks',\n",
    "'precipitation lag 1 week',\n",
    "'precipitation lag 2 weeks',\n",
    "'precipitation lag 3 weeks',\n",
    "'precipitation lag 4 weeks',\n",
    "'mean mosquito infection rate',\n",
    "'mosquito infection rate lag 1 week',\n",
    "'mosquito infection rate lag 2 weeks',\n",
    "'mosquito infection rate lag 3 weeks',\n",
    "'mosquito infection rate lag 4 weeks'\n",
    ",'total human population',\n",
    "'% white'\n",
    ",'% black',\n",
    "'% asian',\n",
    "'% hispanic',\n",
    "'average household income',\n",
    "'open water percent',\n",
    "'developed open space percent',\n",
    "'developed low intensity percent',\n",
    "'developed medium intensity percent',\n",
    "'developed high intensity percent',\n",
    "'barren land percent',\n",
    "'deciduous forest percent',\n",
    "'evergreen forest percent',\n",
    "'mixed forest percent',\n",
    "'shrub percent',\n",
    "'grassland percent',\n",
    "'pasture percent',\n",
    "'cultivated crops percent',\n",
    "'woody wetlands percent',\n",
    "'emergent herbaceous wetlands percent',\n",
    "'mean temperature in January',\n",
    "'N/A',\n",
    "'housing % pre world-war 2',\n",
    "'housing % post world-war 2 (1945-1969)',\n",
    "'housing % 1970-1989',\n",
    "'housing % post 1990',\n",
    "              'Average household Income(K)']"
   ]
  },
  {
   "cell_type": "code",
   "execution_count": 31,
   "metadata": {},
   "outputs": [],
   "source": [
    "features = data.columns.drop(['yrweeks', 'yrwksfid', 'yr_hexid', 'year', 'wnvbinary'])"
   ]
  },
  {
   "cell_type": "code",
   "execution_count": 49,
   "metadata": {},
   "outputs": [],
   "source": [
    "s = np.array([features,description,ip]).T"
   ]
  },
  {
   "cell_type": "code",
   "execution_count": 50,
   "metadata": {},
   "outputs": [
    {
     "data": {
      "text/plain": [
       "(47, 3)"
      ]
     },
     "execution_count": 50,
     "metadata": {},
     "output_type": "execute_result"
    }
   ],
   "source": [
    "s.shape"
   ]
  },
  {
   "cell_type": "code",
   "execution_count": 51,
   "metadata": {},
   "outputs": [],
   "source": [
    "temp = pd.DataFrame(s,columns=['feature_name','description','feature_importance'])"
   ]
  },
  {
   "cell_type": "code",
   "execution_count": 52,
   "metadata": {},
   "outputs": [
    {
     "data": {
      "text/html": [
       "<div>\n",
       "<style scoped>\n",
       "    .dataframe tbody tr th:only-of-type {\n",
       "        vertical-align: middle;\n",
       "    }\n",
       "\n",
       "    .dataframe tbody tr th {\n",
       "        vertical-align: top;\n",
       "    }\n",
       "\n",
       "    .dataframe thead th {\n",
       "        text-align: right;\n",
       "    }\n",
       "</style>\n",
       "<table border=\"1\" class=\"dataframe\">\n",
       "  <thead>\n",
       "    <tr style=\"text-align: right;\">\n",
       "      <th></th>\n",
       "      <th>feature_name</th>\n",
       "      <th>description</th>\n",
       "      <th>feature_importance</th>\n",
       "    </tr>\n",
       "  </thead>\n",
       "  <tbody>\n",
       "    <tr>\n",
       "      <th>0</th>\n",
       "      <td>hexid</td>\n",
       "      <td>unique hexid used by arcgis</td>\n",
       "      <td>0.0262945</td>\n",
       "    </tr>\n",
       "    <tr>\n",
       "      <th>1</th>\n",
       "      <td>Input_FID</td>\n",
       "      <td>unique id</td>\n",
       "      <td>0.0257839</td>\n",
       "    </tr>\n",
       "    <tr>\n",
       "      <th>2</th>\n",
       "      <td>tempc</td>\n",
       "      <td>weekly mean temperature (C)</td>\n",
       "      <td>0.0345134</td>\n",
       "    </tr>\n",
       "    <tr>\n",
       "      <th>3</th>\n",
       "      <td>preci</td>\n",
       "      <td>weekly mean precipitation (mm)</td>\n",
       "      <td>0.0310655</td>\n",
       "    </tr>\n",
       "    <tr>\n",
       "      <th>4</th>\n",
       "      <td>yr</td>\n",
       "      <td>year</td>\n",
       "      <td>0.00981822</td>\n",
       "    </tr>\n",
       "    <tr>\n",
       "      <th>5</th>\n",
       "      <td>weeks</td>\n",
       "      <td>week of the year (Jan 1 = week 1)</td>\n",
       "      <td>0.00860826</td>\n",
       "    </tr>\n",
       "    <tr>\n",
       "      <th>6</th>\n",
       "      <td>templag1</td>\n",
       "      <td>temperature lag 1 week</td>\n",
       "      <td>0.0366341</td>\n",
       "    </tr>\n",
       "    <tr>\n",
       "      <th>7</th>\n",
       "      <td>templag2</td>\n",
       "      <td>temperature lag 2 weeks</td>\n",
       "      <td>0.0358726</td>\n",
       "    </tr>\n",
       "    <tr>\n",
       "      <th>8</th>\n",
       "      <td>templag3</td>\n",
       "      <td>temperature lag 3 weeks</td>\n",
       "      <td>0.0363154</td>\n",
       "    </tr>\n",
       "    <tr>\n",
       "      <th>9</th>\n",
       "      <td>templag4</td>\n",
       "      <td>temperature lag 4 weeks</td>\n",
       "      <td>0.0367589</td>\n",
       "    </tr>\n",
       "    <tr>\n",
       "      <th>10</th>\n",
       "      <td>precilag1</td>\n",
       "      <td>precipitation lag 1 week</td>\n",
       "      <td>0.0306447</td>\n",
       "    </tr>\n",
       "    <tr>\n",
       "      <th>11</th>\n",
       "      <td>precilag2</td>\n",
       "      <td>precipitation lag 2 weeks</td>\n",
       "      <td>0.0311156</td>\n",
       "    </tr>\n",
       "    <tr>\n",
       "      <th>12</th>\n",
       "      <td>precilag3</td>\n",
       "      <td>precipitation lag 3 weeks</td>\n",
       "      <td>0.0320155</td>\n",
       "    </tr>\n",
       "    <tr>\n",
       "      <th>13</th>\n",
       "      <td>precilag4</td>\n",
       "      <td>precipitation lag 4 weeks</td>\n",
       "      <td>0.0316537</td>\n",
       "    </tr>\n",
       "    <tr>\n",
       "      <th>14</th>\n",
       "      <td>mirmean</td>\n",
       "      <td>mean mosquito infection rate</td>\n",
       "      <td>0.034072</td>\n",
       "    </tr>\n",
       "    <tr>\n",
       "      <th>15</th>\n",
       "      <td>mirlag1</td>\n",
       "      <td>mosquito infection rate lag 1 week</td>\n",
       "      <td>0.0359839</td>\n",
       "    </tr>\n",
       "    <tr>\n",
       "      <th>16</th>\n",
       "      <td>mirlag2</td>\n",
       "      <td>mosquito infection rate lag 2 weeks</td>\n",
       "      <td>0.0358548</td>\n",
       "    </tr>\n",
       "    <tr>\n",
       "      <th>17</th>\n",
       "      <td>mirlag3</td>\n",
       "      <td>mosquito infection rate lag 3 weeks</td>\n",
       "      <td>0.0336327</td>\n",
       "    </tr>\n",
       "    <tr>\n",
       "      <th>18</th>\n",
       "      <td>mirlag4</td>\n",
       "      <td>mosquito infection rate lag 4 weeks</td>\n",
       "      <td>0.033744</td>\n",
       "    </tr>\n",
       "    <tr>\n",
       "      <th>19</th>\n",
       "      <td>totpop</td>\n",
       "      <td>total human population</td>\n",
       "      <td>0.0289874</td>\n",
       "    </tr>\n",
       "    <tr>\n",
       "      <th>20</th>\n",
       "      <td>whitepct</td>\n",
       "      <td>% white</td>\n",
       "      <td>0.0245016</td>\n",
       "    </tr>\n",
       "    <tr>\n",
       "      <th>21</th>\n",
       "      <td>blackpct</td>\n",
       "      <td>% black</td>\n",
       "      <td>0.0236782</td>\n",
       "    </tr>\n",
       "    <tr>\n",
       "      <th>22</th>\n",
       "      <td>asianpct</td>\n",
       "      <td>% asian</td>\n",
       "      <td>0.0239008</td>\n",
       "    </tr>\n",
       "    <tr>\n",
       "      <th>23</th>\n",
       "      <td>hispanicpct</td>\n",
       "      <td>% hispanic</td>\n",
       "      <td>0.0218244</td>\n",
       "    </tr>\n",
       "    <tr>\n",
       "      <th>24</th>\n",
       "      <td>Income</td>\n",
       "      <td>average household income</td>\n",
       "      <td>0.0246348</td>\n",
       "    </tr>\n",
       "    <tr>\n",
       "      <th>25</th>\n",
       "      <td>owpct</td>\n",
       "      <td>open water percent</td>\n",
       "      <td>0.00266412</td>\n",
       "    </tr>\n",
       "    <tr>\n",
       "      <th>26</th>\n",
       "      <td>dospct</td>\n",
       "      <td>developed open space percent</td>\n",
       "      <td>0.02064</td>\n",
       "    </tr>\n",
       "    <tr>\n",
       "      <th>27</th>\n",
       "      <td>dlipct</td>\n",
       "      <td>developed low intensity percent</td>\n",
       "      <td>0.026513</td>\n",
       "    </tr>\n",
       "    <tr>\n",
       "      <th>28</th>\n",
       "      <td>dmipct</td>\n",
       "      <td>developed medium intensity percent</td>\n",
       "      <td>0.025883</td>\n",
       "    </tr>\n",
       "    <tr>\n",
       "      <th>29</th>\n",
       "      <td>dhipct</td>\n",
       "      <td>developed high intensity percent</td>\n",
       "      <td>0.0213744</td>\n",
       "    </tr>\n",
       "    <tr>\n",
       "      <th>30</th>\n",
       "      <td>blpct</td>\n",
       "      <td>barren land percent</td>\n",
       "      <td>0.000386777</td>\n",
       "    </tr>\n",
       "    <tr>\n",
       "      <th>31</th>\n",
       "      <td>dfpct</td>\n",
       "      <td>deciduous forest percent</td>\n",
       "      <td>0.0033449</td>\n",
       "    </tr>\n",
       "    <tr>\n",
       "      <th>32</th>\n",
       "      <td>efpct</td>\n",
       "      <td>evergreen forest percent</td>\n",
       "      <td>0.000604118</td>\n",
       "    </tr>\n",
       "    <tr>\n",
       "      <th>33</th>\n",
       "      <td>mfpct</td>\n",
       "      <td>mixed forest percent</td>\n",
       "      <td>0.00165944</td>\n",
       "    </tr>\n",
       "    <tr>\n",
       "      <th>34</th>\n",
       "      <td>shrubpct</td>\n",
       "      <td>shrub percent</td>\n",
       "      <td>0.00048802</td>\n",
       "    </tr>\n",
       "    <tr>\n",
       "      <th>35</th>\n",
       "      <td>glandpct</td>\n",
       "      <td>grassland percent</td>\n",
       "      <td>0.0017847</td>\n",
       "    </tr>\n",
       "    <tr>\n",
       "      <th>36</th>\n",
       "      <td>pasturepct</td>\n",
       "      <td>pasture percent</td>\n",
       "      <td>0.00112839</td>\n",
       "    </tr>\n",
       "    <tr>\n",
       "      <th>37</th>\n",
       "      <td>ccpct</td>\n",
       "      <td>cultivated crops percent</td>\n",
       "      <td>0.00137582</td>\n",
       "    </tr>\n",
       "    <tr>\n",
       "      <th>38</th>\n",
       "      <td>wwpct</td>\n",
       "      <td>woody wetlands percent</td>\n",
       "      <td>0.00300273</td>\n",
       "    </tr>\n",
       "    <tr>\n",
       "      <th>39</th>\n",
       "      <td>ehwpct</td>\n",
       "      <td>emergent herbaceous wetlands percent</td>\n",
       "      <td>0.000330284</td>\n",
       "    </tr>\n",
       "    <tr>\n",
       "      <th>40</th>\n",
       "      <td>Jantemp</td>\n",
       "      <td>mean temperature in January</td>\n",
       "      <td>0.0337713</td>\n",
       "    </tr>\n",
       "    <tr>\n",
       "      <th>41</th>\n",
       "      <td>PopYesNo</td>\n",
       "      <td>N/A</td>\n",
       "      <td>0</td>\n",
       "    </tr>\n",
       "    <tr>\n",
       "      <th>42</th>\n",
       "      <td>hpctpreww</td>\n",
       "      <td>housing % pre world-war 2</td>\n",
       "      <td>0.0256384</td>\n",
       "    </tr>\n",
       "    <tr>\n",
       "      <th>43</th>\n",
       "      <td>hpctpostww</td>\n",
       "      <td>housing % post world-war 2 (1945-1969)</td>\n",
       "      <td>0.025436</td>\n",
       "    </tr>\n",
       "    <tr>\n",
       "      <th>44</th>\n",
       "      <td>hpct7089</td>\n",
       "      <td>housing % 1970-1989</td>\n",
       "      <td>0.0267511</td>\n",
       "    </tr>\n",
       "    <tr>\n",
       "      <th>45</th>\n",
       "      <td>hpctpost90</td>\n",
       "      <td>housing % post 1990</td>\n",
       "      <td>0.0242146</td>\n",
       "    </tr>\n",
       "    <tr>\n",
       "      <th>46</th>\n",
       "      <td>income1</td>\n",
       "      <td>Average household Income(K)</td>\n",
       "      <td>0.0251003</td>\n",
       "    </tr>\n",
       "  </tbody>\n",
       "</table>\n",
       "</div>"
      ],
      "text/plain": [
       "   feature_name                             description feature_importance\n",
       "0         hexid             unique hexid used by arcgis          0.0262945\n",
       "1     Input_FID                               unique id          0.0257839\n",
       "2         tempc             weekly mean temperature (C)          0.0345134\n",
       "3         preci          weekly mean precipitation (mm)          0.0310655\n",
       "4            yr                                    year         0.00981822\n",
       "5         weeks       week of the year (Jan 1 = week 1)         0.00860826\n",
       "6      templag1                  temperature lag 1 week          0.0366341\n",
       "7      templag2                 temperature lag 2 weeks          0.0358726\n",
       "8      templag3                 temperature lag 3 weeks          0.0363154\n",
       "9      templag4                 temperature lag 4 weeks          0.0367589\n",
       "10    precilag1                precipitation lag 1 week          0.0306447\n",
       "11    precilag2               precipitation lag 2 weeks          0.0311156\n",
       "12    precilag3               precipitation lag 3 weeks          0.0320155\n",
       "13    precilag4               precipitation lag 4 weeks          0.0316537\n",
       "14      mirmean            mean mosquito infection rate           0.034072\n",
       "15      mirlag1      mosquito infection rate lag 1 week          0.0359839\n",
       "16      mirlag2     mosquito infection rate lag 2 weeks          0.0358548\n",
       "17      mirlag3     mosquito infection rate lag 3 weeks          0.0336327\n",
       "18      mirlag4     mosquito infection rate lag 4 weeks           0.033744\n",
       "19       totpop                  total human population          0.0289874\n",
       "20     whitepct                                 % white          0.0245016\n",
       "21     blackpct                                 % black          0.0236782\n",
       "22     asianpct                                 % asian          0.0239008\n",
       "23  hispanicpct                              % hispanic          0.0218244\n",
       "24       Income                average household income          0.0246348\n",
       "25        owpct                      open water percent         0.00266412\n",
       "26       dospct            developed open space percent            0.02064\n",
       "27       dlipct         developed low intensity percent           0.026513\n",
       "28       dmipct      developed medium intensity percent           0.025883\n",
       "29       dhipct        developed high intensity percent          0.0213744\n",
       "30        blpct                     barren land percent        0.000386777\n",
       "31        dfpct                deciduous forest percent          0.0033449\n",
       "32        efpct                evergreen forest percent        0.000604118\n",
       "33        mfpct                    mixed forest percent         0.00165944\n",
       "34     shrubpct                           shrub percent         0.00048802\n",
       "35     glandpct                       grassland percent          0.0017847\n",
       "36   pasturepct                         pasture percent         0.00112839\n",
       "37        ccpct                cultivated crops percent         0.00137582\n",
       "38        wwpct                  woody wetlands percent         0.00300273\n",
       "39       ehwpct    emergent herbaceous wetlands percent        0.000330284\n",
       "40      Jantemp             mean temperature in January          0.0337713\n",
       "41     PopYesNo                                     N/A                  0\n",
       "42    hpctpreww               housing % pre world-war 2          0.0256384\n",
       "43   hpctpostww  housing % post world-war 2 (1945-1969)           0.025436\n",
       "44     hpct7089                     housing % 1970-1989          0.0267511\n",
       "45   hpctpost90                     housing % post 1990          0.0242146\n",
       "46      income1             Average household Income(K)          0.0251003"
      ]
     },
     "execution_count": 52,
     "metadata": {},
     "output_type": "execute_result"
    }
   ],
   "source": [
    "temp"
   ]
  },
  {
   "cell_type": "code",
   "execution_count": 53,
   "metadata": {},
   "outputs": [],
   "source": [
    "temp.to_csv('temp.csv')"
   ]
  },
  {
   "cell_type": "code",
   "execution_count": 31,
   "metadata": {},
   "outputs": [
    {
     "data": {
      "text/plain": [
       "(array([ 0,  1,  2,  3,  6,  7,  8,  9, 10, 11, 12, 13, 14, 15, 16, 17, 18,\n",
       "        19, 27, 28, 40, 42, 43, 44]),)"
      ]
     },
     "execution_count": 31,
     "metadata": {},
     "output_type": "execute_result"
    }
   ],
   "source": [
    "np.where(ip > (ip.mean() + 0.3 * ip.std()))"
   ]
  },
  {
   "cell_type": "code",
   "execution_count": 28,
   "metadata": {},
   "outputs": [
    {
     "data": {
      "text/plain": [
       "array([0.02629452, 0.02578387, 0.03451336, 0.03106555, 0.0366341 ,\n",
       "       0.03587256, 0.03631539, 0.03675893, 0.03064472, 0.03111556,\n",
       "       0.03201555, 0.0316537 , 0.03407201, 0.03598392, 0.03585484,\n",
       "       0.03363267, 0.03374397, 0.02898736, 0.02651296, 0.02588299,\n",
       "       0.03377126, 0.02563835, 0.02543598, 0.0267511 ])"
      ]
     },
     "execution_count": 28,
     "metadata": {},
     "output_type": "execute_result"
    }
   ],
   "source": [
    "ip[ip > ip.mean() + 0.3 * ip.std()]"
   ]
  },
  {
   "cell_type": "code",
   "execution_count": 51,
   "metadata": {},
   "outputs": [
    {
     "data": {
      "text/plain": [
       "24"
      ]
     },
     "execution_count": 51,
     "metadata": {},
     "output_type": "execute_result"
    }
   ],
   "source": [
    "len(data.columns.drop(['wnvbinary', 'yrweeks', 'yrwksfid', 'yr_hexid', 'year'])[np.where(ip > (ip.mean() + 0.3 * ip.std()))[0]])"
   ]
  },
  {
   "cell_type": "code",
   "execution_count": 16,
   "metadata": {},
   "outputs": [],
   "source": [
    "model_1_second = pickle.load(open('/home/guangya/Downloads/RF_model_CV_final_11-27', 'rb'))"
   ]
  },
  {
   "cell_type": "code",
   "execution_count": 13,
   "metadata": {},
   "outputs": [
    {
     "ename": "NameError",
     "evalue": "name 'model_1_second' is not defined",
     "output_type": "error",
     "traceback": [
      "\u001b[0;31m---------------------------------------------------------------------------\u001b[0m",
      "\u001b[0;31mNameError\u001b[0m                                 Traceback (most recent call last)",
      "\u001b[0;32m<ipython-input-13-c18b1db493a8>\u001b[0m in \u001b[0;36m<module>\u001b[0;34m\u001b[0m\n\u001b[0;32m----> 1\u001b[0;31m \u001b[0mip\u001b[0m \u001b[0;34m=\u001b[0m \u001b[0mmodel_1_second\u001b[0m\u001b[0;34m.\u001b[0m\u001b[0mbest_estimator_\u001b[0m\u001b[0;34m.\u001b[0m\u001b[0mfeature_importances_\u001b[0m\u001b[0;34m\u001b[0m\u001b[0;34m\u001b[0m\u001b[0m\n\u001b[0m",
      "\u001b[0;31mNameError\u001b[0m: name 'model_1_second' is not defined"
     ]
    }
   ],
   "source": [
    "ip = model_1_second.best_estimator_.feature_importances_"
   ]
  },
  {
   "cell_type": "code",
   "execution_count": 19,
   "metadata": {},
   "outputs": [
    {
     "data": {
      "text/plain": [
       "-0.006766511383922191"
      ]
     },
     "execution_count": 19,
     "metadata": {},
     "output_type": "execute_result"
    }
   ],
   "source": [
    "model_1_second.best_score_"
   ]
  },
  {
   "cell_type": "code",
   "execution_count": 17,
   "metadata": {},
   "outputs": [
    {
     "data": {
      "text/plain": [
       "-0.006766511383922191"
      ]
     },
     "execution_count": 17,
     "metadata": {},
     "output_type": "execute_result"
    }
   ],
   "source": [
    "model_1_second.best_score_ # This one is not correct compared to the procedure"
   ]
  },
  {
   "cell_type": "code",
   "execution_count": 40,
   "metadata": {},
   "outputs": [],
   "source": [
    "model_2_max = pickle.load(open('/home/guangya/Downloads/RF_model_CV_final_1_22_2020', 'rb'))"
   ]
  },
  {
   "cell_type": "code",
   "execution_count": 41,
   "metadata": {},
   "outputs": [
    {
     "data": {
      "text/plain": [
       "44"
      ]
     },
     "execution_count": 41,
     "metadata": {},
     "output_type": "execute_result"
    }
   ],
   "source": [
    "len(model_2_max.best_estimator_.feature_importances_)"
   ]
  },
  {
   "cell_type": "code",
   "execution_count": 45,
   "metadata": {},
   "outputs": [
    {
     "data": {
      "text/plain": [
       "Index(['Input_FID', 'tempc', 'preci', 'yr', 'weeks', 'templag1', 'templag2',\n",
       "       'templag3', 'templag4', 'precilag1', 'precilag2', 'precilag3',\n",
       "       'precilag4', 'wnvbinary', 'mirmean', 'mirlag1', 'mirlag2', 'mirlag3',\n",
       "       'mirlag4', 'totpop', 'whitepct', 'blackpct', 'asianpct', 'hispanicpct',\n",
       "       'Income', 'owpct', 'dospct', 'dlipct', 'dmipct', 'dhipct', 'blpct',\n",
       "       'dfpct', 'efpct', 'mfpct', 'shrubpct', 'glandpct', 'pasturepct',\n",
       "       'ccpct', 'wwpct', 'ehwpct', 'Jantemp', 'hpctpreww', 'hpctpostww',\n",
       "       'hpct7089', 'hpctpost90'],\n",
       "      dtype='object')"
      ]
     },
     "execution_count": 45,
     "metadata": {},
     "output_type": "execute_result"
    }
   ],
   "source": [
    "data.drop(columns=['yrweeks', 'yrwksfid', 'yr_hexid', 'year', 'income1','hexid','PopYesNo']).columns"
   ]
  },
  {
   "cell_type": "code",
   "execution_count": 46,
   "metadata": {},
   "outputs": [
    {
     "data": {
      "text/plain": [
       "array([3.07241599e-02, 3.52793670e-02, 2.94239579e-02, 5.00553478e-03,\n",
       "       2.82801749e-03, 3.51095252e-02, 3.29032586e-02, 3.83755095e-02,\n",
       "       5.08218018e-02, 2.94324019e-02, 3.75500606e-02, 3.57218602e-02,\n",
       "       2.96077186e-02, 4.07439804e-02, 3.56989002e-02, 3.20231265e-02,\n",
       "       3.27193058e-02, 3.40802896e-02, 3.60028692e-02, 2.69190838e-02,\n",
       "       2.33178343e-02, 2.38853294e-02, 2.18819014e-02, 3.08823448e-02,\n",
       "       9.42384096e-04, 1.91792734e-02, 4.45308560e-02, 2.61562798e-02,\n",
       "       2.46767768e-02, 6.44415056e-04, 1.94232453e-03, 0.00000000e+00,\n",
       "       1.50658312e-03, 9.04898781e-04, 5.25417520e-04, 9.23886820e-06,\n",
       "       7.60867399e-04, 1.64773354e-03, 0.00000000e+00, 3.39752008e-02,\n",
       "       3.16871500e-02, 2.84675276e-02, 2.53574278e-02, 2.61475059e-02])"
      ]
     },
     "execution_count": 46,
     "metadata": {},
     "output_type": "execute_result"
    }
   ],
   "source": [
    "model_2_max.best_estimator_.feature_importances_"
   ]
  },
  {
   "cell_type": "code",
   "execution_count": 39,
   "metadata": {},
   "outputs": [
    {
     "data": {
      "text/plain": [
       "array([3.07241599e-02, 3.52793670e-02, 2.94239579e-02, 5.00553478e-03,\n",
       "       2.82801749e-03, 3.51095252e-02, 3.29032586e-02, 3.83755095e-02,\n",
       "       5.08218018e-02, 2.94324019e-02, 3.75500606e-02, 3.57218602e-02,\n",
       "       2.96077186e-02, 4.07439804e-02, 3.56989002e-02, 3.20231265e-02,\n",
       "       3.27193058e-02, 3.40802896e-02, 3.60028692e-02, 2.69190838e-02,\n",
       "       2.33178343e-02, 2.38853294e-02, 2.18819014e-02, 3.08823448e-02,\n",
       "       9.42384096e-04, 1.91792734e-02, 4.45308560e-02, 2.61562798e-02,\n",
       "       2.46767768e-02, 6.44415056e-04, 1.94232453e-03, 0.00000000e+00,\n",
       "       1.50658312e-03, 9.04898781e-04, 5.25417520e-04, 9.23886820e-06,\n",
       "       7.60867399e-04, 1.64773354e-03, 0.00000000e+00, 3.39752008e-02,\n",
       "       3.16871500e-02, 2.84675276e-02, 2.53574278e-02, 2.61475059e-02])"
      ]
     },
     "execution_count": 39,
     "metadata": {},
     "output_type": "execute_result"
    }
   ],
   "source": [
    "model_2_max.best_estimator_.feature_importances_"
   ]
  },
  {
   "cell_type": "code",
   "execution_count": 47,
   "metadata": {},
   "outputs": [],
   "source": [
    "model_2_second  = pickle.load(open('/home/guangya/Downloads/RF_model_CV_final_1_30_2020', 'rb'))"
   ]
  },
  {
   "cell_type": "code",
   "execution_count": 58,
   "metadata": {},
   "outputs": [],
   "source": [
    "columns = ['tempc', 'preci', 'templag1', 'templag2', 'templag3', 'templag4',\n",
    "       'precilag1', 'precilag2', 'precilag3', 'precilag4', 'mirmean',\n",
    "       'mirlag1', 'mirlag2', 'mirlag3', 'mirlag4', 'totpop', 'whitepct',\n",
    "       'blackpct', 'asianpct', 'Income', 'dlipct', 'dmipct', 'dhipct',\n",
    "       'Jantemp', 'hpctpreww', 'hpctpostww', 'hpct7089', 'hpctpost90']"
   ]
  },
  {
   "cell_type": "code",
   "execution_count": 56,
   "metadata": {},
   "outputs": [],
   "source": [
    "ip_22 = model_2_second.best_estimator_.feature_importances_"
   ]
  },
  {
   "cell_type": "code",
   "execution_count": 68,
   "metadata": {},
   "outputs": [
    {
     "data": {
      "text/plain": [
       "array(['templag3', 'templag4', 'precilag2', 'mirmean', 'mirlag1',\n",
       "       'totpop', 'dlipct'], dtype='<U10')"
      ]
     },
     "execution_count": 68,
     "metadata": {},
     "output_type": "execute_result"
    }
   ],
   "source": [
    "np.array(columns)[np.where(ip_22 > (ip_22.mean() + 0.3 * ip_22.std()))[0]]"
   ]
  },
  {
   "cell_type": "code",
   "execution_count": 67,
   "metadata": {},
   "outputs": [
    {
     "data": {
      "text/plain": [
       "array(['preci', 'templag2'], dtype='<U10')"
      ]
     },
     "execution_count": 67,
     "metadata": {},
     "output_type": "execute_result"
    }
   ],
   "source": [
    "np.array(columns)[[1,3]]"
   ]
  },
  {
   "cell_type": "code",
   "execution_count": 55,
   "metadata": {},
   "outputs": [],
   "source": [
    "model_2_cum = pickle.load(open('/home/guangya/Downloads/RF_agg_model_CV_final_1_22_2020', 'rb'))"
   ]
  },
  {
   "cell_type": "code",
   "execution_count": 35,
   "metadata": {},
   "outputs": [
    {
     "data": {
      "text/plain": [
       "-0.012665445530163447"
      ]
     },
     "execution_count": 35,
     "metadata": {},
     "output_type": "execute_result"
    }
   ],
   "source": [
    "model_2_cum.best_score_"
   ]
  },
  {
   "cell_type": "code",
   "execution_count": 3,
   "metadata": {},
   "outputs": [],
   "source": [
    "x_selected = data[data.drop(columns=['wnvbinary','yrweeks','yrwksfid','yr_hexid','year']).columns[[7,8,9,10,15,16,17,20]]].values\n",
    "y = data['wnvbinary'].values \n",
    "y_selected = y"
   ]
  },
  {
   "cell_type": "code",
   "execution_count": 4,
   "metadata": {},
   "outputs": [],
   "source": [
    "def model_RF_test(model_RF, dataX, dataY):\n",
    "    print(\"Model performance\")\n",
    "    predict_data = model_RF.predict_proba(dataX)\n",
    "    \n",
    "    # Some stats\n",
    "    print(\"Feature Importantce : \")\n",
    "    print(model_RF.feature_importances_)\n",
    "    print(\"Total number of WNV occurence in test set : \" + str(len(dataY[dataY > 0])))\n",
    "    \n",
    "    print(\"Number of WNV occurence the model is able to capture in test set:\" + str(dataY[np.where(predict_data[:,1]  > 0)].sum()))\n",
    "    \n",
    "    print(\"Expected number of WNV occurence of models aussume prediction is normally distributed : \" + str(predict_data[:,1].mean() * len(predict_data)))\n",
    "    print(\"Log loss : \" + str(log_loss(dataY,predict_data)))\n",
    "    \n",
    "    print(\"This is to test the performance of random forest model, ideally, the logloss is low and also it is able to capture most of the WNV occurence, and also it is neither over predicting\" +  \n",
    "          \"nor under predicting\")\n",
    "    print(\"AUC : \" + str( roc_auc_score(dataY,predict_data[:,1])))\n",
    "    \n",
    "    return None # Check how many wnv it predicts"
   ]
  },
  {
   "cell_type": "code",
   "execution_count": null,
   "metadata": {},
   "outputs": [],
   "source": []
  },
  {
   "cell_type": "code",
   "execution_count": null,
   "metadata": {},
   "outputs": [],
   "source": []
  },
  {
   "cell_type": "code",
   "execution_count": null,
   "metadata": {},
   "outputs": [],
   "source": []
  },
  {
   "cell_type": "code",
   "execution_count": null,
   "metadata": {},
   "outputs": [],
   "source": []
  },
  {
   "cell_type": "code",
   "execution_count": 69,
   "metadata": {},
   "outputs": [
    {
     "name": "stdout",
     "output_type": "stream",
     "text": [
      "Data read in: 9.202957153320312e-05\n",
      "data split: 3.3865740299224854\n",
      "Classifier established: 3.3894569873809814\n"
     ]
    },
    {
     "ename": "KeyboardInterrupt",
     "evalue": "",
     "output_type": "error",
     "traceback": [
      "\u001b[0;31m---------------------------------------------------------------------------\u001b[0m",
      "\u001b[0;31mKeyboardInterrupt\u001b[0m                         Traceback (most recent call last)",
      "\u001b[0;32m<ipython-input-69-1f14058a0659>\u001b[0m in \u001b[0;36m<module>\u001b[0;34m\u001b[0m\n\u001b[1;32m     41\u001b[0m \u001b[0;34m\u001b[0m\u001b[0m\n\u001b[1;32m     42\u001b[0m \u001b[0;34m\u001b[0m\u001b[0m\n\u001b[0;32m---> 43\u001b[0;31m \u001b[0mmodel_RF_best_2\u001b[0m\u001b[0;34m.\u001b[0m\u001b[0mfit\u001b[0m\u001b[0;34m(\u001b[0m\u001b[0mtrainX_sel\u001b[0m\u001b[0;34m,\u001b[0m \u001b[0mtrainY_sel\u001b[0m\u001b[0;34m)\u001b[0m\u001b[0;34m\u001b[0m\u001b[0;34m\u001b[0m\u001b[0m\n\u001b[0m\u001b[1;32m     44\u001b[0m \u001b[0mprint\u001b[0m\u001b[0;34m(\u001b[0m\u001b[0;34m\"model fit:\"\u001b[0m\u001b[0;34m,\u001b[0m \u001b[0mtime\u001b[0m\u001b[0;34m.\u001b[0m\u001b[0mtime\u001b[0m\u001b[0;34m(\u001b[0m\u001b[0;34m)\u001b[0m \u001b[0;34m-\u001b[0m \u001b[0mtime_start\u001b[0m\u001b[0;34m)\u001b[0m\u001b[0;34m\u001b[0m\u001b[0;34m\u001b[0m\u001b[0m\n\u001b[1;32m     45\u001b[0m \u001b[0;34m\u001b[0m\u001b[0m\n",
      "\u001b[0;32m~/anaconda3/lib/python3.7/site-packages/sklearn/ensemble/forest.py\u001b[0m in \u001b[0;36mfit\u001b[0;34m(self, X, y, sample_weight)\u001b[0m\n\u001b[1;32m    328\u001b[0m                     \u001b[0mt\u001b[0m\u001b[0;34m,\u001b[0m \u001b[0mself\u001b[0m\u001b[0;34m,\u001b[0m \u001b[0mX\u001b[0m\u001b[0;34m,\u001b[0m \u001b[0my\u001b[0m\u001b[0;34m,\u001b[0m \u001b[0msample_weight\u001b[0m\u001b[0;34m,\u001b[0m \u001b[0mi\u001b[0m\u001b[0;34m,\u001b[0m \u001b[0mlen\u001b[0m\u001b[0;34m(\u001b[0m\u001b[0mtrees\u001b[0m\u001b[0;34m)\u001b[0m\u001b[0;34m,\u001b[0m\u001b[0;34m\u001b[0m\u001b[0;34m\u001b[0m\u001b[0m\n\u001b[1;32m    329\u001b[0m                     verbose=self.verbose, class_weight=self.class_weight)\n\u001b[0;32m--> 330\u001b[0;31m                 for i, t in enumerate(trees))\n\u001b[0m\u001b[1;32m    331\u001b[0m \u001b[0;34m\u001b[0m\u001b[0m\n\u001b[1;32m    332\u001b[0m             \u001b[0;31m# Collect newly grown trees\u001b[0m\u001b[0;34m\u001b[0m\u001b[0;34m\u001b[0m\u001b[0;34m\u001b[0m\u001b[0m\n",
      "\u001b[0;32m~/anaconda3/lib/python3.7/site-packages/joblib/parallel.py\u001b[0m in \u001b[0;36m__call__\u001b[0;34m(self, iterable)\u001b[0m\n\u001b[1;32m    932\u001b[0m \u001b[0;34m\u001b[0m\u001b[0m\n\u001b[1;32m    933\u001b[0m             \u001b[0;32mwith\u001b[0m \u001b[0mself\u001b[0m\u001b[0;34m.\u001b[0m\u001b[0m_backend\u001b[0m\u001b[0;34m.\u001b[0m\u001b[0mretrieval_context\u001b[0m\u001b[0;34m(\u001b[0m\u001b[0;34m)\u001b[0m\u001b[0;34m:\u001b[0m\u001b[0;34m\u001b[0m\u001b[0;34m\u001b[0m\u001b[0m\n\u001b[0;32m--> 934\u001b[0;31m                 \u001b[0mself\u001b[0m\u001b[0;34m.\u001b[0m\u001b[0mretrieve\u001b[0m\u001b[0;34m(\u001b[0m\u001b[0;34m)\u001b[0m\u001b[0;34m\u001b[0m\u001b[0;34m\u001b[0m\u001b[0m\n\u001b[0m\u001b[1;32m    935\u001b[0m             \u001b[0;31m# Make sure that we get a last message telling us we are done\u001b[0m\u001b[0;34m\u001b[0m\u001b[0;34m\u001b[0m\u001b[0;34m\u001b[0m\u001b[0m\n\u001b[1;32m    936\u001b[0m             \u001b[0melapsed_time\u001b[0m \u001b[0;34m=\u001b[0m \u001b[0mtime\u001b[0m\u001b[0;34m.\u001b[0m\u001b[0mtime\u001b[0m\u001b[0;34m(\u001b[0m\u001b[0;34m)\u001b[0m \u001b[0;34m-\u001b[0m \u001b[0mself\u001b[0m\u001b[0;34m.\u001b[0m\u001b[0m_start_time\u001b[0m\u001b[0;34m\u001b[0m\u001b[0;34m\u001b[0m\u001b[0m\n",
      "\u001b[0;32m~/anaconda3/lib/python3.7/site-packages/joblib/parallel.py\u001b[0m in \u001b[0;36mretrieve\u001b[0;34m(self)\u001b[0m\n\u001b[1;32m    831\u001b[0m             \u001b[0;32mtry\u001b[0m\u001b[0;34m:\u001b[0m\u001b[0;34m\u001b[0m\u001b[0;34m\u001b[0m\u001b[0m\n\u001b[1;32m    832\u001b[0m                 \u001b[0;32mif\u001b[0m \u001b[0mgetattr\u001b[0m\u001b[0;34m(\u001b[0m\u001b[0mself\u001b[0m\u001b[0;34m.\u001b[0m\u001b[0m_backend\u001b[0m\u001b[0;34m,\u001b[0m \u001b[0;34m'supports_timeout'\u001b[0m\u001b[0;34m,\u001b[0m \u001b[0;32mFalse\u001b[0m\u001b[0;34m)\u001b[0m\u001b[0;34m:\u001b[0m\u001b[0;34m\u001b[0m\u001b[0;34m\u001b[0m\u001b[0m\n\u001b[0;32m--> 833\u001b[0;31m                     \u001b[0mself\u001b[0m\u001b[0;34m.\u001b[0m\u001b[0m_output\u001b[0m\u001b[0;34m.\u001b[0m\u001b[0mextend\u001b[0m\u001b[0;34m(\u001b[0m\u001b[0mjob\u001b[0m\u001b[0;34m.\u001b[0m\u001b[0mget\u001b[0m\u001b[0;34m(\u001b[0m\u001b[0mtimeout\u001b[0m\u001b[0;34m=\u001b[0m\u001b[0mself\u001b[0m\u001b[0;34m.\u001b[0m\u001b[0mtimeout\u001b[0m\u001b[0;34m)\u001b[0m\u001b[0;34m)\u001b[0m\u001b[0;34m\u001b[0m\u001b[0;34m\u001b[0m\u001b[0m\n\u001b[0m\u001b[1;32m    834\u001b[0m                 \u001b[0;32melse\u001b[0m\u001b[0;34m:\u001b[0m\u001b[0;34m\u001b[0m\u001b[0;34m\u001b[0m\u001b[0m\n\u001b[1;32m    835\u001b[0m                     \u001b[0mself\u001b[0m\u001b[0;34m.\u001b[0m\u001b[0m_output\u001b[0m\u001b[0;34m.\u001b[0m\u001b[0mextend\u001b[0m\u001b[0;34m(\u001b[0m\u001b[0mjob\u001b[0m\u001b[0;34m.\u001b[0m\u001b[0mget\u001b[0m\u001b[0;34m(\u001b[0m\u001b[0;34m)\u001b[0m\u001b[0;34m)\u001b[0m\u001b[0;34m\u001b[0m\u001b[0;34m\u001b[0m\u001b[0m\n",
      "\u001b[0;32m~/anaconda3/lib/python3.7/multiprocessing/pool.py\u001b[0m in \u001b[0;36mget\u001b[0;34m(self, timeout)\u001b[0m\n\u001b[1;32m    649\u001b[0m \u001b[0;34m\u001b[0m\u001b[0m\n\u001b[1;32m    650\u001b[0m     \u001b[0;32mdef\u001b[0m \u001b[0mget\u001b[0m\u001b[0;34m(\u001b[0m\u001b[0mself\u001b[0m\u001b[0;34m,\u001b[0m \u001b[0mtimeout\u001b[0m\u001b[0;34m=\u001b[0m\u001b[0;32mNone\u001b[0m\u001b[0;34m)\u001b[0m\u001b[0;34m:\u001b[0m\u001b[0;34m\u001b[0m\u001b[0;34m\u001b[0m\u001b[0m\n\u001b[0;32m--> 651\u001b[0;31m         \u001b[0mself\u001b[0m\u001b[0;34m.\u001b[0m\u001b[0mwait\u001b[0m\u001b[0;34m(\u001b[0m\u001b[0mtimeout\u001b[0m\u001b[0;34m)\u001b[0m\u001b[0;34m\u001b[0m\u001b[0;34m\u001b[0m\u001b[0m\n\u001b[0m\u001b[1;32m    652\u001b[0m         \u001b[0;32mif\u001b[0m \u001b[0;32mnot\u001b[0m \u001b[0mself\u001b[0m\u001b[0;34m.\u001b[0m\u001b[0mready\u001b[0m\u001b[0;34m(\u001b[0m\u001b[0;34m)\u001b[0m\u001b[0;34m:\u001b[0m\u001b[0;34m\u001b[0m\u001b[0;34m\u001b[0m\u001b[0m\n\u001b[1;32m    653\u001b[0m             \u001b[0;32mraise\u001b[0m \u001b[0mTimeoutError\u001b[0m\u001b[0;34m\u001b[0m\u001b[0;34m\u001b[0m\u001b[0m\n",
      "\u001b[0;32m~/anaconda3/lib/python3.7/multiprocessing/pool.py\u001b[0m in \u001b[0;36mwait\u001b[0;34m(self, timeout)\u001b[0m\n\u001b[1;32m    646\u001b[0m \u001b[0;34m\u001b[0m\u001b[0m\n\u001b[1;32m    647\u001b[0m     \u001b[0;32mdef\u001b[0m \u001b[0mwait\u001b[0m\u001b[0;34m(\u001b[0m\u001b[0mself\u001b[0m\u001b[0;34m,\u001b[0m \u001b[0mtimeout\u001b[0m\u001b[0;34m=\u001b[0m\u001b[0;32mNone\u001b[0m\u001b[0;34m)\u001b[0m\u001b[0;34m:\u001b[0m\u001b[0;34m\u001b[0m\u001b[0;34m\u001b[0m\u001b[0m\n\u001b[0;32m--> 648\u001b[0;31m         \u001b[0mself\u001b[0m\u001b[0;34m.\u001b[0m\u001b[0m_event\u001b[0m\u001b[0;34m.\u001b[0m\u001b[0mwait\u001b[0m\u001b[0;34m(\u001b[0m\u001b[0mtimeout\u001b[0m\u001b[0;34m)\u001b[0m\u001b[0;34m\u001b[0m\u001b[0;34m\u001b[0m\u001b[0m\n\u001b[0m\u001b[1;32m    649\u001b[0m \u001b[0;34m\u001b[0m\u001b[0m\n\u001b[1;32m    650\u001b[0m     \u001b[0;32mdef\u001b[0m \u001b[0mget\u001b[0m\u001b[0;34m(\u001b[0m\u001b[0mself\u001b[0m\u001b[0;34m,\u001b[0m \u001b[0mtimeout\u001b[0m\u001b[0;34m=\u001b[0m\u001b[0;32mNone\u001b[0m\u001b[0;34m)\u001b[0m\u001b[0;34m:\u001b[0m\u001b[0;34m\u001b[0m\u001b[0;34m\u001b[0m\u001b[0m\n",
      "\u001b[0;32m~/anaconda3/lib/python3.7/threading.py\u001b[0m in \u001b[0;36mwait\u001b[0;34m(self, timeout)\u001b[0m\n\u001b[1;32m    550\u001b[0m             \u001b[0msignaled\u001b[0m \u001b[0;34m=\u001b[0m \u001b[0mself\u001b[0m\u001b[0;34m.\u001b[0m\u001b[0m_flag\u001b[0m\u001b[0;34m\u001b[0m\u001b[0;34m\u001b[0m\u001b[0m\n\u001b[1;32m    551\u001b[0m             \u001b[0;32mif\u001b[0m \u001b[0;32mnot\u001b[0m \u001b[0msignaled\u001b[0m\u001b[0;34m:\u001b[0m\u001b[0;34m\u001b[0m\u001b[0;34m\u001b[0m\u001b[0m\n\u001b[0;32m--> 552\u001b[0;31m                 \u001b[0msignaled\u001b[0m \u001b[0;34m=\u001b[0m \u001b[0mself\u001b[0m\u001b[0;34m.\u001b[0m\u001b[0m_cond\u001b[0m\u001b[0;34m.\u001b[0m\u001b[0mwait\u001b[0m\u001b[0;34m(\u001b[0m\u001b[0mtimeout\u001b[0m\u001b[0;34m)\u001b[0m\u001b[0;34m\u001b[0m\u001b[0;34m\u001b[0m\u001b[0m\n\u001b[0m\u001b[1;32m    553\u001b[0m             \u001b[0;32mreturn\u001b[0m \u001b[0msignaled\u001b[0m\u001b[0;34m\u001b[0m\u001b[0;34m\u001b[0m\u001b[0m\n\u001b[1;32m    554\u001b[0m \u001b[0;34m\u001b[0m\u001b[0m\n",
      "\u001b[0;32m~/anaconda3/lib/python3.7/threading.py\u001b[0m in \u001b[0;36mwait\u001b[0;34m(self, timeout)\u001b[0m\n\u001b[1;32m    294\u001b[0m         \u001b[0;32mtry\u001b[0m\u001b[0;34m:\u001b[0m    \u001b[0;31m# restore state no matter what (e.g., KeyboardInterrupt)\u001b[0m\u001b[0;34m\u001b[0m\u001b[0;34m\u001b[0m\u001b[0m\n\u001b[1;32m    295\u001b[0m             \u001b[0;32mif\u001b[0m \u001b[0mtimeout\u001b[0m \u001b[0;32mis\u001b[0m \u001b[0;32mNone\u001b[0m\u001b[0;34m:\u001b[0m\u001b[0;34m\u001b[0m\u001b[0;34m\u001b[0m\u001b[0m\n\u001b[0;32m--> 296\u001b[0;31m                 \u001b[0mwaiter\u001b[0m\u001b[0;34m.\u001b[0m\u001b[0macquire\u001b[0m\u001b[0;34m(\u001b[0m\u001b[0;34m)\u001b[0m\u001b[0;34m\u001b[0m\u001b[0;34m\u001b[0m\u001b[0m\n\u001b[0m\u001b[1;32m    297\u001b[0m                 \u001b[0mgotit\u001b[0m \u001b[0;34m=\u001b[0m \u001b[0;32mTrue\u001b[0m\u001b[0;34m\u001b[0m\u001b[0;34m\u001b[0m\u001b[0m\n\u001b[1;32m    298\u001b[0m             \u001b[0;32melse\u001b[0m\u001b[0;34m:\u001b[0m\u001b[0;34m\u001b[0m\u001b[0;34m\u001b[0m\u001b[0m\n",
      "\u001b[0;31mKeyboardInterrupt\u001b[0m: "
     ]
    }
   ],
   "source": [
    "import numpy as np\n",
    "import time\n",
    "import pandas as pd\n",
    "from sklearn.ensemble import RandomForestClassifier\n",
    "from sklearn.model_selection import GridSearchCV, train_test_split\n",
    "from sklearn.metrics import log_loss\n",
    "import pickle\n",
    "from sklearn.utils import class_weight\n",
    "\n",
    "\"\"\"\n",
    "This code fits the Random Forest model. Cross validation is preformed in another\n",
    "script.\n",
    "\"\"\"\n",
    "\n",
    "time_start = time.time()\n",
    "# data = pd.read_sas('/home/shared/cprhd/DATA_CPRHD_SES/wnv_2245new.sas7bdat')  # In the Cook_Dupage Directory\n",
    "print(\"Data read in:\", time.time() - time_start)\n",
    "\n",
    "x = data.drop(columns=['yrweeks', 'yrwksfid', 'yr_hexid', 'year', 'income1','hexid','PopYesNo'])\n",
    "\n",
    "\n",
    "columns = ['tempc', 'preci', 'templag1', 'templag2',\n",
    "       'templag3', 'templag4', 'precilag1', 'precilag2', 'precilag3',\n",
    "       'precilag4', 'mirmean', 'mirlag1', 'mirlag2', 'mirlag3', 'mirlag4',\n",
    "       'totpop', 'dlipct', 'dmipct', 'Jantemp', 'hpctpreww', 'hpctpostww',\n",
    "       'hpct7089']\n",
    "x_selected = x[columns].values\n",
    "y_selected = x['wnvbinary'].values\n",
    "\n",
    "trainX_sel, testX_sel, trainY_sel, testY_sel = train_test_split(x_selected, y_selected, test_size=0.2, random_state=1) # CV\n",
    "print(\"data split:\", time.time() - time_start)\n",
    "\n",
    "model_RF_best_2 = RandomForestClassifier(n_estimators=1300,\n",
    "                                         n_jobs=-1,\n",
    "                                         max_depth=60,\n",
    "                                         min_samples_leaf = 15,\n",
    "                                         bootstrap=True)\n",
    "                                            \n",
    "print(\"Classifier established:\", time.time() - time_start)\n",
    "\n",
    "\n",
    "\n",
    "model_RF_best_2.fit(trainX_sel, trainY_sel)\n",
    "print(\"model fit:\", time.time() - time_start)\n",
    "\n",
    "pickle.dump(model_RF_best_2, open('/home/jallen17/CPRHD_SES/RF_model_1_2_fit', 'wb'))\n",
    "print(\"Fitting complete. Model saved as RF_model_fit\")"
   ]
  },
  {
   "cell_type": "code",
   "execution_count": 5,
   "metadata": {},
   "outputs": [],
   "source": [
    "trainX_sel, testX_sel, trainY_sel, testY_sel = train_test_split(x_selected, y_selected, test_size = 0.2, shuffle = True) # CV"
   ]
  }
 ],
 "metadata": {
  "kernelspec": {
   "display_name": "Python 3",
   "language": "python",
   "name": "python3"
  },
  "language_info": {
   "codemirror_mode": {
    "name": "ipython",
    "version": 3
   },
   "file_extension": ".py",
   "mimetype": "text/x-python",
   "name": "python",
   "nbconvert_exporter": "python",
   "pygments_lexer": "ipython3",
   "version": "3.7.2"
  }
 },
 "nbformat": 4,
 "nbformat_minor": 2
}
