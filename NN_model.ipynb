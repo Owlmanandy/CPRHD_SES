{
 "cells": [
  {
   "cell_type": "code",
   "execution_count": 2,
   "metadata": {},
   "outputs": [
    {
     "name": "stderr",
     "output_type": "stream",
     "text": [
      "Using TensorFlow backend.\n"
     ]
    }
   ],
   "source": [
    "import numpy as np\n",
    "import keras\n",
    "from matplotlib import pyplot as plt\n",
    "from keras.models import Sequential\n",
    "from sklearn.model_selection import train_test_split\n",
    "from keras.layers import Dense, Dropout"
   ]
  },
  {
   "cell_type": "code",
   "execution_count": 5,
   "metadata": {},
   "outputs": [],
   "source": [
    "data = np.loadtxt(\"data.txt\")"
   ]
  },
  {
   "cell_type": "code",
   "execution_count": 6,
   "metadata": {},
   "outputs": [
    {
     "data": {
      "text/plain": [
       "(7556, 181)"
      ]
     },
     "execution_count": 6,
     "metadata": {},
     "output_type": "execute_result"
    }
   ],
   "source": [
    "data.shape"
   ]
  },
  {
   "cell_type": "code",
   "execution_count": 7,
   "metadata": {},
   "outputs": [],
   "source": [
    "# generate training set and test set\n",
    "\n",
    "dataX = data[:,0:-1]\n",
    "dataY = data[:,-1]"
   ]
  },
  {
   "cell_type": "code",
   "execution_count": 8,
   "metadata": {},
   "outputs": [],
   "source": [
    "trainX, testX, trainY, testY = train_test_split(dataX, dataY, test_size = 0.33, shuffle = True)"
   ]
  },
  {
   "cell_type": "code",
   "execution_count": 18,
   "metadata": {
    "scrolled": true
   },
   "outputs": [
    {
     "name": "stdout",
     "output_type": "stream",
     "text": [
      "Train on 5062 samples, validate on 2494 samples\n",
      "Epoch 1/100\n",
      "5062/5062 [==============================] - 2s 493us/step - loss: 247.7998 - val_loss: 267.9251\n",
      "Epoch 2/100\n",
      "5062/5062 [==============================] - 1s 179us/step - loss: 237.3580 - val_loss: 261.5666\n",
      "Epoch 3/100\n",
      "5062/5062 [==============================] - 1s 182us/step - loss: 232.2062 - val_loss: 262.2710\n",
      "Epoch 4/100\n",
      "5062/5062 [==============================] - 1s 180us/step - loss: 232.3206 - val_loss: 260.3610\n",
      "Epoch 5/100\n",
      "5062/5062 [==============================] - 1s 188us/step - loss: 234.3109 - val_loss: 258.6633\n",
      "Epoch 6/100\n",
      "5062/5062 [==============================] - 1s 180us/step - loss: 231.1973 - val_loss: 256.1472\n",
      "Epoch 7/100\n",
      "5062/5062 [==============================] - 1s 185us/step - loss: 230.8557 - val_loss: 260.5133\n",
      "Epoch 8/100\n",
      "5062/5062 [==============================] - 1s 181us/step - loss: 228.9567 - val_loss: 259.5805\n",
      "Epoch 9/100\n",
      "5062/5062 [==============================] - 1s 194us/step - loss: 228.5645 - val_loss: 258.8521\n",
      "Epoch 10/100\n",
      "5062/5062 [==============================] - 1s 216us/step - loss: 228.1063 - val_loss: 254.4636\n",
      "Epoch 11/100\n",
      "5062/5062 [==============================] - 1s 185us/step - loss: 227.8824 - val_loss: 254.7124\n",
      "Epoch 12/100\n",
      "5062/5062 [==============================] - 1s 196us/step - loss: 227.7350 - val_loss: 260.2522\n",
      "Epoch 13/100\n",
      "5062/5062 [==============================] - 1s 184us/step - loss: 225.6329 - val_loss: 255.5346\n",
      "Epoch 14/100\n",
      "5062/5062 [==============================] - 1s 187us/step - loss: 227.4325 - val_loss: 252.9421\n",
      "Epoch 15/100\n",
      "5062/5062 [==============================] - 1s 182us/step - loss: 225.8871 - val_loss: 252.3723\n",
      "Epoch 16/100\n",
      "5062/5062 [==============================] - 1s 186us/step - loss: 224.6121 - val_loss: 254.6956\n",
      "Epoch 17/100\n",
      "5062/5062 [==============================] - 1s 186us/step - loss: 224.8617 - val_loss: 252.8304\n",
      "Epoch 18/100\n",
      "5062/5062 [==============================] - 1s 187us/step - loss: 223.9891 - val_loss: 255.0671\n",
      "Epoch 19/100\n",
      "5062/5062 [==============================] - 1s 216us/step - loss: 224.4423 - val_loss: 252.4378\n",
      "Epoch 20/100\n",
      "5062/5062 [==============================] - 1s 217us/step - loss: 223.9384 - val_loss: 252.1084\n",
      "Epoch 21/100\n",
      "5062/5062 [==============================] - 1s 204us/step - loss: 223.8286 - val_loss: 254.6493\n",
      "Epoch 22/100\n",
      "5062/5062 [==============================] - 1s 215us/step - loss: 224.2739 - val_loss: 252.2813\n",
      "Epoch 23/100\n",
      "5062/5062 [==============================] - 1s 209us/step - loss: 224.1122 - val_loss: 252.9025\n",
      "Epoch 24/100\n",
      "5062/5062 [==============================] - 1s 201us/step - loss: 223.2389 - val_loss: 253.3683\n",
      "Epoch 25/100\n",
      "5062/5062 [==============================] - 1s 187us/step - loss: 223.9449 - val_loss: 252.0268\n",
      "Epoch 26/100\n",
      "5062/5062 [==============================] - 1s 202us/step - loss: 222.7976 - val_loss: 253.1453\n",
      "Epoch 27/100\n",
      "5062/5062 [==============================] - 1s 209us/step - loss: 221.9195 - val_loss: 256.8498\n",
      "Epoch 28/100\n",
      "5062/5062 [==============================] - 1s 226us/step - loss: 221.6971 - val_loss: 252.0601\n",
      "Epoch 29/100\n",
      "5062/5062 [==============================] - 1s 227us/step - loss: 222.4659 - val_loss: 252.3275\n",
      "Epoch 30/100\n",
      "5062/5062 [==============================] - 1s 235us/step - loss: 221.8650 - val_loss: 260.2176\n",
      "Epoch 31/100\n",
      "5062/5062 [==============================] - 1s 224us/step - loss: 222.0039 - val_loss: 250.0373\n",
      "Epoch 32/100\n",
      "5062/5062 [==============================] - 1s 195us/step - loss: 222.2863 - val_loss: 253.2764\n",
      "Epoch 33/100\n",
      "5062/5062 [==============================] - 1s 218us/step - loss: 221.3176 - val_loss: 251.2232\n",
      "Epoch 34/100\n",
      "5062/5062 [==============================] - 1s 224us/step - loss: 220.5134 - val_loss: 254.5590\n",
      "Epoch 35/100\n",
      "5062/5062 [==============================] - 1s 221us/step - loss: 220.4767 - val_loss: 249.7503\n",
      "Epoch 36/100\n",
      "5062/5062 [==============================] - 1s 220us/step - loss: 221.9062 - val_loss: 250.7432\n",
      "Epoch 37/100\n",
      "5062/5062 [==============================] - 1s 197us/step - loss: 222.5535 - val_loss: 249.4978\n",
      "Epoch 38/100\n",
      "5062/5062 [==============================] - 1s 245us/step - loss: 220.9855 - val_loss: 255.6481\n",
      "Epoch 39/100\n",
      "5062/5062 [==============================] - 1s 224us/step - loss: 222.3190 - val_loss: 249.6529\n",
      "Epoch 40/100\n",
      "5062/5062 [==============================] - 1s 219us/step - loss: 222.0245 - val_loss: 250.4618\n",
      "Epoch 41/100\n",
      "5062/5062 [==============================] - 1s 194us/step - loss: 219.9673 - val_loss: 250.2504\n",
      "Epoch 42/100\n",
      "5062/5062 [==============================] - 1s 222us/step - loss: 219.4632 - val_loss: 250.2850\n",
      "Epoch 43/100\n",
      "5062/5062 [==============================] - 1s 198us/step - loss: 222.3654 - val_loss: 252.0365\n",
      "Epoch 44/100\n",
      "5062/5062 [==============================] - 1s 201us/step - loss: 220.6894 - val_loss: 253.5275\n",
      "Epoch 45/100\n",
      "5062/5062 [==============================] - 1s 207us/step - loss: 219.2346 - val_loss: 248.6351\n",
      "Epoch 46/100\n",
      "5062/5062 [==============================] - 1s 211us/step - loss: 219.7559 - val_loss: 252.0771\n",
      "Epoch 47/100\n",
      "5062/5062 [==============================] - 1s 199us/step - loss: 220.8593 - val_loss: 248.4481\n",
      "Epoch 48/100\n",
      "5062/5062 [==============================] - 1s 200us/step - loss: 219.8624 - val_loss: 250.8668\n",
      "Epoch 49/100\n",
      "5062/5062 [==============================] - 1s 201us/step - loss: 219.5964 - val_loss: 257.0655\n",
      "Epoch 50/100\n",
      "5062/5062 [==============================] - 1s 202us/step - loss: 218.8478 - val_loss: 248.8978\n",
      "Epoch 51/100\n",
      "5062/5062 [==============================] - 1s 201us/step - loss: 219.7167 - val_loss: 248.5453\n",
      "Epoch 52/100\n",
      "5062/5062 [==============================] - 1s 203us/step - loss: 218.4833 - val_loss: 250.6768\n",
      "Epoch 53/100\n",
      "5062/5062 [==============================] - 1s 202us/step - loss: 219.1930 - val_loss: 254.8350\n",
      "Epoch 54/100\n",
      "5062/5062 [==============================] - 1s 201us/step - loss: 218.0958 - val_loss: 248.1018\n",
      "Epoch 55/100\n",
      "5062/5062 [==============================] - 1s 202us/step - loss: 218.1489 - val_loss: 253.2790\n",
      "Epoch 56/100\n",
      "5062/5062 [==============================] - 1s 204us/step - loss: 220.8916 - val_loss: 248.3422\n",
      "Epoch 57/100\n",
      "5062/5062 [==============================] - 1s 203us/step - loss: 219.8924 - val_loss: 265.9011\n",
      "Epoch 58/100\n",
      "5062/5062 [==============================] - 1s 202us/step - loss: 219.3716 - val_loss: 252.6836\n",
      "Epoch 59/100\n",
      "5062/5062 [==============================] - 1s 203us/step - loss: 218.6606 - val_loss: 247.8816\n",
      "Epoch 60/100\n",
      "5062/5062 [==============================] - 1s 202us/step - loss: 218.4558 - val_loss: 250.6734\n",
      "Epoch 61/100\n",
      "5062/5062 [==============================] - 1s 206us/step - loss: 219.1706 - val_loss: 252.5160\n",
      "Epoch 62/100\n",
      "5062/5062 [==============================] - 1s 223us/step - loss: 218.5760 - val_loss: 252.6044\n",
      "Epoch 63/100\n",
      "5062/5062 [==============================] - 1s 209us/step - loss: 217.8503 - val_loss: 255.8154\n",
      "Epoch 64/100\n",
      "5062/5062 [==============================] - 1s 209us/step - loss: 219.8521 - val_loss: 250.3694\n",
      "Epoch 65/100\n",
      "5062/5062 [==============================] - 1s 244us/step - loss: 217.8543 - val_loss: 247.3074\n",
      "Epoch 66/100\n",
      "5062/5062 [==============================] - 1s 237us/step - loss: 218.4588 - val_loss: 250.9488\n",
      "Epoch 67/100\n",
      "5062/5062 [==============================] - 1s 231us/step - loss: 218.8601 - val_loss: 248.6595\n",
      "Epoch 68/100\n",
      "5062/5062 [==============================] - 1s 246us/step - loss: 217.6538 - val_loss: 249.0098\n",
      "Epoch 69/100\n",
      "5062/5062 [==============================] - 1s 273us/step - loss: 218.5413 - val_loss: 248.1856\n",
      "Epoch 70/100\n",
      "5062/5062 [==============================] - 1s 289us/step - loss: 218.9194 - val_loss: 254.6173\n",
      "Epoch 71/100\n",
      "5062/5062 [==============================] - 1s 279us/step - loss: 217.7320 - val_loss: 250.0239\n",
      "Epoch 72/100\n",
      "5062/5062 [==============================] - 2s 306us/step - loss: 217.7623 - val_loss: 247.3854\n",
      "Epoch 73/100\n",
      "5062/5062 [==============================] - 1s 197us/step - loss: 218.1745 - val_loss: 255.3892\n",
      "Epoch 74/100\n",
      "5062/5062 [==============================] - 1s 197us/step - loss: 217.9807 - val_loss: 249.1227\n",
      "Epoch 75/100\n"
     ]
    },
    {
     "name": "stdout",
     "output_type": "stream",
     "text": [
      "5062/5062 [==============================] - 1s 193us/step - loss: 218.4600 - val_loss: 248.3836\n",
      "Epoch 76/100\n",
      "5062/5062 [==============================] - 1s 174us/step - loss: 218.6617 - val_loss: 251.1107\n",
      "Epoch 77/100\n",
      "5062/5062 [==============================] - 1s 170us/step - loss: 218.0826 - val_loss: 253.1108\n",
      "Epoch 78/100\n",
      "5062/5062 [==============================] - 1s 167us/step - loss: 217.9989 - val_loss: 248.7579\n",
      "Epoch 79/100\n",
      "5062/5062 [==============================] - 1s 166us/step - loss: 217.7681 - val_loss: 254.0711\n",
      "Epoch 80/100\n",
      "5062/5062 [==============================] - 1s 174us/step - loss: 218.4652 - val_loss: 251.4260\n",
      "Epoch 81/100\n",
      "5062/5062 [==============================] - 1s 172us/step - loss: 218.5019 - val_loss: 247.2835\n",
      "Epoch 82/100\n",
      "5062/5062 [==============================] - 1s 183us/step - loss: 218.5148 - val_loss: 249.2132\n",
      "Epoch 83/100\n",
      "5062/5062 [==============================] - 1s 171us/step - loss: 217.3253 - val_loss: 249.1163\n",
      "Epoch 84/100\n",
      "5062/5062 [==============================] - 1s 182us/step - loss: 217.2262 - val_loss: 247.3360\n",
      "Epoch 85/100\n",
      "5062/5062 [==============================] - 1s 179us/step - loss: 217.5737 - val_loss: 249.3414\n",
      "Epoch 86/100\n",
      "5062/5062 [==============================] - 1s 207us/step - loss: 216.8350 - val_loss: 248.8292\n",
      "Epoch 87/100\n",
      "5062/5062 [==============================] - 1s 189us/step - loss: 217.0706 - val_loss: 247.7549\n",
      "Epoch 88/100\n",
      "5062/5062 [==============================] - 1s 179us/step - loss: 216.8365 - val_loss: 250.5509\n",
      "Epoch 89/100\n",
      "5062/5062 [==============================] - 1s 193us/step - loss: 217.3880 - val_loss: 249.3200\n",
      "Epoch 90/100\n",
      "5062/5062 [==============================] - 1s 197us/step - loss: 216.9922 - val_loss: 246.8547\n",
      "Epoch 91/100\n",
      "5062/5062 [==============================] - 1s 182us/step - loss: 216.2635 - val_loss: 248.6042\n",
      "Epoch 92/100\n",
      "5062/5062 [==============================] - 1s 202us/step - loss: 216.8858 - val_loss: 251.6577\n",
      "Epoch 93/100\n",
      "5062/5062 [==============================] - 1s 179us/step - loss: 216.0658 - val_loss: 248.0595\n",
      "Epoch 94/100\n",
      "5062/5062 [==============================] - 1s 189us/step - loss: 215.4846 - val_loss: 247.8841\n",
      "Epoch 95/100\n",
      "5062/5062 [==============================] - 1s 174us/step - loss: 216.4219 - val_loss: 246.6968\n",
      "Epoch 96/100\n",
      "5062/5062 [==============================] - 1s 165us/step - loss: 216.7172 - val_loss: 247.6398\n",
      "Epoch 97/100\n",
      "5062/5062 [==============================] - 1s 175us/step - loss: 215.8568 - val_loss: 249.2037\n",
      "Epoch 98/100\n",
      "5062/5062 [==============================] - 1s 166us/step - loss: 217.2814 - val_loss: 247.5056\n",
      "Epoch 99/100\n",
      "5062/5062 [==============================] - 1s 185us/step - loss: 214.8853 - val_loss: 248.0410\n",
      "Epoch 100/100\n",
      "5062/5062 [==============================] - 1s 194us/step - loss: 216.1714 - val_loss: 248.3094\n"
     ]
    }
   ],
   "source": [
    "dropout_rate = 0\n",
    "\n",
    "input_dim = trainX.shape[0]\n",
    "model = Sequential()\n",
    "model.add(Dense(32, activation = \"elu\", input_dim = 180))\n",
    "model.add(Dropout(dropout_rate))\n",
    "model.add(Dense(16, activation = \"elu\"))\n",
    "model.add(Dropout(dropout_rate))\n",
    "model.add(Dense(8, activation = \"elu\"))\n",
    "model.add(Dropout(dropout_rate))\n",
    "model.add(Dense(1, activation = \"elu\"))\n",
    "model.compile(loss = \"mean_absolute_error\", optimizer = \"adam\") \n",
    "# mean_absolute_error, mean_squared_error;\n",
    "# SGD, adam, RMSprop, Adagrad, Adadelta, Adamax, Nadam\n",
    "train_history = model.fit(x = trainX, y = trainY, \n",
    "                                    epochs = 100, batch_size = 16, \n",
    "                                    validation_data = (testX, testY))"
   ]
  },
  {
   "cell_type": "code",
   "execution_count": 15,
   "metadata": {},
   "outputs": [
    {
     "data": {
      "text/plain": [
       "0.04991243502339581"
      ]
     },
     "execution_count": 15,
     "metadata": {},
     "output_type": "execute_result"
    }
   ],
   "source": [
    "min(trainY)"
   ]
  },
  {
   "cell_type": "code",
   "execution_count": 3,
   "metadata": {},
   "outputs": [
    {
     "ename": "NameError",
     "evalue": "name 'model' is not defined",
     "output_type": "error",
     "traceback": [
      "\u001b[0;31m---------------------------------------------------------------------------\u001b[0m",
      "\u001b[0;31mNameError\u001b[0m                                 Traceback (most recent call last)",
      "\u001b[0;32m<ipython-input-3-57c3a879772c>\u001b[0m in \u001b[0;36m<module>\u001b[0;34m\u001b[0m\n\u001b[0;32m----> 1\u001b[0;31m \u001b[0mpredict_train\u001b[0m \u001b[0;34m=\u001b[0m \u001b[0mmodel\u001b[0m\u001b[0;34m.\u001b[0m\u001b[0mpredict\u001b[0m\u001b[0;34m(\u001b[0m\u001b[0mtrainX\u001b[0m\u001b[0;34m)\u001b[0m\u001b[0;34m\u001b[0m\u001b[0;34m\u001b[0m\u001b[0m\n\u001b[0m",
      "\u001b[0;31mNameError\u001b[0m: name 'model' is not defined"
     ]
    }
   ],
   "source": [
    "predict_train = model.predict(trainX)"
   ]
  },
  {
   "cell_type": "code",
   "execution_count": null,
   "metadata": {},
   "outputs": [],
   "source": [
    "predict_trainX.sha"
   ]
  },
  {
   "cell_type": "code",
   "execution_count": 112,
   "metadata": {},
   "outputs": [
    {
     "data": {
      "text/plain": [
       "array([613.42371783, 108.18828742,  40.13737483, ...,  58.00846539,\n",
       "        52.16037587, 585.49247664])"
      ]
     },
     "execution_count": 112,
     "metadata": {},
     "output_type": "execute_result"
    }
   ],
   "source": [
    "trainY"
   ]
  },
  {
   "cell_type": "code",
   "execution_count": 1,
   "metadata": {},
   "outputs": [
    {
     "ename": "NameError",
     "evalue": "name 'plt' is not defined",
     "output_type": "error",
     "traceback": [
      "\u001b[0;31m---------------------------------------------------------------------------\u001b[0m",
      "\u001b[0;31mNameError\u001b[0m                                 Traceback (most recent call last)",
      "\u001b[0;32m<ipython-input-1-0b85bb6affed>\u001b[0m in \u001b[0;36m<module>\u001b[0;34m\u001b[0m\n\u001b[0;32m----> 1\u001b[0;31m \u001b[0mplt\u001b[0m\u001b[0;34m.\u001b[0m\u001b[0mplot\u001b[0m\u001b[0;34m(\u001b[0m\u001b[0mtrainX\u001b[0m\u001b[0;34m,\u001b[0m \u001b[0mpredict_trainX\u001b[0m \u001b[0;34m)\u001b[0m\u001b[0;34m\u001b[0m\u001b[0;34m\u001b[0m\u001b[0m\n\u001b[0m",
      "\u001b[0;31mNameError\u001b[0m: name 'plt' is not defined"
     ]
    }
   ],
   "source": [
    "plt.plot(trainX, predict_trainX )"
   ]
  },
  {
   "cell_type": "code",
   "execution_count": 103,
   "metadata": {},
   "outputs": [
    {
     "name": "stdout",
     "output_type": "stream",
     "text": [
      "_________________________________________________________________\n",
      "Layer (type)                 Output Shape              Param #   \n",
      "=================================================================\n",
      "dense_5 (Dense)              (None, 16)                81008     \n",
      "_________________________________________________________________\n",
      "dropout_3 (Dropout)          (None, 16)                0         \n",
      "_________________________________________________________________\n",
      "dense_6 (Dense)              (None, 8)                 136       \n",
      "_________________________________________________________________\n",
      "dropout_4 (Dropout)          (None, 8)                 0         \n",
      "_________________________________________________________________\n",
      "dense_7 (Dense)              (None, 1)                 9         \n",
      "=================================================================\n",
      "Total params: 81,153\n",
      "Trainable params: 81,153\n",
      "Non-trainable params: 0\n",
      "_________________________________________________________________\n"
     ]
    }
   ],
   "source": [
    "model.summary()"
   ]
  },
  {
   "cell_type": "code",
   "execution_count": null,
   "metadata": {},
   "outputs": [],
   "source": [
    "def NN():\n",
    "    trainX = None\n",
    "    trainY = None\n",
    "    testX = None\n",
    "    testY = None\n",
    "    model = None\n",
    "    score = None\n",
    "    \n",
    "    def __init__ (self,\n",
    "                  dropout_layer_rate = 0.1,\n",
    "                  rnn_dropout_rate = 0.1,\n",
    "                  nb_epoch = 50,\n",
    "                  batch_size = 16,\n",
    "                  loss = 'categorical_crossentropy',\n",
    "                  optimizer = 'adam',\n",
    "                  save_model = True,\n",
    "                  save_model_path = ''):\n",
    "\n",
    "        self.dropout_layer_rate = dropout_layer_rate\n",
    "        self.rnn_dropout_rate = rnn_dropout_rate\n",
    "        self.nb_epoch = nb_epoch\n",
    "        self.batch_size = batch_size\n",
    "        self.loss = loss\n",
    "        self.optimizer = optimizer #rmsprop, adam\n",
    "        self.save_model = save_model\n",
    "        self.save_model_path = save_model_path\n",
    "        \n",
    "    def NN_getData(self, trainX, trainY, testX, testY):\n",
    "        self.trainX = trainX\n",
    "        self.trainY = trainY\n",
    "        self.testX = testX\n",
    "        self.testY = testY\n",
    "\n",
    "        return True\n",
    "    \n",
    "    def NN_model_train(self):\n",
    "        trainX = self.trainX\n",
    "        trainY = self.trainY\n",
    "        testX = self.testX\n",
    "        testY = self.testY\n",
    "        model = self.model\n",
    "        dropout_layer_rate = self.dropout_layer_rate\n",
    "        rnn_dropout_rate = self.rnn_dropout_rate\n",
    "        \n",
    "        input_dim = trainX.shape\n",
    "        \n",
    "        model = Sequential()\n",
    "        model.add()"
   ]
  }
 ],
 "metadata": {
  "kernelspec": {
   "display_name": "Python 3",
   "language": "python",
   "name": "python3"
  },
  "language_info": {
   "codemirror_mode": {
    "name": "ipython",
    "version": 3
   },
   "file_extension": ".py",
   "mimetype": "text/x-python",
   "name": "python",
   "nbconvert_exporter": "python",
   "pygments_lexer": "ipython3",
   "version": "3.7.3"
  }
 },
 "nbformat": 4,
 "nbformat_minor": 2
}
