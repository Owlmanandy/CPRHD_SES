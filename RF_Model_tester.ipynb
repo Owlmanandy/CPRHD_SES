{
 "cells": [
  {
   "cell_type": "code",
   "execution_count": 1,
   "metadata": {},
   "outputs": [],
   "source": [
    "import pickle\n",
    "import numpy as np\n",
    "import pandas as pd\n",
    "from sklearn.model_selection import train_test_split\n",
    "from sklearn.metrics import log_loss\n",
    "from sklearn.metrics import roc_auc_score"
   ]
  },
  {
   "cell_type": "code",
   "execution_count": 2,
   "metadata": {},
   "outputs": [],
   "source": [
    "import numpy as np\n",
    "import time\n",
    "import scipy.stats as stats\n",
    "import pandas as pd\n",
    "from matplotlib import pyplot as plt\n",
    "from sklearn.ensemble import RandomForestClassifier\n",
    "from sklearn import metrics\n",
    "from sklearn.model_selection import GridSearchCV, train_test_split\n",
    "from sklearn.linear_model import LinearRegression\n",
    "from scipy import stats\n",
    "from sklearn.metrics import log_loss\n",
    "from sklearn.calibration import CalibratedClassifierCV, calibration_curve\n",
    "import matplotlib.pyplot as plt\n",
    "from sklearn.metrics import (brier_score_loss, precision_score, recall_score,\n",
    "                             f1_score)"
   ]
  },
  {
   "cell_type": "code",
   "execution_count": 67,
   "metadata": {},
   "outputs": [],
   "source": [
    "def model_RF_test(model_RF, dataX, dataY):\n",
    "    print(\"Model performance\")\n",
    "    predict_data = model_RF.predict_proba(dataX)\n",
    "\n",
    "    # Some stats\n",
    "    print(\"Feature Importance : \")\n",
    "    print(model_RF.feature_importances_) #older version of sklearn\n",
    "    print(\"Total number of WNV occurrence in test set : \" + str(len(dataY[dataY > 0])))\n",
    "\n",
    "    print(\"Number of WNV occurrence the model is able to capture in test set:\" + str(\n",
    "        dataY[np.where(predict_data[:, 1] > 0)].sum()))\n",
    "    print(\"check over/under prediciton\" + str(predict_data[predict_data[:,1] > 0][:,1].mean() * 110000))\n",
    "    print(\"Log loss : \" + str(log_loss(dataY, predict_data)))\n",
    "\n",
    "    print(\"AUC: \" + str(roc_auc_score(dataY, predict_data[:,1])))\n",
    "\n",
    "    print(\n",
    "        \"This is to test the performance of random forest model, ideally, the logloss is low and also it is able to \"\n",
    "        \"capture most of the WNV occurrence\")\n",
    "\n",
    "    return None  # Check how many wnv it predicts"
   ]
  },
  {
   "cell_type": "code",
   "execution_count": 4,
   "metadata": {},
   "outputs": [],
   "source": [
    "data = pd.read_sas('/home/guangya/Downloads/wnv_2245new.sas7bdat')"
   ]
  },
  {
   "cell_type": "code",
   "execution_count": 23,
   "metadata": {},
   "outputs": [],
   "source": [
    "x = data.drop(columns=['wnvbinary', 'yrweeks', 'yrwksfid', 'yr_hexid', 'year', 'income1'])"
   ]
  },
  {
   "cell_type": "code",
   "execution_count": 24,
   "metadata": {},
   "outputs": [],
   "source": [
    "x_selected_all = x.drop(columns=x.columns[[4, 5, 25, 26, -17, -16, -15, -14, -13, -12, -11, -10, -9, -8, -6]]).values\n",
    "y_selected = data['wnvbinary'].values\n",
    "trainX_sel_all, testX_sel_all, trainY_sel_all, testY_sel_all = train_test_split(x_selected_all, y_selected, test_size = 0.2, random_state  = 1) # CV for model without unimportant columns"
   ]
  },
  {
   "cell_type": "code",
   "execution_count": 25,
   "metadata": {},
   "outputs": [],
   "source": [
    "x_selected = x[x.drop(columns=x.columns[[4, 5, 25, 26, -17, -16, -15, -14, -13, -12, -11, -10, -9, -8, -6]]).columns[[5,6,7,12,13,14,15,16,17]]].values\n",
    "trainX_sel, testX_sel, trainY_sel, testY_sel = train_test_split(x_selected, y_selected, test_size = 0.2, random_state  = 1) # CV for smaller models"
   ]
  },
  {
   "cell_type": "code",
   "execution_count": 16,
   "metadata": {},
   "outputs": [],
   "source": [
    "model_RF = pickle.load(open('/home/guangya/Downloads/RF_model_CV_final_11-27', 'rb'))"
   ]
  },
  {
   "cell_type": "code",
   "execution_count": 26,
   "metadata": {},
   "outputs": [],
   "source": [
    "pred = model_RF.predict_proba(testX_sel_all)"
   ]
  },
  {
   "cell_type": "code",
   "execution_count": 27,
   "metadata": {},
   "outputs": [
    {
     "data": {
      "text/plain": [
       "array([[1.00000000e+00, 0.00000000e+00],\n",
       "       [1.00000000e+00, 0.00000000e+00],\n",
       "       [9.99168351e-01, 8.31649279e-04],\n",
       "       ...,\n",
       "       [1.00000000e+00, 0.00000000e+00],\n",
       "       [1.00000000e+00, 0.00000000e+00],\n",
       "       [1.00000000e+00, 0.00000000e+00]])"
      ]
     },
     "execution_count": 27,
     "metadata": {},
     "output_type": "execute_result"
    }
   ],
   "source": [
    "pred"
   ]
  },
  {
   "cell_type": "code",
   "execution_count": 60,
   "metadata": {},
   "outputs": [
    {
     "name": "stdout",
     "output_type": "stream",
     "text": [
      "Model performance\n",
      "Feature Importance : \n",
      "[0.0167836  0.0166939  0.03028201 0.01733713 0.0388354  0.05063648\n",
      " 0.05457309 0.05192512 0.01657915 0.01618297 0.0186369  0.0188778\n",
      " 0.06026285 0.08898524 0.10783249 0.07745375 0.05806913 0.07905086\n",
      " 0.01356565 0.01652435 0.01405301 0.01506404 0.01455554 0.01659846\n",
      " 0.01862757 0.00018945 0.         0.02184159 0.01364752 0.01560628\n",
      " 0.02072868]\n",
      "Total number of WNV occurrence in test set : 164\n",
      "Number of WNV occurrence the model is able to capture in test set:156.0\n",
      "check over/under prediciton853.7043064365264\n",
      "Log loss : 0.00630569520345608\n",
      "AUC: 0.8978717545376177\n",
      "This is to test the performance of random forest model, ideally, the logloss is low and also it is able to capture most of the WNV occurrence\n"
     ]
    }
   ],
   "source": [
    "model_RF_test(model_RF,testX_sel_all,testY_sel_all)"
   ]
  },
  {
   "cell_type": "code",
   "execution_count": 45,
   "metadata": {},
   "outputs": [
    {
     "data": {
      "text/plain": [
       "GridSearchCV(cv=4, error_score='raise-deprecating',\n",
       "             estimator=RandomForestClassifier(bootstrap=True,\n",
       "                                              class_weight='balanced',\n",
       "                                              criterion='gini', max_depth=60,\n",
       "                                              max_features=5,\n",
       "                                              max_leaf_nodes=None,\n",
       "                                              min_impurity_decrease=0.0,\n",
       "                                              min_impurity_split=None,\n",
       "                                              min_samples_leaf=5,\n",
       "                                              min_samples_split=8,\n",
       "                                              min_weight_fraction_leaf=0.0,\n",
       "                                              n_estimators=2000, n_jobs=-1,\n",
       "                                              oob_score=False,\n",
       "                                              random_state=None, verbose=0,\n",
       "                                              warm_start=False),\n",
       "             iid='warn', n_jobs=None,\n",
       "             param_grid={'bootstrap': [True], 'class_weight': ['balanced'],\n",
       "                         'max_depth': [40, 80], 'max_features': [10, 'sqrt'],\n",
       "                         'min_samples_leaf': [4, 8],\n",
       "                         'min_samples_split': [4, 8], 'n_estimators': [1200]},\n",
       "             pre_dispatch='2*n_jobs', refit=True, return_train_score=False,\n",
       "             scoring='neg_log_loss', verbose=0)"
      ]
     },
     "execution_count": 45,
     "metadata": {},
     "output_type": "execute_result"
    }
   ],
   "source": [
    "model_RF"
   ]
  },
  {
   "cell_type": "code",
   "execution_count": 46,
   "metadata": {},
   "outputs": [
    {
     "data": {
      "text/plain": [
       "{'bootstrap': True,\n",
       " 'class_weight': 'balanced',\n",
       " 'max_depth': 80,\n",
       " 'max_features': 'sqrt',\n",
       " 'min_samples_leaf': 8,\n",
       " 'min_samples_split': 4,\n",
       " 'n_estimators': 1200}"
      ]
     },
     "execution_count": 46,
     "metadata": {},
     "output_type": "execute_result"
    }
   ],
   "source": [
    "model_RF.best_params_"
   ]
  },
  {
   "cell_type": "code",
   "execution_count": 49,
   "metadata": {},
   "outputs": [],
   "source": [
    "model_RF_best_2 = RandomForestClassifier(n_estimators=1200,\n",
    "                                         n_jobs=-1,\n",
    "                                         max_features='sqrt',\n",
    "                                         max_depth= 80,\n",
    "                                         min_samples_leaf = 8,\n",
    "                                         min_samples_split = 4,\n",
    "                                         bootstrap=True)"
   ]
  },
  {
   "cell_type": "code",
   "execution_count": 50,
   "metadata": {},
   "outputs": [
    {
     "data": {
      "text/plain": [
       "RandomForestClassifier(bootstrap=True, class_weight=None, criterion='gini',\n",
       "                       max_depth=80, max_features='sqrt', max_leaf_nodes=None,\n",
       "                       min_impurity_decrease=0.0, min_impurity_split=None,\n",
       "                       min_samples_leaf=8, min_samples_split=4,\n",
       "                       min_weight_fraction_leaf=0.0, n_estimators=1200,\n",
       "                       n_jobs=-1, oob_score=False, random_state=None, verbose=0,\n",
       "                       warm_start=False)"
      ]
     },
     "execution_count": 50,
     "metadata": {},
     "output_type": "execute_result"
    }
   ],
   "source": [
    "model_RF_best_2.fit(trainX_sel,trainY_sel)"
   ]
  },
  {
   "cell_type": "code",
   "execution_count": 51,
   "metadata": {},
   "outputs": [],
   "source": [
    "model_RF_best_1 = RandomForestClassifier(n_estimators=1200,\n",
    "                                         n_jobs=-1,\n",
    "                                         max_features='sqrt',\n",
    "                                         max_depth=80,\n",
    "                                         min_samples_leaf = 8,\n",
    "                                         min_samples_split = 4,\n",
    "                                         bootstrap=True)"
   ]
  },
  {
   "cell_type": "code",
   "execution_count": 52,
   "metadata": {},
   "outputs": [
    {
     "data": {
      "text/plain": [
       "RandomForestClassifier(bootstrap=True, class_weight=None, criterion='gini',\n",
       "                       max_depth=80, max_features='sqrt', max_leaf_nodes=None,\n",
       "                       min_impurity_decrease=0.0, min_impurity_split=None,\n",
       "                       min_samples_leaf=8, min_samples_split=4,\n",
       "                       min_weight_fraction_leaf=0.0, n_estimators=1200,\n",
       "                       n_jobs=-1, oob_score=False, random_state=None, verbose=0,\n",
       "                       warm_start=False)"
      ]
     },
     "execution_count": 52,
     "metadata": {},
     "output_type": "execute_result"
    }
   ],
   "source": [
    "model_RF_best_1.fit(trainX_sel_all,trainY_sel_all)"
   ]
  },
  {
   "cell_type": "code",
   "execution_count": 56,
   "metadata": {},
   "outputs": [
    {
     "name": "stdout",
     "output_type": "stream",
     "text": [
      "Model performance\n",
      "Feature Importance : \n",
      "[0.02791739 0.02860175 0.04039711 0.03386748 0.04269938 0.0421995\n",
      " 0.04133401 0.04290062 0.03439505 0.03474957 0.03549122 0.03414498\n",
      " 0.04013091 0.04265336 0.04382225 0.03875162 0.03978729 0.03800087\n",
      " 0.02800045 0.02745534 0.02766833 0.02505536 0.02840078 0.03126609\n",
      " 0.02980734 0.00050541 0.         0.03130425 0.0287421  0.03126269\n",
      " 0.02868751]\n",
      "Total number of WNV occurrence in test set : 164\n",
      "Number of WNV occurrence the model is able to capture in test set:156.0\n",
      "check over/under prediciton154.5192569133403\n",
      "Log loss : 0.004691750714525809\n",
      "AUC: 0.8942706771025455\n",
      "This is to test the performance of random forest model, ideally, the logloss is low and also it is able to capture most of the WNV occurrence\n"
     ]
    }
   ],
   "source": [
    "model_RF_test(model_RF_best_1,testX_sel_all,testY_sel_all)"
   ]
  },
  {
   "cell_type": "code",
   "execution_count": 64,
   "metadata": {},
   "outputs": [],
   "source": [
    "x_selected = x[x.drop(columns=x.columns[[4, 5, 25, 26, -17, -16, -15, -14, -13, -12, -11, -10, -9, -8, -6]]).columns[[2,4,5,6,7,12,13,14,15,16,17]]].values\n",
    "trainX_sel_2, testX_sel_2, trainY_sel_2, testY_sel_2 = train_test_split(x_selected, y_selected, test_size = 0.2, random_state  = 1) # CV for smaller models"
   ]
  },
  {
   "cell_type": "code",
   "execution_count": 57,
   "metadata": {},
   "outputs": [
    {
     "name": "stdout",
     "output_type": "stream",
     "text": [
      "Model performance\n",
      "Feature Importance : \n",
      "[0.11822018 0.11606085 0.11801847 0.10684182 0.11289406 0.10880983\n",
      " 0.10242753 0.10128176 0.11544551]\n",
      "Total number of WNV occurrence in test set : 164\n",
      "Number of WNV occurrence the model is able to capture in test set:159.0\n",
      "check over/under prediciton141.1317160639655\n",
      "Log loss : 0.004416525497663086\n",
      "AUC: 0.906036259392426\n",
      "This is to test the performance of random forest model, ideally, the logloss is low and also it is able to capture most of the WNV occurrence\n"
     ]
    }
   ],
   "source": [
    "model_RF_test(model_RF_best_2,testX_sel,testY_sel)"
   ]
  },
  {
   "cell_type": "code",
   "execution_count": 65,
   "metadata": {},
   "outputs": [],
   "source": [
    "model_RF_best_3 = RandomForestClassifier(n_estimators=1200,\n",
    "                                         n_jobs=-1,\n",
    "                                         max_features='sqrt',\n",
    "                                         max_depth=80,\n",
    "                                         min_samples_leaf = 8,\n",
    "                                         min_samples_split = 4,\n",
    "                                         bootstrap=True)"
   ]
  },
  {
   "cell_type": "code",
   "execution_count": 66,
   "metadata": {},
   "outputs": [
    {
     "data": {
      "text/plain": [
       "RandomForestClassifier(bootstrap=True, class_weight=None, criterion='gini',\n",
       "                       max_depth=80, max_features='sqrt', max_leaf_nodes=None,\n",
       "                       min_impurity_decrease=0.0, min_impurity_split=None,\n",
       "                       min_samples_leaf=8, min_samples_split=4,\n",
       "                       min_weight_fraction_leaf=0.0, n_estimators=1200,\n",
       "                       n_jobs=-1, oob_score=False, random_state=None, verbose=0,\n",
       "                       warm_start=False)"
      ]
     },
     "execution_count": 66,
     "metadata": {},
     "output_type": "execute_result"
    }
   ],
   "source": [
    "model_RF_best_3.fit(trainX_sel_2,trainY_sel_2)"
   ]
  },
  {
   "cell_type": "code",
   "execution_count": 68,
   "metadata": {},
   "outputs": [
    {
     "name": "stdout",
     "output_type": "stream",
     "text": [
      "Model performance\n",
      "Feature Importance : \n",
      "[0.09162027 0.09602338 0.09459108 0.09212363 0.09547033 0.0850854\n",
      " 0.09254329 0.08942846 0.08357565 0.0839603  0.0955782 ]\n",
      "Total number of WNV occurrence in test set : 164\n",
      "Number of WNV occurrence the model is able to capture in test set:161.0\n",
      "check over/under prediciton172.76941043935642\n",
      "Log loss : 0.004250340494764816\n",
      "AUC: 0.9113654499075113\n",
      "This is to test the performance of random forest model, ideally, the logloss is low and also it is able to capture most of the WNV occurrence\n"
     ]
    }
   ],
   "source": [
    "model_RF_test(model_RF_best_3,testX_sel_2,testY_sel_2)"
   ]
  },
  {
   "cell_type": "code",
   "execution_count": null,
   "metadata": {},
   "outputs": [],
   "source": []
  }
 ],
 "metadata": {
  "kernelspec": {
   "display_name": "Python 3",
   "language": "python",
   "name": "python3"
  },
  "language_info": {
   "codemirror_mode": {
    "name": "ipython",
    "version": 3
   },
   "file_extension": ".py",
   "mimetype": "text/x-python",
   "name": "python",
   "nbconvert_exporter": "python",
   "pygments_lexer": "ipython3",
   "version": "3.7.2"
  }
 },
 "nbformat": 4,
 "nbformat_minor": 2
}
