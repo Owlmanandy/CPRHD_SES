{
 "cells": [
  {
   "cell_type": "code",
   "execution_count": 1,
   "metadata": {},
   "outputs": [],
   "source": [
    "import pickle\n",
    "import numpy as np\n",
    "import pandas as pd\n",
    "from sklearn.model_selection import train_test_split\n",
    "from sklearn.metrics import log_loss\n",
    "from sklearn.metrics import roc_auc_score"
   ]
  },
  {
   "cell_type": "code",
   "execution_count": 2,
   "metadata": {},
   "outputs": [],
   "source": [
    "import numpy as np\n",
    "import time\n",
    "import scipy.stats as stats\n",
    "import pandas as pd\n",
    "from matplotlib import pyplot as plt\n",
    "from sklearn.ensemble import RandomForestClassifier\n",
    "from sklearn import metrics\n",
    "from sklearn.model_selection import GridSearchCV, train_test_split\n",
    "from sklearn.linear_model import LinearRegression\n",
    "from scipy import stats\n",
    "from sklearn.metrics import log_loss\n",
    "from sklearn.calibration import CalibratedClassifierCV, calibration_curve\n",
    "import matplotlib.pyplot as plt\n",
    "from sklearn.metrics import (brier_score_loss, precision_score, recall_score,\n",
    "                             f1_score)"
   ]
  },
  {
   "cell_type": "code",
   "execution_count": 75,
   "metadata": {},
   "outputs": [],
   "source": [
    "def model_RF_test(model_RF, dataX, dataY):\n",
    "    print(\"Model performance\")\n",
    "    predict_data = model_RF.predict_proba(dataX)\n",
    "\n",
    "    # Some stats\n",
    "    print(\"Feature Importance : \")\n",
    "    print(model_RF.feature_importances_) #older version of sklearn\n",
    "    print(\"Total number of WNV occurrence in test set : \" + str(len(dataY[dataY > 0])))\n",
    "\n",
    "    print(\"Number of WNV occurrence the model is able to capture in test set:\" + str(\n",
    "        dataY[np.where(predict_data[:, 1] > 0)].sum()))\n",
    "    print(\"check over/under prediciton\" + str(predict_data[predict_data[:,1] > 0][:,1].mean() * 110000))\n",
    "    print(\"Log loss : \" + str(log_loss(dataY, predict_data)))\n",
    "\n",
    "    print(\"AUC: \" + str(roc_auc_score(dataY, predict_data[:,1])))\n",
    "\n",
    "    print(\n",
    "        \"This is to test the performance of random forest model, ideally, the logloss is low and also it is able to \"\n",
    "        \"capture most of the WNV occurrence\")\n",
    "\n",
    "    return model_RF.feature_importances_ # Check how many wnv it predicts"
   ]
  },
  {
   "cell_type": "code",
   "execution_count": 4,
   "metadata": {},
   "outputs": [],
   "source": [
    "data = pd.read_sas('/home/guangya/Downloads/wnv_2245new.sas7bdat')"
   ]
  },
  {
   "cell_type": "code",
   "execution_count": 19,
   "metadata": {},
   "outputs": [],
   "source": [
    "model_RF_best_2 = pickle.load(open('/home/guangya/Downloads/model_best_all', 'rb'))"
   ]
  },
  {
   "cell_type": "code",
   "execution_count": 23,
   "metadata": {},
   "outputs": [
    {
     "data": {
      "text/plain": [
       "<bound method BaseEstimator.get_params of RandomForestClassifier(bootstrap=True, class_weight=None, criterion='gini',\n",
       "                       max_depth=80, max_features='sqrt', max_leaf_nodes=None,\n",
       "                       min_impurity_decrease=0.0, min_impurity_split=None,\n",
       "                       min_samples_leaf=8, min_samples_split=4,\n",
       "                       min_weight_fraction_leaf=0.0, n_estimators=1200,\n",
       "                       n_jobs=-1, oob_score=False, random_state=None, verbose=0,\n",
       "                       warm_start=False)>"
      ]
     },
     "execution_count": 23,
     "metadata": {},
     "output_type": "execute_result"
    }
   ],
   "source": [
    "model_RF_best_2.get_params"
   ]
  },
  {
   "cell_type": "code",
   "execution_count": 16,
   "metadata": {},
   "outputs": [],
   "source": [
    "x = data.drop(columns=['yrweeks', 'yrwksfid', 'yr_hexid', 'year', 'income1','hexid','PopYesNo'])\n",
    "x_selected = x[(x.weeks >= 22) & (x.weeks <= 31)].drop(columns = 'wnvbinary').values # \n",
    "y_selected = x[(x.weeks >= 22) & (x.weeks <= 31)]['wnvbinary'].values"
   ]
  },
  {
   "cell_type": "code",
   "execution_count": 24,
   "metadata": {},
   "outputs": [],
   "source": [
    "model = pickle.load(open('/home/guangya/Downloads/RF_model_CV_final_1_22_2020', 'rb'))"
   ]
  },
  {
   "cell_type": "code",
   "execution_count": 25,
   "metadata": {},
   "outputs": [],
   "source": [
    "trainX_sel, testX_sel, trainY_sel, testY_sel = train_test_split(x_selected, y_selected, test_size = 0.2, random_state  = 1) # CV for smaller models"
   ]
  },
  {
   "cell_type": "code",
   "execution_count": 122,
   "metadata": {},
   "outputs": [],
   "source": [
    "model_RF_best_2 = RandomForestClassifier(n_estimators=50,\n",
    "                                         n_jobs=-1,\n",
    "                                         max_features= 'auto',\n",
    "                                         max_depth= 50,\n",
    "                                         min_samples_leaf = 10,\n",
    "                                         \n",
    "                                         min_samples_split = ,\n",
    "                                         bootstrap=True)"
   ]
  },
  {
   "cell_type": "code",
   "execution_count": 123,
   "metadata": {},
   "outputs": [
    {
     "data": {
      "text/plain": [
       "RandomForestClassifier(bootstrap=True, class_weight=None, criterion='gini',\n",
       "                       max_depth=50, max_features='auto', max_leaf_nodes=None,\n",
       "                       min_impurity_decrease=0.0, min_impurity_split=None,\n",
       "                       min_samples_leaf=10, min_samples_split=6,\n",
       "                       min_weight_fraction_leaf=0.0, n_estimators=50, n_jobs=-1,\n",
       "                       oob_score=False, random_state=None, verbose=0,\n",
       "                       warm_start=False)"
      ]
     },
     "execution_count": 123,
     "metadata": {},
     "output_type": "execute_result"
    }
   ],
   "source": [
    "model_RF_best_2.fit(trainX_sel,trainY_sel)"
   ]
  },
  {
   "cell_type": "code",
   "execution_count": 124,
   "metadata": {},
   "outputs": [
    {
     "name": "stdout",
     "output_type": "stream",
     "text": [
      "Model performance\n",
      "Feature Importance : \n",
      "[0.03575905 0.03604245 0.03473476 0.03995722 0.04420054 0.05832179\n",
      " 0.02698054 0.04430134 0.03969501 0.02976162 0.03658502 0.04085981\n",
      " 0.02699635 0.04603861 0.04124129 0.03546493 0.02580173 0.02789147\n",
      " 0.02664315 0.02985749 0.0486684  0.03683327 0.03287589 0.03517346\n",
      " 0.03260734 0.03575909 0.01933913 0.03160926]\n",
      "Total number of WNV occurrence in test set : 27\n",
      "Number of WNV occurrence the model is able to capture in test set:16.0\n",
      "check over/under prediciton474.9766500516688\n",
      "Log loss : 0.004023159506796639\n",
      "AUC: 0.7788718350102622\n",
      "This is to test the performance of random forest model, ideally, the logloss is low and also it is able to capture most of the WNV occurrence\n"
     ]
    },
    {
     "data": {
      "text/plain": [
       "array([0.03575905, 0.03604245, 0.03473476, 0.03995722, 0.04420054,\n",
       "       0.05832179, 0.02698054, 0.04430134, 0.03969501, 0.02976162,\n",
       "       0.03658502, 0.04085981, 0.02699635, 0.04603861, 0.04124129,\n",
       "       0.03546493, 0.02580173, 0.02789147, 0.02664315, 0.02985749,\n",
       "       0.0486684 , 0.03683327, 0.03287589, 0.03517346, 0.03260734,\n",
       "       0.03575909, 0.01933913, 0.03160926])"
      ]
     },
     "execution_count": 124,
     "metadata": {},
     "output_type": "execute_result"
    }
   ],
   "source": [
    "model_RF_test(model_RF_best_2,testX_sel,testY_sel)"
   ]
  },
  {
   "cell_type": "code",
   "execution_count": 70,
   "metadata": {},
   "outputs": [
    {
     "name": "stdout",
     "output_type": "stream",
     "text": [
      "Model performance\n",
      "Feature Importance : \n",
      "[0.03610387 0.03226657 0.03488275 0.03707077 0.0437616  0.05501321\n",
      " 0.03136347 0.04450575 0.03827677 0.03542132 0.04630067 0.04116431\n",
      " 0.03422793 0.036588   0.03793027 0.04187429 0.02778214 0.02248517\n",
      " 0.02720443 0.03383228 0.04764443 0.02775865 0.02701106 0.03973059\n",
      " 0.03303581 0.03082905 0.02856797 0.02736687]\n",
      "Total number of WNV occurrence in test set : 27\n",
      "Number of WNV occurrence the model is able to capture in test set:24.0\n",
      "check over/under prediciton99.77134389500807\n",
      "Log loss : 0.0022620249185562385\n",
      "AUC: 0.905589567936616\n",
      "This is to test the performance of random forest model, ideally, the logloss is low and also it is able to capture most of the WNV occurrence\n"
     ]
    },
    {
     "ename": "AttributeError",
     "evalue": "'RandomForestClassifier' object has no attribute 'best_estimator_'",
     "output_type": "error",
     "traceback": [
      "\u001b[0;31m---------------------------------------------------------------------------\u001b[0m",
      "\u001b[0;31mAttributeError\u001b[0m                            Traceback (most recent call last)",
      "\u001b[0;32m<ipython-input-70-e0bf7d922e02>\u001b[0m in \u001b[0;36m<module>\u001b[0;34m\u001b[0m\n\u001b[0;32m----> 1\u001b[0;31m \u001b[0mmodel_RF_test\u001b[0m\u001b[0;34m(\u001b[0m\u001b[0mmodel_RF_best_2\u001b[0m\u001b[0;34m,\u001b[0m\u001b[0mtestX_sel\u001b[0m\u001b[0;34m,\u001b[0m\u001b[0mtestY_sel\u001b[0m\u001b[0;34m)\u001b[0m\u001b[0;34m\u001b[0m\u001b[0;34m\u001b[0m\u001b[0m\n\u001b[0m",
      "\u001b[0;32m<ipython-input-69-d708c95f35c9>\u001b[0m in \u001b[0;36mmodel_RF_test\u001b[0;34m(model_RF, dataX, dataY)\u001b[0m\n\u001b[1;32m     19\u001b[0m         \"capture most of the WNV occurrence\")\n\u001b[1;32m     20\u001b[0m \u001b[0;34m\u001b[0m\u001b[0m\n\u001b[0;32m---> 21\u001b[0;31m     \u001b[0;32mreturn\u001b[0m \u001b[0mmodel_RF\u001b[0m\u001b[0;34m.\u001b[0m\u001b[0mbest_estimator_\u001b[0m\u001b[0;34m.\u001b[0m\u001b[0mfeature_importances_\u001b[0m \u001b[0;31m# Check how many wnv it predicts\u001b[0m\u001b[0;34m\u001b[0m\u001b[0;34m\u001b[0m\u001b[0m\n\u001b[0m",
      "\u001b[0;31mAttributeError\u001b[0m: 'RandomForestClassifier' object has no attribute 'best_estimator_'"
     ]
    }
   ],
   "source": [
    "model_RF_test(model_RF_best_2,testX_sel,testY_sel)"
   ]
  },
  {
   "cell_type": "code",
   "execution_count": 129,
   "metadata": {},
   "outputs": [
    {
     "data": {
      "text/plain": [
       "Index(['tempc', 'preci', 'templag1', 'templag2', 'templag3', 'templag4',\n",
       "       'precilag1', 'precilag2', 'precilag3', 'precilag4', 'mirmean',\n",
       "       'mirlag1', 'mirlag2', 'mirlag3', 'mirlag4', 'totpop', 'whitepct',\n",
       "       'blackpct', 'asianpct', 'Income', 'dlipct', 'dmipct', 'dhipct',\n",
       "       'Jantemp', 'hpctpreww', 'hpctpostww', 'hpct7089', 'hpctpost90'],\n",
       "      dtype='object')"
      ]
     },
     "execution_count": 129,
     "metadata": {},
     "output_type": "execute_result"
    }
   ],
   "source": [
    "x_small[x_small.drop(columns='wnvbinary').columns[column]].drop(columns = 'Input_FID').columns"
   ]
  },
  {
   "cell_type": "code",
   "execution_count": 64,
   "metadata": {},
   "outputs": [],
   "source": [
    "x_selected_new = x_small[x_small.drop(columns='wnvbinary').columns[column]].drop(columns = 'Input_FID').values"
   ]
  },
  {
   "cell_type": "code",
   "execution_count": 65,
   "metadata": {},
   "outputs": [],
   "source": [
    "trainX_sel, testX_sel, trainY_sel, testY_sel = train_test_split(x_selected_new, y_selected, test_size = 0.2, random_state  = 1) # CV for smaller models"
   ]
  },
  {
   "cell_type": "code",
   "execution_count": 59,
   "metadata": {},
   "outputs": [],
   "source": [
    "column = np.where(fi > 1/44)"
   ]
  },
  {
   "cell_type": "code",
   "execution_count": 60,
   "metadata": {},
   "outputs": [
    {
     "data": {
      "text/plain": [
       "array([3.07241599e-02, 3.52793670e-02, 2.94239579e-02, 5.00553478e-03,\n",
       "       2.82801749e-03, 3.51095252e-02, 3.29032586e-02, 3.83755095e-02,\n",
       "       5.08218018e-02, 2.94324019e-02, 3.75500606e-02, 3.57218602e-02,\n",
       "       2.96077186e-02, 4.07439804e-02, 3.56989002e-02, 3.20231265e-02,\n",
       "       3.27193058e-02, 3.40802896e-02, 3.60028692e-02, 2.69190838e-02,\n",
       "       2.33178343e-02, 2.38853294e-02, 2.18819014e-02, 3.08823448e-02,\n",
       "       9.42384096e-04, 1.91792734e-02, 4.45308560e-02, 2.61562798e-02,\n",
       "       2.46767768e-02, 6.44415056e-04, 1.94232453e-03, 0.00000000e+00,\n",
       "       1.50658312e-03, 9.04898781e-04, 5.25417520e-04, 9.23886820e-06,\n",
       "       7.60867399e-04, 1.64773354e-03, 0.00000000e+00, 3.39752008e-02,\n",
       "       3.16871500e-02, 2.84675276e-02, 2.53574278e-02, 2.61475059e-02])"
      ]
     },
     "execution_count": 60,
     "metadata": {},
     "output_type": "execute_result"
    }
   ],
   "source": [
    "fi"
   ]
  },
  {
   "cell_type": "code",
   "execution_count": 61,
   "metadata": {},
   "outputs": [
    {
     "data": {
      "text/plain": [
       "(array([ 0,  1,  2,  5,  6,  7,  8,  9, 10, 11, 12, 13, 14, 15, 16, 17, 18,\n",
       "        19, 20, 21, 23, 26, 27, 28, 39, 40, 41, 42, 43]),)"
      ]
     },
     "execution_count": 61,
     "metadata": {},
     "output_type": "execute_result"
    }
   ],
   "source": [
    "column"
   ]
  },
  {
   "cell_type": "code",
   "execution_count": 29,
   "metadata": {},
   "outputs": [
    {
     "data": {
      "text/plain": [
       "0.022727272727272728"
      ]
     },
     "execution_count": 29,
     "metadata": {},
     "output_type": "execute_result"
    }
   ],
   "source": [
    "1 / 44"
   ]
  },
  {
   "cell_type": "code",
   "execution_count": 28,
   "metadata": {},
   "outputs": [
    {
     "data": {
      "text/plain": [
       "{'mean_fit_time': array([114.94392836, 131.32952112, 113.62031513, 131.19400501]),\n",
       " 'std_fit_time': array([1.89700826, 2.22720775, 1.50943815, 2.57439597]),\n",
       " 'mean_score_time': array([1.0615688 , 1.20796931, 1.05303723, 1.20782661]),\n",
       " 'std_score_time': array([0.00792043, 0.05019958, 0.00446121, 0.05200646]),\n",
       " 'param_bootstrap': masked_array(data=[True, True, True, True],\n",
       "              mask=[False, False, False, False],\n",
       "        fill_value='?',\n",
       "             dtype=object),\n",
       " 'param_max_depth': masked_array(data=[60, 60, 80, 80],\n",
       "              mask=[False, False, False, False],\n",
       "        fill_value='?',\n",
       "             dtype=object),\n",
       " 'param_max_features': masked_array(data=['sqrt', 'sqrt', 'sqrt', 'sqrt'],\n",
       "              mask=[False, False, False, False],\n",
       "        fill_value='?',\n",
       "             dtype=object),\n",
       " 'param_min_samples_leaf': masked_array(data=[8, 8, 8, 8],\n",
       "              mask=[False, False, False, False],\n",
       "        fill_value='?',\n",
       "             dtype=object),\n",
       " 'param_min_samples_split': masked_array(data=[4, 4, 4, 4],\n",
       "              mask=[False, False, False, False],\n",
       "        fill_value='?',\n",
       "             dtype=object),\n",
       " 'param_n_estimators': masked_array(data=[1300, 1500, 1300, 1500],\n",
       "              mask=[False, False, False, False],\n",
       "        fill_value='?',\n",
       "             dtype=object),\n",
       " 'params': [{'bootstrap': True,\n",
       "   'max_depth': 60,\n",
       "   'max_features': 'sqrt',\n",
       "   'min_samples_leaf': 8,\n",
       "   'min_samples_split': 4,\n",
       "   'n_estimators': 1300},\n",
       "  {'bootstrap': True,\n",
       "   'max_depth': 60,\n",
       "   'max_features': 'sqrt',\n",
       "   'min_samples_leaf': 8,\n",
       "   'min_samples_split': 4,\n",
       "   'n_estimators': 1500},\n",
       "  {'bootstrap': True,\n",
       "   'max_depth': 80,\n",
       "   'max_features': 'sqrt',\n",
       "   'min_samples_leaf': 8,\n",
       "   'min_samples_split': 4,\n",
       "   'n_estimators': 1300},\n",
       "  {'bootstrap': True,\n",
       "   'max_depth': 80,\n",
       "   'max_features': 'sqrt',\n",
       "   'min_samples_leaf': 8,\n",
       "   'min_samples_split': 4,\n",
       "   'n_estimators': 1500}],\n",
       " 'split0_test_score': array([-0.00180557, -0.00181188, -0.0018123 , -0.00203287]),\n",
       " 'split1_test_score': array([-0.00158557, -0.00177928, -0.00197255, -0.00156209]),\n",
       " 'split2_test_score': array([-0.00173238, -0.00152016, -0.00175319, -0.00173743]),\n",
       " 'split3_test_score': array([-0.00233257, -0.00251653, -0.00253178, -0.00250591]),\n",
       " 'mean_test_score': array([-0.00186402, -0.00190696, -0.00201745, -0.00195957]),\n",
       " 'std_test_score': array([0.00028188, 0.00036964, 0.0003076 , 0.00035749]),\n",
       " 'rank_test_score': array([1, 2, 4, 3], dtype=int32)}"
      ]
     },
     "execution_count": 28,
     "metadata": {},
     "output_type": "execute_result"
    }
   ],
   "source": [
    "model.cv_results_"
   ]
  },
  {
   "cell_type": "code",
   "execution_count": 13,
   "metadata": {},
   "outputs": [
    {
     "data": {
      "text/plain": [
       "(602040, 44)"
      ]
     },
     "execution_count": 13,
     "metadata": {},
     "output_type": "execute_result"
    }
   ],
   "source": [
    "x_selected.shape"
   ]
  },
  {
   "cell_type": "code",
   "execution_count": 14,
   "metadata": {},
   "outputs": [
    {
     "data": {
      "text/plain": [
       "(602040,)"
      ]
     },
     "execution_count": 14,
     "metadata": {},
     "output_type": "execute_result"
    }
   ],
   "source": [
    "y_selected.shape"
   ]
  },
  {
   "cell_type": "code",
   "execution_count": 5,
   "metadata": {},
   "outputs": [],
   "source": [
    "x = data.drop(columns=['wnvbinary', 'yrweeks', 'yrwksfid', 'yr_hexid', 'year', 'income1','PopYesNo']) "
   ]
  },
  {
   "cell_type": "code",
   "execution_count": 6,
   "metadata": {},
   "outputs": [],
   "source": [
    "x_test = data[data.drop(columns=['wnvbinary','yrweeks','yrwksfid','yr_hexid','year']).columns[:]]\n",
    "x_selected = x[x.drop(columns=x_test.columns[[4, 5, 25, 26, -17, -16, -15, -14, -13, -12, -11, -10, -9, -8, -6]]).columns[[2,4,5,6,7,12,13,14,15,16,17]]].values\n",
    "y_selected = data['wnvbinary'].values"
   ]
  },
  {
   "cell_type": "code",
   "execution_count": null,
   "metadata": {},
   "outputs": [],
   "source": [
    "x_test = data[data.drop(columns=['wnvbinary','yrweeks','yrwksfid','yr_hexid','year']).columns[:]]\n",
    "x_selected = x[x.drop(columns=x_test.columns[[4, 5, 25, 26, -17, -16, -15, -14, -13, -12, -11, -10, -9, -8, -6]]).columns[[2,4,5,6,7,12,13,14,15,16,17]]].values\n",
    "y_selected = data['wnvbinary'].values"
   ]
  },
  {
   "cell_type": "code",
   "execution_count": 17,
   "metadata": {},
   "outputs": [],
   "source": []
  },
  {
   "cell_type": "code",
   "execution_count": 9,
   "metadata": {},
   "outputs": [],
   "source": [
    "model_RF = pickle.load(open('/home/guangya/Downloads/RF_model_CV_final_12-11', 'rb'))"
   ]
  },
  {
   "cell_type": "code",
   "execution_count": 13,
   "metadata": {},
   "outputs": [
    {
     "data": {
      "text/plain": [
       "{'bootstrap': True,\n",
       " 'max_depth': 80,\n",
       " 'max_features': 'sqrt',\n",
       " 'min_samples_leaf': 12,\n",
       " 'min_samples_split': 6,\n",
       " 'n_estimators': 1200}"
      ]
     },
     "execution_count": 13,
     "metadata": {},
     "output_type": "execute_result"
    }
   ],
   "source": [
    "model_RF.best_params_"
   ]
  },
  {
   "cell_type": "code",
   "execution_count": 11,
   "metadata": {},
   "outputs": [],
   "source": [
    "pred = model_RF.predict_proba(testX_sel)"
   ]
  },
  {
   "cell_type": "code",
   "execution_count": null,
   "metadata": {},
   "outputs": [],
   "source": [
    "pred"
   ]
  },
  {
   "cell_type": "code",
   "execution_count": 15,
   "metadata": {},
   "outputs": [
    {
     "name": "stdout",
     "output_type": "stream",
     "text": [
      "Model performance\n",
      "Feature Importance : \n",
      "[0.0913835  0.09518686 0.09497561 0.09248659 0.09505908 0.08464859\n",
      " 0.09037246 0.09035588 0.0839211  0.08300739 0.09860295]\n",
      "Total number of WNV occurrence in test set : 164\n",
      "Number of WNV occurrence the model is able to capture in test set:164.0\n",
      "check over/under prediciton149.85695562396802\n",
      "Log loss : 0.003966331368548016\n",
      "AUC: 0.9193705360219215\n",
      "This is to test the performance of random forest model, ideally, the logloss is low and also it is able to capture most of the WNV occurrence\n"
     ]
    }
   ],
   "source": [
    "model_RF_test(model_RF,testX_sel,testY_sel)"
   ]
  },
  {
   "cell_type": "code",
   "execution_count": 45,
   "metadata": {},
   "outputs": [
    {
     "data": {
      "text/plain": [
       "GridSearchCV(cv=4, error_score='raise-deprecating',\n",
       "             estimator=RandomForestClassifier(bootstrap=True,\n",
       "                                              class_weight='balanced',\n",
       "                                              criterion='gini', max_depth=60,\n",
       "                                              max_features=5,\n",
       "                                              max_leaf_nodes=None,\n",
       "                                              min_impurity_decrease=0.0,\n",
       "                                              min_impurity_split=None,\n",
       "                                              min_samples_leaf=5,\n",
       "                                              min_samples_split=8,\n",
       "                                              min_weight_fraction_leaf=0.0,\n",
       "                                              n_estimators=2000, n_jobs=-1,\n",
       "                                              oob_score=False,\n",
       "                                              random_state=None, verbose=0,\n",
       "                                              warm_start=False),\n",
       "             iid='warn', n_jobs=None,\n",
       "             param_grid={'bootstrap': [True], 'class_weight': ['balanced'],\n",
       "                         'max_depth': [40, 80], 'max_features': [10, 'sqrt'],\n",
       "                         'min_samples_leaf': [4, 8],\n",
       "                         'min_samples_split': [4, 8], 'n_estimators': [1200]},\n",
       "             pre_dispatch='2*n_jobs', refit=True, return_train_score=False,\n",
       "             scoring='neg_log_loss', verbose=0)"
      ]
     },
     "execution_count": 45,
     "metadata": {},
     "output_type": "execute_result"
    }
   ],
   "source": [
    "model_RF"
   ]
  },
  {
   "cell_type": "code",
   "execution_count": 46,
   "metadata": {},
   "outputs": [
    {
     "data": {
      "text/plain": [
       "{'bootstrap': True,\n",
       " 'class_weight': 'balanced',\n",
       " 'max_depth': 80,\n",
       " 'max_features': 'sqrt',\n",
       " 'min_samples_leaf': 8,\n",
       " 'min_samples_split': 4,\n",
       " 'n_estimators': 1200}"
      ]
     },
     "execution_count": 46,
     "metadata": {},
     "output_type": "execute_result"
    }
   ],
   "source": [
    "model_RF.best_params_"
   ]
  },
  {
   "cell_type": "code",
   "execution_count": null,
   "metadata": {},
   "outputs": [],
   "source": [
    "model_RF_best_2 = RandomForestClassifier(n_estimators=1200,\n",
    "                                         n_jobs=-1,\n",
    "                                         max_features='sqrt',\n",
    "                                         max_depth= 80,\n",
    "                                         min_samples_leaf = 8,\n",
    "                                         min_samples_split = 4,\n",
    "                                         bootstrap=True)"
   ]
  },
  {
   "cell_type": "code",
   "execution_count": 23,
   "metadata": {},
   "outputs": [
    {
     "ename": "NameError",
     "evalue": "name 'model_RF_best_1' is not defined",
     "output_type": "error",
     "traceback": [
      "\u001b[0;31m---------------------------------------------------------------------------\u001b[0m",
      "\u001b[0;31mNameError\u001b[0m                                 Traceback (most recent call last)",
      "\u001b[0;32m<ipython-input-23-8e30230a1755>\u001b[0m in \u001b[0;36m<module>\u001b[0;34m\u001b[0m\n\u001b[0;32m----> 1\u001b[0;31m \u001b[0mpred\u001b[0m \u001b[0;34m=\u001b[0m \u001b[0mmodel_RF_best_1\u001b[0m\u001b[0;34m.\u001b[0m\u001b[0mpredict_proba\u001b[0m\u001b[0;34m(\u001b[0m\u001b[0mtrainX_sel_all\u001b[0m\u001b[0;34m)\u001b[0m\u001b[0;34m\u001b[0m\u001b[0;34m\u001b[0m\u001b[0m\n\u001b[0m",
      "\u001b[0;31mNameError\u001b[0m: name 'model_RF_best_1' is not defined"
     ]
    }
   ],
   "source": [
    "pred = model_RF_best_1.predict_proba(trainX_sel_all)"
   ]
  },
  {
   "cell_type": "code",
   "execution_count": null,
   "metadata": {},
   "outputs": [],
   "source": [
    "model_RF_best_2.fit(trainX_sel,trainY_sel)"
   ]
  },
  {
   "cell_type": "code",
   "execution_count": null,
   "metadata": {},
   "outputs": [],
   "source": [
    "model_RF_best_1 = RandomForestClassifier(n_estimators=1200,\n",
    "                                         n_jobs=-1,\n",
    "                                         max_features='sqrt',\n",
    "                                         max_depth=80,\n",
    "                                         min_samples_leaf = 8,\n",
    "                                         min_samples_split = 4,\n",
    "                                         bootstrap=True)"
   ]
  },
  {
   "cell_type": "code",
   "execution_count": null,
   "metadata": {},
   "outputs": [],
   "source": [
    "model_RF_best_1.fit(trainX_sel_all,trainY_sel_all)"
   ]
  },
  {
   "cell_type": "code",
   "execution_count": null,
   "metadata": {},
   "outputs": [],
   "source": [
    "model_RF_test(model_RF_best_1,testX_sel_all,testY_sel_all)"
   ]
  },
  {
   "cell_type": "code",
   "execution_count": 13,
   "metadata": {},
   "outputs": [],
   "source": [
    "x_selected = x[x.drop(columns=x.columns[[4, 5, 25, 26, -17, -16, -15, -14, -13, -12, -11, -10, -9, -8, -6]]).columns[[2,4,5,6,7,12,13,14,15,16,17]]].values\n",
    "trainX_sel_2, testX_sel_2, trainY_sel_2, testY_sel_2 = train_test_split(x_selected, y_selected, test_size = 0.2, random_state  = 1) # CV for smaller models"
   ]
  },
  {
   "cell_type": "code",
   "execution_count": 24,
   "metadata": {},
   "outputs": [],
   "source": [
    "pred = model_RF.predict_proba(trainX_sel_all)"
   ]
  },
  {
   "cell_type": "code",
   "execution_count": 16,
   "metadata": {},
   "outputs": [
    {
     "data": {
      "text/plain": [
       "0.0006599348111532347"
      ]
     },
     "execution_count": 16,
     "metadata": {},
     "output_type": "execute_result"
    }
   ],
   "source": [
    "pred[:,1].mean()"
   ]
  },
  {
   "cell_type": "code",
   "execution_count": 17,
   "metadata": {},
   "outputs": [
    {
     "data": {
      "text/plain": [
       "0.0005675133227212956"
      ]
     },
     "execution_count": 17,
     "metadata": {},
     "output_type": "execute_result"
    }
   ],
   "source": [
    "testY_sel.mean()"
   ]
  },
  {
   "cell_type": "code",
   "execution_count": null,
   "metadata": {},
   "outputs": [],
   "source": [
    "model_RF_test(model_RF_best_2,testX_sel,testY_sel)"
   ]
  },
  {
   "cell_type": "code",
   "execution_count": 213,
   "metadata": {},
   "outputs": [],
   "source": [
    "model_RF_best_3 = RandomForestClassifier(n_estimators=1200,\n",
    "                                         n_jobs=-1,\n",
    "                                         max_features='sqrt',\n",
    "                                         max_depth=80,\n",
    "                                         min_samples_leaf = 8,\n",
    "                                         min_samples_split = 4,\n",
    "                                         bootstrap=True)"
   ]
  },
  {
   "cell_type": "code",
   "execution_count": null,
   "metadata": {},
   "outputs": [],
   "source": [
    "model_RF_best_3.fit(trainX_sel_2,trainY_sel_2)"
   ]
  },
  {
   "cell_type": "code",
   "execution_count": 68,
   "metadata": {},
   "outputs": [
    {
     "name": "stdout",
     "output_type": "stream",
     "text": [
      "Model performance\n",
      "Feature Importance : \n",
      "[0.09162027 0.09602338 0.09459108 0.09212363 0.09547033 0.0850854\n",
      " 0.09254329 0.08942846 0.08357565 0.0839603  0.0955782 ]\n",
      "Total number of WNV occurrence in test set : 164\n",
      "Number of WNV occurrence the model is able to capture in test set:161.0\n",
      "check over/under prediciton172.76941043935642\n",
      "Log loss : 0.004250340494764816\n",
      "AUC: 0.9113654499075113\n",
      "This is to test the performance of random forest model, ideally, the logloss is low and also it is able to capture most of the WNV occurrence\n"
     ]
    }
   ],
   "source": [
    "model_RF_test(model_RF_best_3,testX_sel_2,testY_sel_2)"
   ]
  },
  {
   "cell_type": "code",
   "execution_count": 73,
   "metadata": {},
   "outputs": [],
   "source": [
    "pred_2 = model_RF_best_3.predict_proba(testX_sel_2)"
   ]
  },
  {
   "cell_type": "code",
   "execution_count": 80,
   "metadata": {},
   "outputs": [
    {
     "data": {
      "text/plain": [
       "array([0., 0., 0., ..., 0., 0., 0.])"
      ]
     },
     "execution_count": 80,
     "metadata": {},
     "output_type": "execute_result"
    }
   ],
   "source": [
    "testY_sel"
   ]
  },
  {
   "cell_type": "code",
   "execution_count": 91,
   "metadata": {},
   "outputs": [],
   "source": [
    "from sklearn.metrics import roc_curve, auc\n",
    "from sklearn.model_selection import train_test_split\n",
    "from sklearn.preprocessing import label_binarize\n",
    "from sklearn.multiclass import OneVsRestClassifier\n",
    "from scipy import interp\n",
    "from sklearn.metrics import roc_auc_score\n",
    "fpr, tpr, thresholds = metrics.roc_curve(testY_sel_2, pred_2[:,1], pos_label=1)"
   ]
  },
  {
   "cell_type": "code",
   "execution_count": 133,
   "metadata": {},
   "outputs": [
    {
     "data": {
      "image/png": "[encoded data removed]",
      "text/plain": [
       "<Figure size 432x288 with 1 Axes>"
      ]
     },
     "metadata": {
      "needs_background": "light"
     },
     "output_type": "display_data"
    },
    {
     "data": {
      "text/plain": [
       "<Figure size 432x288 with 0 Axes>"
      ]
     },
     "metadata": {},
     "output_type": "display_data"
    }
   ],
   "source": [
    "plt.figure()\n",
    "lw = 2\n",
    "plt.plot(fpr, tpr, color='darkorange')\n",
    "plt.plot([0, 1], [0, 1], color='navy', lw=lw, linestyle='--',label='ROC curve (area = %0.3f)' % roc_auc_score(testY_sel_2, pred_2[:,1]))\n",
    "plt.xlim([0.0, 1.0])\n",
    "plt.ylim([0.0, 1.05])\n",
    "plt.xlabel('False Positive Rate')\n",
    "plt.ylabel('True Positive Rate')\n",
    "plt.title('Receiver operating characteristic for model without SEC features')\n",
    "plt.legend(loc=\"lower right\")\n",
    "plt.show()\n",
    "plt.savefig('test.png')"
   ]
  },
  {
   "cell_type": "code",
   "execution_count": 46,
   "metadata": {},
   "outputs": [],
   "source": [
    "fpr, tpr, thresholds = metrics.roc_curve(testY_sel, pred[:,1], pos_label=1)"
   ]
  },
  {
   "cell_type": "code",
   "execution_count": 48,
   "metadata": {},
   "outputs": [
    {
     "data": {
      "image/png": "[encoded data removed]",
      "text/plain": [
       "<Figure size 432x288 with 1 Axes>"
      ]
     },
     "metadata": {
      "needs_background": "light"
     },
     "output_type": "display_data"
    },
    {
     "data": {
      "text/plain": [
       "<Figure size 432x288 with 0 Axes>"
      ]
     },
     "metadata": {},
     "output_type": "display_data"
    }
   ],
   "source": [
    "plt.figure()\n",
    "lw = 2\n",
    "plt.plot(fpr, tpr, color='darkorange')\n",
    "plt.plot([0, 1], [0, 1], color='navy', lw=lw, linestyle='--',label='ROC curve (area = %0.3f)' % roc_auc_score(testY_sel, pred[:,1]))\n",
    "plt.xlim([0.0, 1.0])\n",
    "plt.ylim([0.0, 1.05])\n",
    "plt.xlabel('False Positive Rate')\n",
    "plt.ylabel('True Positive Rate')\n",
    "plt.title('Receiver operating characteristic With SEC features')\n",
    "plt.legend(loc=\"lower right\")\n",
    "plt.show()\n",
    "plt.savefig('test1.png')"
   ]
  },
  {
   "cell_type": "code",
   "execution_count": 26,
   "metadata": {},
   "outputs": [
    {
     "data": {
      "text/plain": [
       "array([0., 0., 0., ..., 0., 0., 0.])"
      ]
     },
     "execution_count": 26,
     "metadata": {},
     "output_type": "execute_result"
    }
   ],
   "source": [
    "testY_sel"
   ]
  },
  {
   "cell_type": "code",
   "execution_count": 37,
   "metadata": {},
   "outputs": [],
   "source": [
    "temp = np.concatenate((testY_sel.reshape(len(testY_sel),1),pred),1)"
   ]
  },
  {
   "cell_type": "code",
   "execution_count": 40,
   "metadata": {},
   "outputs": [
    {
     "data": {
      "text/plain": [
       "array([[1.00000000e+00, 9.97751429e-01, 2.24857119e-03],\n",
       "       [1.00000000e+00, 9.93524493e-01, 6.47550690e-03],\n",
       "       [1.00000000e+00, 9.94249453e-01, 5.75054705e-03],\n",
       "       [1.00000000e+00, 9.94905015e-01, 5.09498450e-03],\n",
       "       [1.00000000e+00, 9.98678444e-01, 1.32155620e-03],\n",
       "       [1.00000000e+00, 9.94338433e-01, 5.66156700e-03],\n",
       "       [1.00000000e+00, 9.90367942e-01, 9.63205760e-03],\n",
       "       [1.00000000e+00, 9.76862899e-01, 2.31371013e-02],\n",
       "       [1.00000000e+00, 9.93558419e-01, 6.44158133e-03],\n",
       "       [1.00000000e+00, 9.99242273e-01, 7.57726782e-04]])"
      ]
     },
     "execution_count": 40,
     "metadata": {},
     "output_type": "execute_result"
    }
   ],
   "source": [
    "temp[temp[:,0] == 1][:10]"
   ]
  },
  {
   "cell_type": "code",
   "execution_count": 42,
   "metadata": {},
   "outputs": [
    {
     "data": {
      "text/plain": [
       "0.006652119988161337"
      ]
     },
     "execution_count": 42,
     "metadata": {},
     "output_type": "execute_result"
    }
   ],
   "source": [
    "temp[temp[:,0] == 1][:10][:,2].mean()"
   ]
  },
  {
   "cell_type": "code",
   "execution_count": 43,
   "metadata": {},
   "outputs": [
    {
     "data": {
      "text/plain": [
       "0.00023697007182631584"
      ]
     },
     "execution_count": 43,
     "metadata": {},
     "output_type": "execute_result"
    }
   ],
   "source": [
    "temp[temp[:,0] == 0][:10][:,2].mean()"
   ]
  },
  {
   "cell_type": "code",
   "execution_count": 203,
   "metadata": {},
   "outputs": [
    {
     "data": {
      "text/plain": [
       "Index(['yr', 'weeks', 'owpct', 'dospct', 'dhipct', 'blpct', 'dfpct', 'efpct',\n",
       "       'mfpct', 'shrubpct', 'glandpct', 'pasturepct', 'ccpct', 'wwpct',\n",
       "       'Jantemp'],\n",
       "      dtype='object')"
      ]
     },
     "execution_count": 203,
     "metadata": {},
     "output_type": "execute_result"
    }
   ],
   "source": [
    "x[x.columns[[4, 5, 25, 26, -17, -16, -15, -14, -13, -12, -11, -10, -9, -8, -6]]].columns"
   ]
  },
  {
   "cell_type": "code",
   "execution_count": 136,
   "metadata": {},
   "outputs": [
    {
     "data": {
      "text/plain": [
       "Index(['tempc', 'templag1', 'templag2', 'templag3', 'templag4', 'mirmean',\n",
       "       'mirlag1', 'mirlag2', 'mirlag3', 'mirlag4', 'totpop'],\n",
       "      dtype='object')"
      ]
     },
     "execution_count": 136,
     "metadata": {},
     "output_type": "execute_result"
    }
   ],
   "source": [
    "x[x.drop(columns=x.columns[[4, 5, 25, 26, -17, -16, -15, -14, -13, -12, -11, -10, -9, -8, -6]]).columns[[2,4,5,6,7,12,13,14,15,16,17]]].columns"
   ]
  },
  {
   "cell_type": "code",
   "execution_count": 137,
   "metadata": {},
   "outputs": [],
   "source": [
    "model_RF_all = pickle.load(open('/home/guangya/Downloads/RF_model_max', 'rb'))"
   ]
  },
  {
   "cell_type": "code",
   "execution_count": 140,
   "metadata": {},
   "outputs": [],
   "source": [
    "trainX, testX, trainY, testY = train_test_split(x_test, y_selected, test_size = 0.2, random_state  = 1)"
   ]
  },
  {
   "cell_type": "code",
   "execution_count": 141,
   "metadata": {},
   "outputs": [
    {
     "name": "stdout",
     "output_type": "stream",
     "text": [
      "Model performance\n",
      "Feature Importance : \n",
      "[0.02629452 0.02578387 0.03451336 0.03106555 0.00981822 0.00860826\n",
      " 0.0366341  0.03587256 0.03631539 0.03675893 0.03064472 0.03111556\n",
      " 0.03201555 0.0316537  0.03407201 0.03598392 0.03585484 0.03363267\n",
      " 0.03374397 0.02898736 0.02450161 0.02367823 0.02390076 0.02182437\n",
      " 0.02463483 0.00266412 0.02063995 0.02651296 0.02588299 0.0213744\n",
      " 0.00038678 0.0033449  0.00060412 0.00165944 0.00048802 0.0017847\n",
      " 0.00112839 0.00137582 0.00300273 0.00033028 0.03377126 0.\n",
      " 0.02563835 0.02543598 0.0267511  0.02421458 0.02510029]\n",
      "Total number of WNV occurrence in test set : 164\n",
      "Number of WNV occurrence the model is able to capture in test set:153.0\n",
      "check over/under prediciton175.3351488248008\n",
      "Log loss : 0.004998724097310009\n",
      "AUC: 0.8833544836040433\n",
      "This is to test the performance of random forest model, ideally, the logloss is low and also it is able to capture most of the WNV occurrence\n"
     ]
    }
   ],
   "source": [
    "model_RF_test(model_RF_all,testX,testY)"
   ]
  },
  {
   "cell_type": "code",
   "execution_count": 211,
   "metadata": {},
   "outputs": [
    {
     "data": {
      "text/plain": [
       "Index(['yr', 'weeks', 'owpct', 'dospct', 'blpct', 'dfpct', 'efpct', 'mfpct',\n",
       "       'shrubpct', 'glandpct', 'pasturepct', 'ccpct', 'wwpct', 'ehwpct',\n",
       "       'PopYesNo'],\n",
       "      dtype='object')"
      ]
     },
     "execution_count": 211,
     "metadata": {},
     "output_type": "execute_result"
    }
   ],
   "source": [
    "x_test.columns[[4, 5, 25, 26, -17, -16, -15, -14, -13, -12, -11, -10, -9, -8, -6]]"
   ]
  },
  {
   "cell_type": "code",
   "execution_count": null,
   "metadata": {},
   "outputs": [],
   "source": []
  }
 ],
 "metadata": {
  "kernelspec": {
   "display_name": "Python 3",
   "language": "python",
   "name": "python3"
  },
  "language_info": {
   "codemirror_mode": {
    "name": "ipython",
    "version": 3
   },
   "file_extension": ".py",
   "mimetype": "text/x-python",
   "name": "python",
   "nbconvert_exporter": "python",
   "pygments_lexer": "ipython3",
   "version": "3.7.2"
  }
 },
 "nbformat": 4,
 "nbformat_minor": 2
}
